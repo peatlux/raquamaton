{
 "cells": [
  {
   "cell_type": "markdown",
   "id": "d4aaa3aa-1959-4ebc-9049-36c7d04ec700",
   "metadata": {},
   "source": [
    "# Raquamaton"
   ]
  },
  {
   "cell_type": "markdown",
   "id": "56ffb16f-26f5-4c1f-967e-f3233df958aa",
   "metadata": {},
   "source": [
    "### Basic Grid Functions"
   ]
  },
  {
   "cell_type": "code",
   "execution_count": 1,
   "id": "60ee4abe-333b-4389-b888-502659865635",
   "metadata": {
    "editable": true,
    "slideshow": {
     "slide_type": ""
    },
    "tags": []
   },
   "outputs": [],
   "source": [
    "import math\n",
    "import time\n",
    "import drawsvg\n",
    "import random\n"
   ]
  },
  {
   "cell_type": "code",
   "execution_count": 2,
   "id": "000d2436-2baf-4e50-9425-530fa447d963",
   "metadata": {},
   "outputs": [],
   "source": [
    "#DEFENITIONS\n",
    "class Bit_Generator:\n",
    "    def __next__(self):\n",
    "        return [[random.choice([0,1]) for i in range(0,9)] for j in range(0,5)]\n",
    "\n",
    "def draw_bits(example_bits, marked=None, mark_colour=None):\n",
    "    \"\"\"Draw the bits as a shaded grid, marking special points\"\"\"\n",
    "    # Understanding this code is not important to the tutorial\n",
    "    square_size = 20 # in pixels\n",
    "    drawing = drawsvg.Drawing(square_size*len(example_bits[0]), square_size*len(example_bits),)\n",
    "    for row in range(len(example_bits)):\n",
    "        for index, bit in enumerate(example_bits[row]):\n",
    "            colour = '#00e000' if bit else '#e10000'\n",
    "            rect = drawsvg.Rectangle(index*square_size,(len(example_bits)-1-row)*square_size,square_size,square_size, fill=colour)\n",
    "            drawing.append(rect)\n",
    "    if marked is None:\n",
    "        marked = []\n",
    "    for index, mark in enumerate(marked):\n",
    "        # Mark each coordinate in the list `marked`\n",
    "        x = mark[0]\n",
    "        y = mark[1]\n",
    "        colour = \"#11f\" if mark_colour is None else mark_colour\n",
    "        circle = drawsvg.Circle((x+0.5)*square_size,(len(example_bits)-0.5-y)*square_size,square_size/6, fill=colour)\n",
    "        drawing.append(circle)\n",
    "    return drawing"
   ]
  },
  {
   "cell_type": "code",
   "execution_count": 3,
   "id": "f3e8fd61-8b25-48bc-ab74-ccbf18a1f14d",
   "metadata": {},
   "outputs": [
    {
     "data": {
      "image/svg+xml": [
       "<?xml version=\"1.0\" encoding=\"UTF-8\"?>\n",
       "<svg xmlns=\"http://www.w3.org/2000/svg\" xmlns:xlink=\"http://www.w3.org/1999/xlink\"\n",
       "     width=\"180\" height=\"100\" viewBox=\"0 0 180 100\">\n",
       "<defs>\n",
       "</defs>\n",
       "<rect x=\"0\" y=\"80\" width=\"20\" height=\"20\" fill=\"#e10000\" />\n",
       "<rect x=\"20\" y=\"80\" width=\"20\" height=\"20\" fill=\"#00e000\" />\n",
       "<rect x=\"40\" y=\"80\" width=\"20\" height=\"20\" fill=\"#e10000\" />\n",
       "<rect x=\"60\" y=\"80\" width=\"20\" height=\"20\" fill=\"#00e000\" />\n",
       "<rect x=\"80\" y=\"80\" width=\"20\" height=\"20\" fill=\"#e10000\" />\n",
       "<rect x=\"100\" y=\"80\" width=\"20\" height=\"20\" fill=\"#00e000\" />\n",
       "<rect x=\"120\" y=\"80\" width=\"20\" height=\"20\" fill=\"#00e000\" />\n",
       "<rect x=\"140\" y=\"80\" width=\"20\" height=\"20\" fill=\"#00e000\" />\n",
       "<rect x=\"160\" y=\"80\" width=\"20\" height=\"20\" fill=\"#00e000\" />\n",
       "<rect x=\"0\" y=\"60\" width=\"20\" height=\"20\" fill=\"#00e000\" />\n",
       "<rect x=\"20\" y=\"60\" width=\"20\" height=\"20\" fill=\"#00e000\" />\n",
       "<rect x=\"40\" y=\"60\" width=\"20\" height=\"20\" fill=\"#00e000\" />\n",
       "<rect x=\"60\" y=\"60\" width=\"20\" height=\"20\" fill=\"#e10000\" />\n",
       "<rect x=\"80\" y=\"60\" width=\"20\" height=\"20\" fill=\"#e10000\" />\n",
       "<rect x=\"100\" y=\"60\" width=\"20\" height=\"20\" fill=\"#00e000\" />\n",
       "<rect x=\"120\" y=\"60\" width=\"20\" height=\"20\" fill=\"#e10000\" />\n",
       "<rect x=\"140\" y=\"60\" width=\"20\" height=\"20\" fill=\"#00e000\" />\n",
       "<rect x=\"160\" y=\"60\" width=\"20\" height=\"20\" fill=\"#e10000\" />\n",
       "<rect x=\"0\" y=\"40\" width=\"20\" height=\"20\" fill=\"#00e000\" />\n",
       "<rect x=\"20\" y=\"40\" width=\"20\" height=\"20\" fill=\"#00e000\" />\n",
       "<rect x=\"40\" y=\"40\" width=\"20\" height=\"20\" fill=\"#e10000\" />\n",
       "<rect x=\"60\" y=\"40\" width=\"20\" height=\"20\" fill=\"#00e000\" />\n",
       "<rect x=\"80\" y=\"40\" width=\"20\" height=\"20\" fill=\"#00e000\" />\n",
       "<rect x=\"100\" y=\"40\" width=\"20\" height=\"20\" fill=\"#e10000\" />\n",
       "<rect x=\"120\" y=\"40\" width=\"20\" height=\"20\" fill=\"#00e000\" />\n",
       "<rect x=\"140\" y=\"40\" width=\"20\" height=\"20\" fill=\"#e10000\" />\n",
       "<rect x=\"160\" y=\"40\" width=\"20\" height=\"20\" fill=\"#e10000\" />\n",
       "<rect x=\"0\" y=\"20\" width=\"20\" height=\"20\" fill=\"#00e000\" />\n",
       "<rect x=\"20\" y=\"20\" width=\"20\" height=\"20\" fill=\"#e10000\" />\n",
       "<rect x=\"40\" y=\"20\" width=\"20\" height=\"20\" fill=\"#00e000\" />\n",
       "<rect x=\"60\" y=\"20\" width=\"20\" height=\"20\" fill=\"#e10000\" />\n",
       "<rect x=\"80\" y=\"20\" width=\"20\" height=\"20\" fill=\"#00e000\" />\n",
       "<rect x=\"100\" y=\"20\" width=\"20\" height=\"20\" fill=\"#e10000\" />\n",
       "<rect x=\"120\" y=\"20\" width=\"20\" height=\"20\" fill=\"#00e000\" />\n",
       "<rect x=\"140\" y=\"20\" width=\"20\" height=\"20\" fill=\"#e10000\" />\n",
       "<rect x=\"160\" y=\"20\" width=\"20\" height=\"20\" fill=\"#e10000\" />\n",
       "<rect x=\"0\" y=\"0\" width=\"20\" height=\"20\" fill=\"#00e000\" />\n",
       "<rect x=\"20\" y=\"0\" width=\"20\" height=\"20\" fill=\"#e10000\" />\n",
       "<rect x=\"40\" y=\"0\" width=\"20\" height=\"20\" fill=\"#00e000\" />\n",
       "<rect x=\"60\" y=\"0\" width=\"20\" height=\"20\" fill=\"#e10000\" />\n",
       "<rect x=\"80\" y=\"0\" width=\"20\" height=\"20\" fill=\"#e10000\" />\n",
       "<rect x=\"100\" y=\"0\" width=\"20\" height=\"20\" fill=\"#00e000\" />\n",
       "<rect x=\"120\" y=\"0\" width=\"20\" height=\"20\" fill=\"#e10000\" />\n",
       "<rect x=\"140\" y=\"0\" width=\"20\" height=\"20\" fill=\"#00e000\" />\n",
       "<rect x=\"160\" y=\"0\" width=\"20\" height=\"20\" fill=\"#00e000\" />\n",
       "<circle cx=\"10.0\" cy=\"90.0\" r=\"3.3333333333333335\" fill=\"#11f\" />\n",
       "</svg>"
      ],
      "text/plain": [
       "<drawsvg.drawing.Drawing at 0x27e75de8d10>"
      ]
     },
     "execution_count": 3,
     "metadata": {},
     "output_type": "execute_result"
    }
   ],
   "source": [
    "#Initiation\n",
    "BG = Bit_Generator()\n",
    "example_bits = next(BG)\n",
    "example_bits\n",
    "draw_bits(example_bits,[[0,0]])"
   ]
  },
  {
   "cell_type": "code",
   "execution_count": 6,
   "id": "08e80407-48d4-4e47-8328-f3ece00138e1",
   "metadata": {},
   "outputs": [],
   "source": [
    "def draw_neighbours(bits, point):\n",
    "    \"\"\"Draw the grid of bits and mark all cells surrounding and including the named point.\"\"\"\n",
    "    neighs = [[x,y] for x in range(point[0]-1,point[0]+2) for y in range(point[1]-1,point[1]+2)]\n",
    "    return draw_bits(bits, neighs)"
   ]
  },
  {
   "cell_type": "code",
   "execution_count": 7,
   "id": "234d68c3-dd3e-4247-b6bf-bd61fca25c82",
   "metadata": {
    "scrolled": true
   },
   "outputs": [
    {
     "data": {
      "image/svg+xml": [
       "<?xml version=\"1.0\" encoding=\"UTF-8\"?>\n",
       "<svg xmlns=\"http://www.w3.org/2000/svg\" xmlns:xlink=\"http://www.w3.org/1999/xlink\"\n",
       "     width=\"180\" height=\"100\" viewBox=\"0 0 180 100\">\n",
       "<defs>\n",
       "</defs>\n",
       "<rect x=\"0\" y=\"80\" width=\"20\" height=\"20\" fill=\"#e10000\" />\n",
       "<rect x=\"20\" y=\"80\" width=\"20\" height=\"20\" fill=\"#00e000\" />\n",
       "<rect x=\"40\" y=\"80\" width=\"20\" height=\"20\" fill=\"#e10000\" />\n",
       "<rect x=\"60\" y=\"80\" width=\"20\" height=\"20\" fill=\"#00e000\" />\n",
       "<rect x=\"80\" y=\"80\" width=\"20\" height=\"20\" fill=\"#e10000\" />\n",
       "<rect x=\"100\" y=\"80\" width=\"20\" height=\"20\" fill=\"#00e000\" />\n",
       "<rect x=\"120\" y=\"80\" width=\"20\" height=\"20\" fill=\"#00e000\" />\n",
       "<rect x=\"140\" y=\"80\" width=\"20\" height=\"20\" fill=\"#00e000\" />\n",
       "<rect x=\"160\" y=\"80\" width=\"20\" height=\"20\" fill=\"#00e000\" />\n",
       "<rect x=\"0\" y=\"60\" width=\"20\" height=\"20\" fill=\"#00e000\" />\n",
       "<rect x=\"20\" y=\"60\" width=\"20\" height=\"20\" fill=\"#00e000\" />\n",
       "<rect x=\"40\" y=\"60\" width=\"20\" height=\"20\" fill=\"#00e000\" />\n",
       "<rect x=\"60\" y=\"60\" width=\"20\" height=\"20\" fill=\"#e10000\" />\n",
       "<rect x=\"80\" y=\"60\" width=\"20\" height=\"20\" fill=\"#e10000\" />\n",
       "<rect x=\"100\" y=\"60\" width=\"20\" height=\"20\" fill=\"#00e000\" />\n",
       "<rect x=\"120\" y=\"60\" width=\"20\" height=\"20\" fill=\"#e10000\" />\n",
       "<rect x=\"140\" y=\"60\" width=\"20\" height=\"20\" fill=\"#00e000\" />\n",
       "<rect x=\"160\" y=\"60\" width=\"20\" height=\"20\" fill=\"#e10000\" />\n",
       "<rect x=\"0\" y=\"40\" width=\"20\" height=\"20\" fill=\"#00e000\" />\n",
       "<rect x=\"20\" y=\"40\" width=\"20\" height=\"20\" fill=\"#00e000\" />\n",
       "<rect x=\"40\" y=\"40\" width=\"20\" height=\"20\" fill=\"#e10000\" />\n",
       "<rect x=\"60\" y=\"40\" width=\"20\" height=\"20\" fill=\"#00e000\" />\n",
       "<rect x=\"80\" y=\"40\" width=\"20\" height=\"20\" fill=\"#00e000\" />\n",
       "<rect x=\"100\" y=\"40\" width=\"20\" height=\"20\" fill=\"#e10000\" />\n",
       "<rect x=\"120\" y=\"40\" width=\"20\" height=\"20\" fill=\"#00e000\" />\n",
       "<rect x=\"140\" y=\"40\" width=\"20\" height=\"20\" fill=\"#e10000\" />\n",
       "<rect x=\"160\" y=\"40\" width=\"20\" height=\"20\" fill=\"#e10000\" />\n",
       "<rect x=\"0\" y=\"20\" width=\"20\" height=\"20\" fill=\"#00e000\" />\n",
       "<rect x=\"20\" y=\"20\" width=\"20\" height=\"20\" fill=\"#e10000\" />\n",
       "<rect x=\"40\" y=\"20\" width=\"20\" height=\"20\" fill=\"#00e000\" />\n",
       "<rect x=\"60\" y=\"20\" width=\"20\" height=\"20\" fill=\"#e10000\" />\n",
       "<rect x=\"80\" y=\"20\" width=\"20\" height=\"20\" fill=\"#00e000\" />\n",
       "<rect x=\"100\" y=\"20\" width=\"20\" height=\"20\" fill=\"#e10000\" />\n",
       "<rect x=\"120\" y=\"20\" width=\"20\" height=\"20\" fill=\"#00e000\" />\n",
       "<rect x=\"140\" y=\"20\" width=\"20\" height=\"20\" fill=\"#e10000\" />\n",
       "<rect x=\"160\" y=\"20\" width=\"20\" height=\"20\" fill=\"#e10000\" />\n",
       "<rect x=\"0\" y=\"0\" width=\"20\" height=\"20\" fill=\"#00e000\" />\n",
       "<rect x=\"20\" y=\"0\" width=\"20\" height=\"20\" fill=\"#e10000\" />\n",
       "<rect x=\"40\" y=\"0\" width=\"20\" height=\"20\" fill=\"#00e000\" />\n",
       "<rect x=\"60\" y=\"0\" width=\"20\" height=\"20\" fill=\"#e10000\" />\n",
       "<rect x=\"80\" y=\"0\" width=\"20\" height=\"20\" fill=\"#e10000\" />\n",
       "<rect x=\"100\" y=\"0\" width=\"20\" height=\"20\" fill=\"#00e000\" />\n",
       "<rect x=\"120\" y=\"0\" width=\"20\" height=\"20\" fill=\"#e10000\" />\n",
       "<rect x=\"140\" y=\"0\" width=\"20\" height=\"20\" fill=\"#00e000\" />\n",
       "<rect x=\"160\" y=\"0\" width=\"20\" height=\"20\" fill=\"#00e000\" />\n",
       "<circle cx=\"50.0\" cy=\"90.0\" r=\"3.3333333333333335\" fill=\"#11f\" />\n",
       "<circle cx=\"50.0\" cy=\"70.0\" r=\"3.3333333333333335\" fill=\"#11f\" />\n",
       "<circle cx=\"50.0\" cy=\"50.0\" r=\"3.3333333333333335\" fill=\"#11f\" />\n",
       "<circle cx=\"70.0\" cy=\"90.0\" r=\"3.3333333333333335\" fill=\"#11f\" />\n",
       "<circle cx=\"70.0\" cy=\"70.0\" r=\"3.3333333333333335\" fill=\"#11f\" />\n",
       "<circle cx=\"70.0\" cy=\"50.0\" r=\"3.3333333333333335\" fill=\"#11f\" />\n",
       "<circle cx=\"90.0\" cy=\"90.0\" r=\"3.3333333333333335\" fill=\"#11f\" />\n",
       "<circle cx=\"90.0\" cy=\"70.0\" r=\"3.3333333333333335\" fill=\"#11f\" />\n",
       "<circle cx=\"90.0\" cy=\"50.0\" r=\"3.3333333333333335\" fill=\"#11f\" />\n",
       "</svg>"
      ],
      "text/plain": [
       "<drawsvg.drawing.Drawing at 0x27e763af0d0>"
      ]
     },
     "execution_count": 7,
     "metadata": {},
     "output_type": "execute_result"
    }
   ],
   "source": [
    "draw_neighbours(example_bits,[3,1])"
   ]
  },
  {
   "cell_type": "code",
   "execution_count": 475,
   "id": "5241b9ac-b06d-4b96-84bf-4e2e331a98cf",
   "metadata": {},
   "outputs": [
    {
     "name": "stdout",
     "output_type": "stream",
     "text": [
      "cross:  {'N': 0, 'E': 0, 'S': 1, 'W': 0}   -->   [1, 1, 0, 1]   -->   sum:  3 decimal: 13\n",
      "diag:  {'NE': 1, 'SE': 1, 'SW': 0, 'NW': 1}   -->   [0, 0, 1, 0]   -->   sum:  1 decimal: 2\n"
     ]
    },
    {
     "data": {
      "image/svg+xml": [
       "<?xml version=\"1.0\" encoding=\"UTF-8\"?>\n",
       "<svg xmlns=\"http://www.w3.org/2000/svg\" xmlns:xlink=\"http://www.w3.org/1999/xlink\"\n",
       "     width=\"180\" height=\"100\" viewBox=\"0 0 180 100\">\n",
       "<defs>\n",
       "</defs>\n",
       "<rect x=\"0\" y=\"80\" width=\"20\" height=\"20\" fill=\"#e10000\" />\n",
       "<rect x=\"20\" y=\"80\" width=\"20\" height=\"20\" fill=\"#00e000\" />\n",
       "<rect x=\"40\" y=\"80\" width=\"20\" height=\"20\" fill=\"#e10000\" />\n",
       "<rect x=\"60\" y=\"80\" width=\"20\" height=\"20\" fill=\"#00e000\" />\n",
       "<rect x=\"80\" y=\"80\" width=\"20\" height=\"20\" fill=\"#e10000\" />\n",
       "<rect x=\"100\" y=\"80\" width=\"20\" height=\"20\" fill=\"#00e000\" />\n",
       "<rect x=\"120\" y=\"80\" width=\"20\" height=\"20\" fill=\"#00e000\" />\n",
       "<rect x=\"140\" y=\"80\" width=\"20\" height=\"20\" fill=\"#00e000\" />\n",
       "<rect x=\"160\" y=\"80\" width=\"20\" height=\"20\" fill=\"#00e000\" />\n",
       "<rect x=\"0\" y=\"60\" width=\"20\" height=\"20\" fill=\"#00e000\" />\n",
       "<rect x=\"20\" y=\"60\" width=\"20\" height=\"20\" fill=\"#00e000\" />\n",
       "<rect x=\"40\" y=\"60\" width=\"20\" height=\"20\" fill=\"#00e000\" />\n",
       "<rect x=\"60\" y=\"60\" width=\"20\" height=\"20\" fill=\"#e10000\" />\n",
       "<rect x=\"80\" y=\"60\" width=\"20\" height=\"20\" fill=\"#e10000\" />\n",
       "<rect x=\"100\" y=\"60\" width=\"20\" height=\"20\" fill=\"#00e000\" />\n",
       "<rect x=\"120\" y=\"60\" width=\"20\" height=\"20\" fill=\"#e10000\" />\n",
       "<rect x=\"140\" y=\"60\" width=\"20\" height=\"20\" fill=\"#00e000\" />\n",
       "<rect x=\"160\" y=\"60\" width=\"20\" height=\"20\" fill=\"#e10000\" />\n",
       "<rect x=\"0\" y=\"40\" width=\"20\" height=\"20\" fill=\"#00e000\" />\n",
       "<rect x=\"20\" y=\"40\" width=\"20\" height=\"20\" fill=\"#00e000\" />\n",
       "<rect x=\"40\" y=\"40\" width=\"20\" height=\"20\" fill=\"#e10000\" />\n",
       "<rect x=\"60\" y=\"40\" width=\"20\" height=\"20\" fill=\"#00e000\" />\n",
       "<rect x=\"80\" y=\"40\" width=\"20\" height=\"20\" fill=\"#00e000\" />\n",
       "<rect x=\"100\" y=\"40\" width=\"20\" height=\"20\" fill=\"#e10000\" />\n",
       "<rect x=\"120\" y=\"40\" width=\"20\" height=\"20\" fill=\"#00e000\" />\n",
       "<rect x=\"140\" y=\"40\" width=\"20\" height=\"20\" fill=\"#e10000\" />\n",
       "<rect x=\"160\" y=\"40\" width=\"20\" height=\"20\" fill=\"#e10000\" />\n",
       "<rect x=\"0\" y=\"20\" width=\"20\" height=\"20\" fill=\"#00e000\" />\n",
       "<rect x=\"20\" y=\"20\" width=\"20\" height=\"20\" fill=\"#e10000\" />\n",
       "<rect x=\"40\" y=\"20\" width=\"20\" height=\"20\" fill=\"#00e000\" />\n",
       "<rect x=\"60\" y=\"20\" width=\"20\" height=\"20\" fill=\"#e10000\" />\n",
       "<rect x=\"80\" y=\"20\" width=\"20\" height=\"20\" fill=\"#00e000\" />\n",
       "<rect x=\"100\" y=\"20\" width=\"20\" height=\"20\" fill=\"#e10000\" />\n",
       "<rect x=\"120\" y=\"20\" width=\"20\" height=\"20\" fill=\"#00e000\" />\n",
       "<rect x=\"140\" y=\"20\" width=\"20\" height=\"20\" fill=\"#e10000\" />\n",
       "<rect x=\"160\" y=\"20\" width=\"20\" height=\"20\" fill=\"#e10000\" />\n",
       "<rect x=\"0\" y=\"0\" width=\"20\" height=\"20\" fill=\"#00e000\" />\n",
       "<rect x=\"20\" y=\"0\" width=\"20\" height=\"20\" fill=\"#e10000\" />\n",
       "<rect x=\"40\" y=\"0\" width=\"20\" height=\"20\" fill=\"#00e000\" />\n",
       "<rect x=\"60\" y=\"0\" width=\"20\" height=\"20\" fill=\"#e10000\" />\n",
       "<rect x=\"80\" y=\"0\" width=\"20\" height=\"20\" fill=\"#e10000\" />\n",
       "<rect x=\"100\" y=\"0\" width=\"20\" height=\"20\" fill=\"#00e000\" />\n",
       "<rect x=\"120\" y=\"0\" width=\"20\" height=\"20\" fill=\"#e10000\" />\n",
       "<rect x=\"140\" y=\"0\" width=\"20\" height=\"20\" fill=\"#00e000\" />\n",
       "<rect x=\"160\" y=\"0\" width=\"20\" height=\"20\" fill=\"#00e000\" />\n",
       "<circle cx=\"90.0\" cy=\"90.0\" r=\"3.3333333333333335\" fill=\"#11f\" />\n",
       "<circle cx=\"90.0\" cy=\"70.0\" r=\"3.3333333333333335\" fill=\"#11f\" />\n",
       "<circle cx=\"90.0\" cy=\"50.0\" r=\"3.3333333333333335\" fill=\"#11f\" />\n",
       "<circle cx=\"110.0\" cy=\"90.0\" r=\"3.3333333333333335\" fill=\"#11f\" />\n",
       "<circle cx=\"110.0\" cy=\"70.0\" r=\"3.3333333333333335\" fill=\"#11f\" />\n",
       "<circle cx=\"110.0\" cy=\"50.0\" r=\"3.3333333333333335\" fill=\"#11f\" />\n",
       "<circle cx=\"130.0\" cy=\"90.0\" r=\"3.3333333333333335\" fill=\"#11f\" />\n",
       "<circle cx=\"130.0\" cy=\"70.0\" r=\"3.3333333333333335\" fill=\"#11f\" />\n",
       "<circle cx=\"130.0\" cy=\"50.0\" r=\"3.3333333333333335\" fill=\"#11f\" />\n",
       "</svg>"
      ],
      "text/plain": [
       "<drawsvg.drawing.Drawing at 0x27e2c520590>"
      ]
     },
     "execution_count": 475,
     "metadata": {},
     "output_type": "execute_result"
    }
   ],
   "source": [
    "def lookup(bit_grid, coordinates):\n",
    "    #periodic boundary conditions\n",
    "    i = coordinates[1]%len(bit_grid)\n",
    "    j = coordinates[0]%len(bit_grid[i])\n",
    "    return bit_grid[i][j]\n",
    "\n",
    "def neighbours_cross(bit_grid, coordinate):\n",
    "    x_mid = coordinate[0]\n",
    "    y_mid = coordinate[1]\n",
    "    ordered = {\"N\":lookup(bit_grid,[x_mid,y_mid+1]),\"E\":lookup(bit_grid,[x_mid+1,y_mid]),\n",
    "               \"S\":lookup(bit_grid,[x_mid,y_mid-1]),\"W\":lookup(bit_grid,[x_mid-1,y_mid])\n",
    "              }\n",
    "    return ordered\n",
    "\n",
    "def neighbours_diag(bit_grid, coordinate):\n",
    "    x_mid = coordinate[0]\n",
    "    y_mid = coordinate[1]\n",
    "    ordered = {\"NE\":lookup(bit_grid,[x_mid+1,y_mid+1]),\"SE\":lookup(bit_grid,[x_mid+1,y_mid-1]),\n",
    "               \"SW\":lookup(bit_grid,[x_mid-1,y_mid-1]),\"NW\":lookup(bit_grid,[x_mid-1,y_mid+1])\n",
    "              }\n",
    "    return ordered\n",
    "\n",
    "def bit_seq_to_int(bits):\n",
    "    return int(\"\".join(map(str, bits)),2)\n",
    "\n",
    "s = list(neighbours_diag(example_bits,[5,1]).values())\n",
    "t = list(neighbours_cross(example_bits,[5,1]).values())\n",
    "#example\n",
    "print(\"cross: \",neighbours_cross(example_bits,[5,1]), \"  -->  \",s, \"  -->  \",\"sum: \", np.array(s).sum(), \"decimal:\" , bit_seq_to_int(s))\n",
    "print(\"diag: \",neighbours_diag(example_bits,[5,1]), \"  -->  \",t, \"  -->  \",\"sum: \", np.array(t).sum(), \"decimal:\" , bit_seq_to_int(t))\n",
    "draw_neighbours(example_bits,[5,1])\n"
   ]
  },
  {
   "cell_type": "markdown",
   "id": "882e6c65-9979-4e91-a1aa-f837c2ee05d2",
   "metadata": {},
   "source": [
    "### Tesselation + Quantum Circuit = Evolution of Grid\n",
    "Big and complex algorithms tend to use to much memory in the QC simulation, so keeping it \"simple\""
   ]
  },
  {
   "cell_type": "code",
   "execution_count": 13,
   "id": "b179497a-0bdb-4ac8-9527-537565c49c3b",
   "metadata": {},
   "outputs": [],
   "source": [
    "import qiskit\n",
    "import pqca"
   ]
  },
  {
   "cell_type": "code",
   "execution_count": 383,
   "id": "7db2e648-7c23-47b9-984d-ed3cf964ac4c",
   "metadata": {},
   "outputs": [],
   "source": [
    "size = [12,4]\n",
    "initial_state = [0]*size[0]*size[1] "
   ]
  },
  {
   "cell_type": "code",
   "execution_count": 384,
   "id": "acd7d130-8ed5-4cef-9cec-992cfa4e6f17",
   "metadata": {},
   "outputs": [],
   "source": [
    "tes_1 = pqca.tessellation.n_dimensional(size,[3,2]) \n",
    "tes_2 = pqca.tessellation.n_dimensional(size,[6,1]) "
   ]
  },
  {
   "cell_type": "code",
   "execution_count": 380,
   "id": "39dee696-c8df-4b83-a373-a818da47a3b1",
   "metadata": {},
   "outputs": [
    {
     "data": {
      "text/html": [
       "<pre style=\"word-wrap: normal;white-space: pre;background: #fff0;line-height: 1.1;font-family: &quot;Courier New&quot;,Courier,monospace\">     ┌───┐\n",
       "q_0: ┤ H ├\n",
       "     ├───┤\n",
       "q_1: ┤ H ├\n",
       "     ├───┤\n",
       "q_2: ┤ H ├\n",
       "     ├───┤\n",
       "q_3: ┤ H ├\n",
       "     ├───┤\n",
       "q_4: ┤ H ├\n",
       "     ├───┤\n",
       "q_5: ┤ H ├\n",
       "     └───┘</pre>"
      ],
      "text/plain": [
       "     ┌───┐\n",
       "q_0: ┤ H ├\n",
       "     ├───┤\n",
       "q_1: ┤ H ├\n",
       "     ├───┤\n",
       "q_2: ┤ H ├\n",
       "     ├───┤\n",
       "q_3: ┤ H ├\n",
       "     ├───┤\n",
       "q_4: ┤ H ├\n",
       "     ├───┤\n",
       "q_5: ┤ H ├\n",
       "     └───┘"
      ]
     },
     "execution_count": 380,
     "metadata": {},
     "output_type": "execute_result"
    }
   ],
   "source": [
    "qs1 = 6\n",
    "qc1 = qiskit.QuantumCircuit(qs1)\n",
    "for i in range(qs1):\n",
    "    qc1.h(i)\n",
    "\n",
    "qc1.draw()"
   ]
  },
  {
   "cell_type": "code",
   "execution_count": 18,
   "id": "289ec890-19de-486e-8212-80cf6e0e18a4",
   "metadata": {},
   "outputs": [
    {
     "data": {
      "text/html": [
       "<pre style=\"word-wrap: normal;white-space: pre;background: #fff0;line-height: 1.1;font-family: &quot;Courier New&quot;,Courier,monospace\">               \n",
       "q_0: ──■───────\n",
       "     ┌─┴─┐     \n",
       "q_1: ┤ X ├─────\n",
       "     └───┘     \n",
       "q_2: ──■────■──\n",
       "       │    │  \n",
       "q_3: ──■────┼──\n",
       "          ┌─┴─┐\n",
       "q_4: ─────┤ X ├\n",
       "          └─┬─┘\n",
       "q_5: ───────■──\n",
       "               </pre>"
      ],
      "text/plain": [
       "               \n",
       "q_0: ──■───────\n",
       "     ┌─┴─┐     \n",
       "q_1: ┤ X ├─────\n",
       "     └───┘     \n",
       "q_2: ──■────■──\n",
       "       │    │  \n",
       "q_3: ──■────┼──\n",
       "          ┌─┴─┐\n",
       "q_4: ─────┤ X ├\n",
       "          └─┬─┘\n",
       "q_5: ───────■──\n",
       "               "
      ]
     },
     "execution_count": 18,
     "metadata": {},
     "output_type": "execute_result"
    }
   ],
   "source": [
    "qs2 = 6\n",
    "qc2 = qiskit.QuantumCircuit(qs2)\n",
    "qc2.cx(0,1)\n",
    "qc2.cz(3,2)\n",
    "qc2.mcx([5,2],4)\n",
    "\n",
    "qc2.draw()"
   ]
  },
  {
   "cell_type": "code",
   "execution_count": 535,
   "id": "587e7732-8758-4eab-8a2e-f4614f5e7d2a",
   "metadata": {},
   "outputs": [
    {
     "data": {
      "text/html": [
       "<pre style=\"word-wrap: normal;white-space: pre;background: #fff0;line-height: 1.1;font-family: &quot;Courier New&quot;,Courier,monospace\">      ┌───┐                                        \n",
       " q_0: ┤ H ├──■─────────────────────────────────────\n",
       "      ├───┤  │                                     \n",
       " q_1: ┤ H ├──┼────■────────────────────────────────\n",
       "      ├───┤  │    │                                \n",
       " q_2: ┤ H ├──┼────┼────■───────────────────────────\n",
       "      ├───┤  │    │    │                           \n",
       " q_3: ┤ H ├──┼────┼────┼────■──────────────────────\n",
       "      ├───┤┌─┴─┐  │    │    │                      \n",
       " q_4: ┤ H ├┤ X ├──┼────┼────┼──────────────────────\n",
       "      ├───┤└───┘┌─┴─┐  │    │                      \n",
       " q_5: ┤ H ├─────┤ X ├──┼────┼──────────────────────\n",
       "      ├───┤     └───┘┌─┴─┐  │                      \n",
       " q_6: ┤ H ├──────────┤ X ├──┼──────────────────────\n",
       "      ├───┤          └───┘┌─┴─┐                    \n",
       " q_7: ┤ H ├───────────────┤ X ├────────────────────\n",
       "      ├───┤               └───┘                    \n",
       " q_8: ┤ H ├──■───────────────────■─────────────────\n",
       "      ├───┤  │                   │                 \n",
       " q_9: ┤ H ├──┼────■──────────────┼────■────────────\n",
       "      ├───┤  │    │              │    │            \n",
       "q_10: ┤ H ├──┼────┼────■─────────┼────┼────■───────\n",
       "      ├───┤  │    │    │         │    │    │       \n",
       "q_11: ┤ H ├──┼────┼────┼────■────┼────┼────┼────■──\n",
       "      ├───┤  │    │    │    │    │    │    │    │  \n",
       "q_12: ┤ H ├──■────┼────┼────┼────┼────┼────┼────┼──\n",
       "      ├───┤       │    │    │    │    │    │    │  \n",
       "q_13: ┤ H ├───────■────┼────┼────┼────┼────┼────┼──\n",
       "      ├───┤            │    │    │    │    │    │  \n",
       "q_14: ┤ H ├────────────■────┼────┼────┼────┼────┼──\n",
       "      ├───┤                 │    │    │    │    │  \n",
       "q_15: ┤ H ├─────────────────■────┼────┼────┼────┼──\n",
       "      ├───┤                    ┌─┴─┐  │    │    │  \n",
       "q_16: ┤ H ├────────────────────┤ X ├──┼────┼────┼──\n",
       "      ├───┤                    └─┬─┘┌─┴─┐  │    │  \n",
       "q_17: ┤ H ├──────────────────────┼──┤ X ├──┼────┼──\n",
       "      ├───┤                      │  └─┬─┘┌─┴─┐  │  \n",
       "q_18: ┤ H ├──────────────────────┼────┼──┤ X ├──┼──\n",
       "      ├───┤                      │    │  └─┬─┘┌─┴─┐\n",
       "q_19: ┤ H ├──────────────────────┼────┼────┼──┤ X ├\n",
       "      ├───┤                      │    │    │  └─┬─┘\n",
       "q_20: ┤ H ├──────────────────────■────┼────┼────┼──\n",
       "      ├───┤                           │    │    │  \n",
       "q_21: ┤ H ├───────────────────────────■────┼────┼──\n",
       "      ├───┤                                │    │  \n",
       "q_22: ┤ H ├────────────────────────────────■────┼──\n",
       "      ├───┤                                     │  \n",
       "q_23: ┤ H ├─────────────────────────────────────■──\n",
       "      ├───┤                                        \n",
       "q_24: ┤ H ├──■─────────────────────────────────────\n",
       "      ├───┤  │                                     \n",
       "q_25: ┤ H ├──┼────■────────────────────────────────\n",
       "      ├───┤  │    │                                \n",
       "q_26: ┤ H ├──┼────┼────■───────────────────────────\n",
       "      ├───┤  │    │    │                           \n",
       "q_27: ┤ H ├──┼────┼────┼────■──────────────────────\n",
       "      ├───┤┌─┴─┐  │    │    │                      \n",
       "q_28: ┤ H ├┤ X ├──┼────┼────┼──────────────────────\n",
       "      ├───┤└───┘┌─┴─┐  │    │                      \n",
       "q_29: ┤ H ├─────┤ X ├──┼────┼──────────────────────\n",
       "      ├───┤     └───┘┌─┴─┐  │                      \n",
       "q_30: ┤ H ├──────────┤ X ├──┼──────────────────────\n",
       "      ├───┤          └───┘┌─┴─┐                    \n",
       "q_31: ┤ H ├───────────────┤ X ├────────────────────\n",
       "      ├───┤               └───┘                    \n",
       "q_32: ┤ H ├──■───────────────────■─────────────────\n",
       "      ├───┤  │                   │                 \n",
       "q_33: ┤ H ├──┼────■──────────────┼────■────────────\n",
       "      ├───┤  │    │              │    │            \n",
       "q_34: ┤ H ├──┼────┼────■─────────┼────┼────■───────\n",
       "      ├───┤  │    │    │         │    │    │       \n",
       "q_35: ┤ H ├──┼────┼────┼────■────┼────┼────┼────■──\n",
       "      ├───┤  │    │    │    │    │    │    │    │  \n",
       "q_36: ┤ H ├──■────┼────┼────┼────┼────┼────┼────┼──\n",
       "      ├───┤       │    │    │    │    │    │    │  \n",
       "q_37: ┤ H ├───────■────┼────┼────┼────┼────┼────┼──\n",
       "      ├───┤            │    │    │    │    │    │  \n",
       "q_38: ┤ H ├────────────■────┼────┼────┼────┼────┼──\n",
       "      ├───┤                 │    │    │    │    │  \n",
       "q_39: ┤ H ├─────────────────■────┼────┼────┼────┼──\n",
       "      ├───┤                    ┌─┴─┐  │    │    │  \n",
       "q_40: ┤ H ├────────────────────┤ X ├──┼────┼────┼──\n",
       "      ├───┤                    └─┬─┘┌─┴─┐  │    │  \n",
       "q_41: ┤ H ├──────────────────────┼──┤ X ├──┼────┼──\n",
       "      ├───┤                      │  └─┬─┘┌─┴─┐  │  \n",
       "q_42: ┤ H ├──────────────────────┼────┼──┤ X ├──┼──\n",
       "      ├───┤                      │    │  └─┬─┘┌─┴─┐\n",
       "q_43: ┤ H ├──────────────────────┼────┼────┼──┤ X ├\n",
       "      ├───┤                      │    │    │  └─┬─┘\n",
       "q_44: ┤ H ├──────────────────────■────┼────┼────┼──\n",
       "      ├───┤                           │    │    │  \n",
       "q_45: ┤ H ├───────────────────────────■────┼────┼──\n",
       "      ├───┤                                │    │  \n",
       "q_46: ┤ H ├────────────────────────────────■────┼──\n",
       "      ├───┤                                     │  \n",
       "q_47: ┤ H ├─────────────────────────────────────■──\n",
       "      └───┘                                        </pre>"
      ],
      "text/plain": [
       "      ┌───┐                                        \n",
       " q_0: ┤ H ├──■─────────────────────────────────────\n",
       "      ├───┤  │                                     \n",
       " q_1: ┤ H ├──┼────■────────────────────────────────\n",
       "      ├───┤  │    │                                \n",
       " q_2: ┤ H ├──┼────┼────■───────────────────────────\n",
       "      ├───┤  │    │    │                           \n",
       " q_3: ┤ H ├──┼────┼────┼────■──────────────────────\n",
       "      ├───┤┌─┴─┐  │    │    │                      \n",
       " q_4: ┤ H ├┤ X ├──┼────┼────┼──────────────────────\n",
       "      ├───┤└───┘┌─┴─┐  │    │                      \n",
       " q_5: ┤ H ├─────┤ X ├──┼────┼──────────────────────\n",
       "      ├───┤     └───┘┌─┴─┐  │                      \n",
       " q_6: ┤ H ├──────────┤ X ├──┼──────────────────────\n",
       "      ├───┤          └───┘┌─┴─┐                    \n",
       " q_7: ┤ H ├───────────────┤ X ├────────────────────\n",
       "      ├───┤               └───┘                    \n",
       " q_8: ┤ H ├──■───────────────────■─────────────────\n",
       "      ├───┤  │                   │                 \n",
       " q_9: ┤ H ├──┼────■──────────────┼────■────────────\n",
       "      ├───┤  │    │              │    │            \n",
       "q_10: ┤ H ├──┼────┼────■─────────┼────┼────■───────\n",
       "      ├───┤  │    │    │         │    │    │       \n",
       "q_11: ┤ H ├──┼────┼────┼────■────┼────┼────┼────■──\n",
       "      ├───┤  │    │    │    │    │    │    │    │  \n",
       "q_12: ┤ H ├──■────┼────┼────┼────┼────┼────┼────┼──\n",
       "      ├───┤       │    │    │    │    │    │    │  \n",
       "q_13: ┤ H ├───────■────┼────┼────┼────┼────┼────┼──\n",
       "      ├───┤            │    │    │    │    │    │  \n",
       "q_14: ┤ H ├────────────■────┼────┼────┼────┼────┼──\n",
       "      ├───┤                 │    │    │    │    │  \n",
       "q_15: ┤ H ├─────────────────■────┼────┼────┼────┼──\n",
       "      ├───┤                    ┌─┴─┐  │    │    │  \n",
       "q_16: ┤ H ├────────────────────┤ X ├──┼────┼────┼──\n",
       "      ├───┤                    └─┬─┘┌─┴─┐  │    │  \n",
       "q_17: ┤ H ├──────────────────────┼──┤ X ├──┼────┼──\n",
       "      ├───┤                      │  └─┬─┘┌─┴─┐  │  \n",
       "q_18: ┤ H ├──────────────────────┼────┼──┤ X ├──┼──\n",
       "      ├───┤                      │    │  └─┬─┘┌─┴─┐\n",
       "q_19: ┤ H ├──────────────────────┼────┼────┼──┤ X ├\n",
       "      ├───┤                      │    │    │  └─┬─┘\n",
       "q_20: ┤ H ├──────────────────────■────┼────┼────┼──\n",
       "      ├───┤                           │    │    │  \n",
       "q_21: ┤ H ├───────────────────────────■────┼────┼──\n",
       "      ├───┤                                │    │  \n",
       "q_22: ┤ H ├────────────────────────────────■────┼──\n",
       "      ├───┤                                     │  \n",
       "q_23: ┤ H ├─────────────────────────────────────■──\n",
       "      ├───┤                                        \n",
       "q_24: ┤ H ├──■─────────────────────────────────────\n",
       "      ├───┤  │                                     \n",
       "q_25: ┤ H ├──┼────■────────────────────────────────\n",
       "      ├───┤  │    │                                \n",
       "q_26: ┤ H ├──┼────┼────■───────────────────────────\n",
       "      ├───┤  │    │    │                           \n",
       "q_27: ┤ H ├──┼────┼────┼────■──────────────────────\n",
       "      ├───┤┌─┴─┐  │    │    │                      \n",
       "q_28: ┤ H ├┤ X ├──┼────┼────┼──────────────────────\n",
       "      ├───┤└───┘┌─┴─┐  │    │                      \n",
       "q_29: ┤ H ├─────┤ X ├──┼────┼──────────────────────\n",
       "      ├───┤     └───┘┌─┴─┐  │                      \n",
       "q_30: ┤ H ├──────────┤ X ├──┼──────────────────────\n",
       "      ├───┤          └───┘┌─┴─┐                    \n",
       "q_31: ┤ H ├───────────────┤ X ├────────────────────\n",
       "      ├───┤               └───┘                    \n",
       "q_32: ┤ H ├──■───────────────────■─────────────────\n",
       "      ├───┤  │                   │                 \n",
       "q_33: ┤ H ├──┼────■──────────────┼────■────────────\n",
       "      ├───┤  │    │              │    │            \n",
       "q_34: ┤ H ├──┼────┼────■─────────┼────┼────■───────\n",
       "      ├───┤  │    │    │         │    │    │       \n",
       "q_35: ┤ H ├──┼────┼────┼────■────┼────┼────┼────■──\n",
       "      ├───┤  │    │    │    │    │    │    │    │  \n",
       "q_36: ┤ H ├──■────┼────┼────┼────┼────┼────┼────┼──\n",
       "      ├───┤       │    │    │    │    │    │    │  \n",
       "q_37: ┤ H ├───────■────┼────┼────┼────┼────┼────┼──\n",
       "      ├───┤            │    │    │    │    │    │  \n",
       "q_38: ┤ H ├────────────■────┼────┼────┼────┼────┼──\n",
       "      ├───┤                 │    │    │    │    │  \n",
       "q_39: ┤ H ├─────────────────■────┼────┼────┼────┼──\n",
       "      ├───┤                    ┌─┴─┐  │    │    │  \n",
       "q_40: ┤ H ├────────────────────┤ X ├──┼────┼────┼──\n",
       "      ├───┤                    └─┬─┘┌─┴─┐  │    │  \n",
       "q_41: ┤ H ├──────────────────────┼──┤ X ├──┼────┼──\n",
       "      ├───┤                      │  └─┬─┘┌─┴─┐  │  \n",
       "q_42: ┤ H ├──────────────────────┼────┼──┤ X ├──┼──\n",
       "      ├───┤                      │    │  └─┬─┘┌─┴─┐\n",
       "q_43: ┤ H ├──────────────────────┼────┼────┼──┤ X ├\n",
       "      ├───┤                      │    │    │  └─┬─┘\n",
       "q_44: ┤ H ├──────────────────────■────┼────┼────┼──\n",
       "      ├───┤                           │    │    │  \n",
       "q_45: ┤ H ├───────────────────────────■────┼────┼──\n",
       "      ├───┤                                │    │  \n",
       "q_46: ┤ H ├────────────────────────────────■────┼──\n",
       "      ├───┤                                     │  \n",
       "q_47: ┤ H ├─────────────────────────────────────■──\n",
       "      └───┘                                        "
      ]
     },
     "execution_count": 535,
     "metadata": {},
     "output_type": "execute_result"
    }
   ],
   "source": [
    "update_frame_1 = pqca.UpdateFrame(tes_1, qiskit_circuit=qc1)\n",
    "update_frame_2 = pqca.UpdateFrame(tes_2,  qiskit_circuit=qc2)\n",
    "automaton = pqca.Automaton(initial_state, [update_frame_1, update_frame_2], pqca.backend.qiskit())\n",
    "automaton.update_circuit.draw()"
   ]
  },
  {
   "cell_type": "code",
   "execution_count": 477,
   "id": "006e9652-7f3e-4855-baca-1f7f55582ff9",
   "metadata": {
    "editable": true,
    "slideshow": {
     "slide_type": ""
    },
    "tags": []
   },
   "outputs": [],
   "source": [
    "class Qubit_Generator:\n",
    "    def __next__(self):\n",
    "        many_bits = next(automaton)\n",
    "        return [[many_bits[i*j] for j in range(size[0])] for i in range(size[1])]\n",
    "\n",
    "import ipywidgets\n",
    "def visualise_next_n_steps(cached_states, n):\n",
    "    def show_step(iteration):\n",
    "        return draw_bits(cached_states[iteration])\n",
    "    return ipywidgets.interact(show_step,iteration=ipywidgets.IntSlider(min=0, max=n-1, step=1, value=0))"
   ]
  },
  {
   "cell_type": "markdown",
   "id": "26ecd4b2-89bc-4e2e-8fa1-4edfc7903292",
   "metadata": {},
   "source": [
    "#### End Condition\n",
    "Evolve until repetition (by \"random\" :O)"
   ]
  },
  {
   "cell_type": "code",
   "execution_count": 536,
   "id": "127725d3-cf33-47c3-8d4b-265e324095fe",
   "metadata": {},
   "outputs": [
    {
     "data": {
      "application/vnd.jupyter.widget-view+json": {
       "model_id": "70f36cc259eb48b2a96d1cbd91b32a57",
       "version_major": 2,
       "version_minor": 0
      },
      "text/plain": [
       "interactive(children=(IntSlider(value=0, description='iteration', max=1), Output()), _dom_classes=('widget-int…"
      ]
     },
     "metadata": {},
     "output_type": "display_data"
    }
   ],
   "source": [
    "max_reps = 100\n",
    "QBG = Qubit_Generator()\n",
    "cached_states = []\n",
    "state_space = set()\n",
    "i = 0\n",
    "while i < max_reps:\n",
    "    state = next(QBG)\n",
    "    hash_state = tuple([tuple(y) for y in state])\n",
    "    if hash_state in state_space:\n",
    "        break\n",
    "    else:\n",
    "        state_space.add(hash_state)\n",
    "        cached_states.append(state)\n",
    "        i = i + 1\n",
    "\n",
    "visualise_next_n_steps(cached_states, i)\n",
    "pass"
   ]
  },
  {
   "cell_type": "markdown",
   "id": "da44ebd8-c636-4444-9821-c6c739d14aa9",
   "metadata": {},
   "source": [
    "### Bit Breakdown\n",
    "Currently:\n",
    " - 'Tabla drums' (4x4) \n",
    " - 'Sitar' (4x8)"
   ]
  },
  {
   "cell_type": "code",
   "execution_count": 390,
   "id": "d703955b-c2e2-4f3e-91c4-a654db8c8e21",
   "metadata": {},
   "outputs": [],
   "source": [
    "import numpy as np\n",
    "def bit_breakdown(bit_grid):\n",
    "    \"\"\"Split the large grid into appropriate subgrids.\"\"\"\n",
    "    return {\"tabla\": np.array([row[0:4] for row in bit_grid]),\n",
    "            \"sitar\": np.array([row[4:12] for row in bit_grid]),\n",
    "           # \"instruments\": [row[5:9] for row in bit_grid],\n",
    "    }"
   ]
  },
  {
   "cell_type": "code",
   "execution_count": 303,
   "id": "abb01da3-fb9a-488a-a793-0aaaa6956242",
   "metadata": {},
   "outputs": [],
   "source": [
    "def criss_cross_int(state):\n",
    "    #creates new arrays with binary values from neighbours to integer\n",
    "    wx = len(state)\n",
    "    wy = len(state[0])\n",
    "    cross_int = np.zeros((wx,wy))\n",
    "    diag_int = np.zeros((wx,wy))\n",
    "    for i in range(wx):\n",
    "        for j in range(wy):\n",
    "            cross_int[i,j] = bit_seq_to_int( np.array(list(neighbours_cross(state,[i,j]).values())))\n",
    "            diag_int[i,j] =  bit_seq_to_int(np.array(list(neighbours_diag(state,[i,j]).values())))\n",
    "    return {\"cross\": cross_int, \"diag\": diag_int}\n",
    "\n",
    "def criss_cross_sum(state,shift=-1):\n",
    "    #creates new arrays with summed values from neighbours\n",
    "    wx = len(state)\n",
    "    wy = len(state[0])\n",
    "    cross_sum = np.zeros((wx,wy))\n",
    "    diag_sum = np.zeros((wx,wy))\n",
    "    for i in range(wx):\n",
    "        for j in range(wy):\n",
    "            cross_sum[i,j] = np.array(list(neighbours_cross(state,[i,j]).values())).sum()+shift\n",
    "            diag_sum[i,j] =  np.array(list(neighbours_diag(state,[i,j]).values())).sum()+shift\n",
    "    return {\"cross\": cross_sum, \"diag\": diag_sum}\n",
    "\n",
    "def grid_to_seq(grid,len = 16, mod=20e3,shift = 0): \n",
    "    seq = np.array([float(i)%mod + shift if i > 0 else float(i)%-mod + shift for i in grid.flatten()])\n",
    "    return seq[0:len]"
   ]
  },
  {
   "cell_type": "markdown",
   "id": "1d4baef6-ea2c-44ab-a40f-9591863d2131",
   "metadata": {},
   "source": [
    "#### Mapping to Synth Parameters\n",
    "for tabla:\n",
    "\n",
    "    - bitgrid is onoff\n",
    "    - cross int is sample\n",
    "    - diag int is duration\n",
    "    - diag sum is amplitude\n",
    "\n",
    "for sitar:\n",
    "\n",
    "    - cross is scale\n",
    "    - diag is duration\n",
    "    - bitgrid is onoff\n",
    "    - sum (cross+diag) is octave\n",
    "    - sum(cross) - sum(diag) is glide"
   ]
  },
  {
   "cell_type": "code",
   "execution_count": 415,
   "id": "faeb1f13-9717-458b-948f-1bee493b6a89",
   "metadata": {},
   "outputs": [],
   "source": [
    "from pythonosc import udp_client\n",
    "\n",
    "# Set up the OSC client\n",
    "ip = \"127.0.0.1\"  # SuperCollider's IP address (localhost in this case)\n",
    "port = 57120  # SuperCollider's default OSC port\n",
    "client = udp_client.SimpleUDPClient(ip, port)"
   ]
  },
  {
   "cell_type": "code",
   "execution_count": 507,
   "id": "0518d498-1971-42ca-ab97-761d616d15b5",
   "metadata": {},
   "outputs": [],
   "source": [
    "from IPython.display import clear_output, display\n",
    "\n",
    "tabla_len = 16\n",
    "sitar_len = 32\n",
    "time_per_repeat = 2\n",
    "repeat_per_state = 2\n",
    "excluded_frames = set() #some frames (e.g. [12, 13]) seem to stop the synths\n",
    "\n",
    "client.send_message(\"/global/start\",0)\n",
    "\n",
    "for i,state in enumerate(cached_states):\n",
    "    if i in excluded_frames:\n",
    "        continue;\n",
    "    tabla = bit_breakdown(state)['tabla']\n",
    "    sitar = bit_breakdown(state)['sitar']\n",
    "    \n",
    "    client.send_message(\"/global/time\", time_per_repeat)\n",
    "    client.send_message(\"/tabla/onoff\", grid_to_seq(tabla,tabla_len))\n",
    "    client.send_message(\"/tabla/samparr\", grid_to_seq(criss_cross_int(tabla)['cross'],tabla_len,9))\n",
    "    client.send_message(\"/tabla/durarr\", grid_to_seq(criss_cross_int(tabla)['diag'],tabla_len))\n",
    "    client.send_message(\"/tabla/amparr\", grid_to_seq(criss_cross_sum(tabla,0)['cross'],tabla_len,6,1))\n",
    "    \n",
    "    client.send_message(\"/sitar/onoff\", grid_to_seq(sitar,sitar_len,2))               \n",
    "    client.send_message(\"/sitar/scale\", grid_to_seq(criss_cross_int(sitar)['cross'],sitar_len))\n",
    "    client.send_message(\"/sitar/durarr\", grid_to_seq(criss_cross_int(sitar)['diag'],sitar_len))\n",
    "    octave = criss_cross_sum(sitar)['cross']+criss_cross_sum(sitar)['diag']\n",
    "    octave = octave - octave.min() - 1\n",
    "    client.send_message(\"/sitar/octave\", grid_to_seq(octave,sitar_len,2,-0.1))\n",
    "    client.send_message(\"/sitar/glide\" , abs(grid_to_seq(criss_cross_sum(sitar)['cross']-criss_cross_sum(sitar)['diag'],sitar_len,3)))\n",
    "\n",
    "\n",
    "    d=draw_bits(state)\n",
    "    display(d)\n",
    "    print(\"Frame: \",i)\n",
    "    time.sleep(time_per_repeat * repeat_per_state)\n",
    "    d.clear()\n",
    "    clear_output()\n",
    "\n",
    "client.send_message(\"/global/stop\",0)\n"
   ]
  },
  {
   "cell_type": "code",
   "execution_count": 496,
   "id": "8de55dc9-d6a5-44f0-8b11-bf3223f16783",
   "metadata": {},
   "outputs": [],
   "source": [
    "client.send_message(\"/global/start\",0) #needs prep in SC"
   ]
  },
  {
   "cell_type": "code",
   "execution_count": 506,
   "id": "99b99e87-ad08-45ae-98f8-423e556969fc",
   "metadata": {},
   "outputs": [],
   "source": [
    "client.send_message(\"/global/stop\",0) #not really stopping\n"
   ]
  },
  {
   "cell_type": "code",
   "execution_count": null,
   "id": "ae830efb-2b5c-4068-9e0c-3beeec4d369c",
   "metadata": {},
   "outputs": [],
   "source": []
  }
 ],
 "metadata": {
  "experimentalDisableDocumentWideUndoRedo": true,
  "kernelspec": {
   "display_name": "quantumlife",
   "language": "python",
   "name": "quantumlife"
  },
  "language_info": {
   "codemirror_mode": {
    "name": "ipython",
    "version": 3
   },
   "file_extension": ".py",
   "mimetype": "text/x-python",
   "name": "python",
   "nbconvert_exporter": "python",
   "pygments_lexer": "ipython3",
   "version": "3.11.3"
  }
 },
 "nbformat": 4,
 "nbformat_minor": 5
}
