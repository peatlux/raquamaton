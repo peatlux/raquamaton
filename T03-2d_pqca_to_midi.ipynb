{
 "cells": [
  {
   "cell_type": "markdown",
   "id": "beautiful-melissa",
   "metadata": {},
   "source": [
    "# Synthesising music from a 2D Quantum Cellular Automaton"
   ]
  },
  {
   "cell_type": "markdown",
   "id": "imported-worst",
   "metadata": {},
   "source": [
    "This tutorial follows on from the tutorial `pqca_to_midi`. In this tutorial we will be using a more complicated automaton, and a correspondingly more complicated music synthesis procedure."
   ]
  },
  {
   "cell_type": "markdown",
   "id": "complicated-graph",
   "metadata": {},
   "source": [
    "We will be using `music21` to turns notes into chords into MusicXML."
   ]
  },
  {
   "cell_type": "code",
   "execution_count": 1,
   "id": "equivalent-aspect",
   "metadata": {},
   "outputs": [],
   "source": [
    "import music21\n",
    "import math\n",
    "import midiutil"
   ]
  },
  {
   "cell_type": "markdown",
   "id": "fewer-affiliate",
   "metadata": {},
   "source": [
    "## Starting classically"
   ]
  },
  {
   "cell_type": "markdown",
   "id": "another-paintball",
   "metadata": {},
   "source": [
    "Before constructing the automaton we will show how we will turn its output into music. We will be using a variant on the [CAMUS procedure](https://link.springer.com/chapter/10.1007/978-1-84628-600-1_8) to generate music, but all that will be explained below. We will be working with *grids* of bits of shape $9 \\times 4$.\n",
    "We aren't really using a bitstring anymore, now that it's 2D, but we will work analogously to the 1D case, and here is a bit generator that creates classically-random grids of bits of the right shape."
   ]
  },
  {
   "cell_type": "code",
   "execution_count": 2,
   "id": "broke-booth",
   "metadata": {},
   "outputs": [],
   "source": [
    "import random\n",
    "class Bit_Generator:\n",
    "    def __next__(self):\n",
    "        return [[random.choice([0,1]) for i in range(0,9)] for j in range(0,4)]\n",
    "BG = Bit_Generator()"
   ]
  },
  {
   "cell_type": "code",
   "execution_count": 5,
   "id": "fixed-cycling",
   "metadata": {},
   "outputs": [
    {
     "data": {
      "text/plain": [
       "[[0, 1, 1, 1, 1, 0, 1, 1, 0],\n",
       " [0, 0, 0, 1, 0, 0, 0, 0, 0],\n",
       " [0, 1, 1, 0, 0, 1, 1, 1, 1],\n",
       " [0, 1, 0, 1, 1, 1, 1, 0, 0]]"
      ]
     },
     "execution_count": 5,
     "metadata": {},
     "output_type": "execute_result"
    }
   ],
   "source": [
    "next(BG)"
   ]
  },
  {
   "cell_type": "markdown",
   "id": "seven-platform",
   "metadata": {},
   "source": [
    "## Drawing this state"
   ]
  },
  {
   "cell_type": "markdown",
   "id": "victorian-split",
   "metadata": {},
   "source": [
    "In earlier examples we had a _one dimensional_ automaton, meaning the state was a list of 0s and 1s. We then draw subsequent states of the automaton as subsequent rows down the page.\n",
    "Now that we have a _two dimensional_ state we will be drawing just one state at a time as a grid of squares."
   ]
  },
  {
   "cell_type": "markdown",
   "id": "violent-cloud",
   "metadata": {},
   "source": [
    "So that we can clearly indicate certain squares we will want to be able to draw coloured markers on the squares. The function below draws out this grid and also marks any squares passed via the `marked` argument."
   ]
  },
  {
   "cell_type": "code",
   "execution_count": 46,
   "id": "fuzzy-firmware",
   "metadata": {},
   "outputs": [],
   "source": [
    "import drawsvg\n",
    "def draw_bits(nine_by_four_bits, marked=None, mark_colour=None):\n",
    "    \"\"\"Draw the bits as a shaded grid, marking special points\"\"\"\n",
    "    # Understanding this code is not important to the tutorial\n",
    "    square_size = 20 # in pixels\n",
    "    drawing = drawsvg.Drawing(square_size*9, square_size*4)\n",
    "    for row in range(4):\n",
    "        for index, bit in enumerate(nine_by_four_bits[row]):\n",
    "            colour = '#00e000' if bit else '#e10000'\n",
    "            rect = drawsvg.Rectangle(index*square_size,(3-row)*square_size,square_size,square_size, fill=colour)\n",
    "            drawing.append(rect)\n",
    "    if marked is None:\n",
    "        marked = []\n",
    "    for index, mark in enumerate(marked):\n",
    "        # Mark each coordinate in the list `marked`\n",
    "        x = mark[0]\n",
    "        y = mark[1]\n",
    "        colour = \"#11f\" if mark_colour is None else mark_colour\n",
    "        circle = drawsvg.Circle((x+0.5)*square_size,(3.5-y)*square_size,square_size/6, fill=colour)\n",
    "        drawing.append(circle)\n",
    "    return drawing"
   ]
  },
  {
   "cell_type": "markdown",
   "id": "turned-supervision",
   "metadata": {},
   "source": [
    "Let's draw three of these, each drawing shows a single state of 9 by 4 bits. The first has no marked squares."
   ]
  },
  {
   "cell_type": "code",
   "execution_count": 41,
   "id": "overhead-blend",
   "metadata": {},
   "outputs": [
    {
     "data": {
      "image/svg+xml": [
       "<?xml version=\"1.0\" encoding=\"UTF-8\"?>\n",
       "<svg xmlns=\"http://www.w3.org/2000/svg\" xmlns:xlink=\"http://www.w3.org/1999/xlink\"\n",
       "     width=\"180\" height=\"80\" viewBox=\"0 0 180 80\">\n",
       "<defs>\n",
       "</defs>\n",
       "<rect x=\"0\" y=\"60\" width=\"20\" height=\"20\" fill=\"#00e000\" />\n",
       "<rect x=\"20\" y=\"60\" width=\"20\" height=\"20\" fill=\"#e30000\" />\n",
       "<rect x=\"40\" y=\"60\" width=\"20\" height=\"20\" fill=\"#e30000\" />\n",
       "<rect x=\"60\" y=\"60\" width=\"20\" height=\"20\" fill=\"#e30000\" />\n",
       "<rect x=\"80\" y=\"60\" width=\"20\" height=\"20\" fill=\"#00e000\" />\n",
       "<rect x=\"100\" y=\"60\" width=\"20\" height=\"20\" fill=\"#00e000\" />\n",
       "<rect x=\"120\" y=\"60\" width=\"20\" height=\"20\" fill=\"#e30000\" />\n",
       "<rect x=\"140\" y=\"60\" width=\"20\" height=\"20\" fill=\"#e30000\" />\n",
       "<rect x=\"160\" y=\"60\" width=\"20\" height=\"20\" fill=\"#e30000\" />\n",
       "<rect x=\"0\" y=\"40\" width=\"20\" height=\"20\" fill=\"#e30000\" />\n",
       "<rect x=\"20\" y=\"40\" width=\"20\" height=\"20\" fill=\"#e30000\" />\n",
       "<rect x=\"40\" y=\"40\" width=\"20\" height=\"20\" fill=\"#e30000\" />\n",
       "<rect x=\"60\" y=\"40\" width=\"20\" height=\"20\" fill=\"#00e000\" />\n",
       "<rect x=\"80\" y=\"40\" width=\"20\" height=\"20\" fill=\"#e30000\" />\n",
       "<rect x=\"100\" y=\"40\" width=\"20\" height=\"20\" fill=\"#00e000\" />\n",
       "<rect x=\"120\" y=\"40\" width=\"20\" height=\"20\" fill=\"#00e000\" />\n",
       "<rect x=\"140\" y=\"40\" width=\"20\" height=\"20\" fill=\"#00e000\" />\n",
       "<rect x=\"160\" y=\"40\" width=\"20\" height=\"20\" fill=\"#e30000\" />\n",
       "<rect x=\"0\" y=\"20\" width=\"20\" height=\"20\" fill=\"#00e000\" />\n",
       "<rect x=\"20\" y=\"20\" width=\"20\" height=\"20\" fill=\"#00e000\" />\n",
       "<rect x=\"40\" y=\"20\" width=\"20\" height=\"20\" fill=\"#e30000\" />\n",
       "<rect x=\"60\" y=\"20\" width=\"20\" height=\"20\" fill=\"#e30000\" />\n",
       "<rect x=\"80\" y=\"20\" width=\"20\" height=\"20\" fill=\"#00e000\" />\n",
       "<rect x=\"100\" y=\"20\" width=\"20\" height=\"20\" fill=\"#e30000\" />\n",
       "<rect x=\"120\" y=\"20\" width=\"20\" height=\"20\" fill=\"#00e000\" />\n",
       "<rect x=\"140\" y=\"20\" width=\"20\" height=\"20\" fill=\"#00e000\" />\n",
       "<rect x=\"160\" y=\"20\" width=\"20\" height=\"20\" fill=\"#e30000\" />\n",
       "<rect x=\"0\" y=\"0\" width=\"20\" height=\"20\" fill=\"#00e000\" />\n",
       "<rect x=\"20\" y=\"0\" width=\"20\" height=\"20\" fill=\"#e30000\" />\n",
       "<rect x=\"40\" y=\"0\" width=\"20\" height=\"20\" fill=\"#e30000\" />\n",
       "<rect x=\"60\" y=\"0\" width=\"20\" height=\"20\" fill=\"#00e000\" />\n",
       "<rect x=\"80\" y=\"0\" width=\"20\" height=\"20\" fill=\"#00e000\" />\n",
       "<rect x=\"100\" y=\"0\" width=\"20\" height=\"20\" fill=\"#e30000\" />\n",
       "<rect x=\"120\" y=\"0\" width=\"20\" height=\"20\" fill=\"#e30000\" />\n",
       "<rect x=\"140\" y=\"0\" width=\"20\" height=\"20\" fill=\"#e30000\" />\n",
       "<rect x=\"160\" y=\"0\" width=\"20\" height=\"20\" fill=\"#e30000\" />\n",
       "</svg>"
      ],
      "text/plain": [
       "<drawsvg.drawing.Drawing at 0x1cca87a9890>"
      ]
     },
     "execution_count": 41,
     "metadata": {},
     "output_type": "execute_result"
    }
   ],
   "source": [
    "draw_bits(next(BG))"
   ]
  },
  {
   "cell_type": "markdown",
   "id": "mobile-blink",
   "metadata": {},
   "source": [
    "For the next one we will mark point `[0,0]`, which is the top left hand corner. Recall that arrays start at 0 in python."
   ]
  },
  {
   "cell_type": "code",
   "execution_count": 42,
   "id": "confidential-nigeria",
   "metadata": {},
   "outputs": [
    {
     "data": {
      "image/svg+xml": [
       "<?xml version=\"1.0\" encoding=\"UTF-8\"?>\n",
       "<svg xmlns=\"http://www.w3.org/2000/svg\" xmlns:xlink=\"http://www.w3.org/1999/xlink\"\n",
       "     width=\"180\" height=\"80\" viewBox=\"0 0 180 80\">\n",
       "<defs>\n",
       "</defs>\n",
       "<rect x=\"0\" y=\"60\" width=\"20\" height=\"20\" fill=\"#00e000\" />\n",
       "<rect x=\"20\" y=\"60\" width=\"20\" height=\"20\" fill=\"#e30000\" />\n",
       "<rect x=\"40\" y=\"60\" width=\"20\" height=\"20\" fill=\"#00e000\" />\n",
       "<rect x=\"60\" y=\"60\" width=\"20\" height=\"20\" fill=\"#e30000\" />\n",
       "<rect x=\"80\" y=\"60\" width=\"20\" height=\"20\" fill=\"#00e000\" />\n",
       "<rect x=\"100\" y=\"60\" width=\"20\" height=\"20\" fill=\"#e30000\" />\n",
       "<rect x=\"120\" y=\"60\" width=\"20\" height=\"20\" fill=\"#e30000\" />\n",
       "<rect x=\"140\" y=\"60\" width=\"20\" height=\"20\" fill=\"#e30000\" />\n",
       "<rect x=\"160\" y=\"60\" width=\"20\" height=\"20\" fill=\"#00e000\" />\n",
       "<rect x=\"0\" y=\"40\" width=\"20\" height=\"20\" fill=\"#00e000\" />\n",
       "<rect x=\"20\" y=\"40\" width=\"20\" height=\"20\" fill=\"#e30000\" />\n",
       "<rect x=\"40\" y=\"40\" width=\"20\" height=\"20\" fill=\"#00e000\" />\n",
       "<rect x=\"60\" y=\"40\" width=\"20\" height=\"20\" fill=\"#00e000\" />\n",
       "<rect x=\"80\" y=\"40\" width=\"20\" height=\"20\" fill=\"#00e000\" />\n",
       "<rect x=\"100\" y=\"40\" width=\"20\" height=\"20\" fill=\"#00e000\" />\n",
       "<rect x=\"120\" y=\"40\" width=\"20\" height=\"20\" fill=\"#00e000\" />\n",
       "<rect x=\"140\" y=\"40\" width=\"20\" height=\"20\" fill=\"#e30000\" />\n",
       "<rect x=\"160\" y=\"40\" width=\"20\" height=\"20\" fill=\"#e30000\" />\n",
       "<rect x=\"0\" y=\"20\" width=\"20\" height=\"20\" fill=\"#00e000\" />\n",
       "<rect x=\"20\" y=\"20\" width=\"20\" height=\"20\" fill=\"#e30000\" />\n",
       "<rect x=\"40\" y=\"20\" width=\"20\" height=\"20\" fill=\"#00e000\" />\n",
       "<rect x=\"60\" y=\"20\" width=\"20\" height=\"20\" fill=\"#e30000\" />\n",
       "<rect x=\"80\" y=\"20\" width=\"20\" height=\"20\" fill=\"#00e000\" />\n",
       "<rect x=\"100\" y=\"20\" width=\"20\" height=\"20\" fill=\"#00e000\" />\n",
       "<rect x=\"120\" y=\"20\" width=\"20\" height=\"20\" fill=\"#e30000\" />\n",
       "<rect x=\"140\" y=\"20\" width=\"20\" height=\"20\" fill=\"#00e000\" />\n",
       "<rect x=\"160\" y=\"20\" width=\"20\" height=\"20\" fill=\"#e30000\" />\n",
       "<rect x=\"0\" y=\"0\" width=\"20\" height=\"20\" fill=\"#e30000\" />\n",
       "<rect x=\"20\" y=\"0\" width=\"20\" height=\"20\" fill=\"#e30000\" />\n",
       "<rect x=\"40\" y=\"0\" width=\"20\" height=\"20\" fill=\"#e30000\" />\n",
       "<rect x=\"60\" y=\"0\" width=\"20\" height=\"20\" fill=\"#00e000\" />\n",
       "<rect x=\"80\" y=\"0\" width=\"20\" height=\"20\" fill=\"#e30000\" />\n",
       "<rect x=\"100\" y=\"0\" width=\"20\" height=\"20\" fill=\"#e30000\" />\n",
       "<rect x=\"120\" y=\"0\" width=\"20\" height=\"20\" fill=\"#e30000\" />\n",
       "<rect x=\"140\" y=\"0\" width=\"20\" height=\"20\" fill=\"#e30000\" />\n",
       "<rect x=\"160\" y=\"0\" width=\"20\" height=\"20\" fill=\"#e30000\" />\n",
       "<circle cx=\"10.0\" cy=\"70.0\" r=\"3.3333333333333335\" fill=\"#11f\" />\n",
       "</svg>"
      ],
      "text/plain": [
       "<drawsvg.drawing.Drawing at 0x1cca87c1010>"
      ]
     },
     "execution_count": 42,
     "metadata": {},
     "output_type": "execute_result"
    }
   ],
   "source": [
    "draw_bits(next(BG), [[0,0]])"
   ]
  },
  {
   "cell_type": "markdown",
   "id": "chief-canada",
   "metadata": {},
   "source": [
    "And for this one we will mark `[1,1]` which is one in and one down from the top left, and also `[8,3]` which is the bottom right hand corner."
   ]
  },
  {
   "cell_type": "code",
   "execution_count": 43,
   "id": "lesbian-material",
   "metadata": {},
   "outputs": [
    {
     "data": {
      "image/svg+xml": [
       "<?xml version=\"1.0\" encoding=\"UTF-8\"?>\n",
       "<svg xmlns=\"http://www.w3.org/2000/svg\" xmlns:xlink=\"http://www.w3.org/1999/xlink\"\n",
       "     width=\"180\" height=\"80\" viewBox=\"0 0 180 80\">\n",
       "<defs>\n",
       "</defs>\n",
       "<rect x=\"0\" y=\"60\" width=\"20\" height=\"20\" fill=\"#e30000\" />\n",
       "<rect x=\"20\" y=\"60\" width=\"20\" height=\"20\" fill=\"#e30000\" />\n",
       "<rect x=\"40\" y=\"60\" width=\"20\" height=\"20\" fill=\"#00e000\" />\n",
       "<rect x=\"60\" y=\"60\" width=\"20\" height=\"20\" fill=\"#00e000\" />\n",
       "<rect x=\"80\" y=\"60\" width=\"20\" height=\"20\" fill=\"#e30000\" />\n",
       "<rect x=\"100\" y=\"60\" width=\"20\" height=\"20\" fill=\"#00e000\" />\n",
       "<rect x=\"120\" y=\"60\" width=\"20\" height=\"20\" fill=\"#00e000\" />\n",
       "<rect x=\"140\" y=\"60\" width=\"20\" height=\"20\" fill=\"#e30000\" />\n",
       "<rect x=\"160\" y=\"60\" width=\"20\" height=\"20\" fill=\"#00e000\" />\n",
       "<rect x=\"0\" y=\"40\" width=\"20\" height=\"20\" fill=\"#e30000\" />\n",
       "<rect x=\"20\" y=\"40\" width=\"20\" height=\"20\" fill=\"#e30000\" />\n",
       "<rect x=\"40\" y=\"40\" width=\"20\" height=\"20\" fill=\"#00e000\" />\n",
       "<rect x=\"60\" y=\"40\" width=\"20\" height=\"20\" fill=\"#00e000\" />\n",
       "<rect x=\"80\" y=\"40\" width=\"20\" height=\"20\" fill=\"#e30000\" />\n",
       "<rect x=\"100\" y=\"40\" width=\"20\" height=\"20\" fill=\"#00e000\" />\n",
       "<rect x=\"120\" y=\"40\" width=\"20\" height=\"20\" fill=\"#e30000\" />\n",
       "<rect x=\"140\" y=\"40\" width=\"20\" height=\"20\" fill=\"#00e000\" />\n",
       "<rect x=\"160\" y=\"40\" width=\"20\" height=\"20\" fill=\"#00e000\" />\n",
       "<rect x=\"0\" y=\"20\" width=\"20\" height=\"20\" fill=\"#e30000\" />\n",
       "<rect x=\"20\" y=\"20\" width=\"20\" height=\"20\" fill=\"#e30000\" />\n",
       "<rect x=\"40\" y=\"20\" width=\"20\" height=\"20\" fill=\"#00e000\" />\n",
       "<rect x=\"60\" y=\"20\" width=\"20\" height=\"20\" fill=\"#e30000\" />\n",
       "<rect x=\"80\" y=\"20\" width=\"20\" height=\"20\" fill=\"#e30000\" />\n",
       "<rect x=\"100\" y=\"20\" width=\"20\" height=\"20\" fill=\"#00e000\" />\n",
       "<rect x=\"120\" y=\"20\" width=\"20\" height=\"20\" fill=\"#00e000\" />\n",
       "<rect x=\"140\" y=\"20\" width=\"20\" height=\"20\" fill=\"#00e000\" />\n",
       "<rect x=\"160\" y=\"20\" width=\"20\" height=\"20\" fill=\"#00e000\" />\n",
       "<rect x=\"0\" y=\"0\" width=\"20\" height=\"20\" fill=\"#00e000\" />\n",
       "<rect x=\"20\" y=\"0\" width=\"20\" height=\"20\" fill=\"#e30000\" />\n",
       "<rect x=\"40\" y=\"0\" width=\"20\" height=\"20\" fill=\"#00e000\" />\n",
       "<rect x=\"60\" y=\"0\" width=\"20\" height=\"20\" fill=\"#e30000\" />\n",
       "<rect x=\"80\" y=\"0\" width=\"20\" height=\"20\" fill=\"#00e000\" />\n",
       "<rect x=\"100\" y=\"0\" width=\"20\" height=\"20\" fill=\"#e30000\" />\n",
       "<rect x=\"120\" y=\"0\" width=\"20\" height=\"20\" fill=\"#e30000\" />\n",
       "<rect x=\"140\" y=\"0\" width=\"20\" height=\"20\" fill=\"#00e000\" />\n",
       "<rect x=\"160\" y=\"0\" width=\"20\" height=\"20\" fill=\"#00e000\" />\n",
       "<circle cx=\"30.0\" cy=\"50.0\" r=\"3.3333333333333335\" fill=\"#11f\" />\n",
       "<circle cx=\"170.0\" cy=\"10.0\" r=\"3.3333333333333335\" fill=\"#11f\" />\n",
       "</svg>"
      ],
      "text/plain": [
       "<drawsvg.drawing.Drawing at 0x1cca87c3b50>"
      ]
     },
     "execution_count": 43,
     "metadata": {},
     "output_type": "execute_result"
    }
   ],
   "source": [
    "draw_bits(next(BG), [[1,1], [8,3]])"
   ]
  },
  {
   "cell_type": "markdown",
   "id": "nearby-triangle",
   "metadata": {},
   "source": [
    "# From a grid of bits to music"
   ]
  },
  {
   "cell_type": "markdown",
   "id": "available-accused",
   "metadata": {},
   "source": [
    "Here we describe (a variant on) the CAMUS protocol for music synthesis."
   ]
  },
  {
   "cell_type": "markdown",
   "id": "offensive-pavilion",
   "metadata": {},
   "source": [
    "Each grid will determine _a sequence of triads_, rather than a single chord as in the 1D case. How many triads depends on how many $1$s are in the relevant part of the grid. This grid will be split into three parts:\n",
    " - The first column dictates the fundamental of this sequence of triads\n",
    " - The next 4 columns describe a sequence of triads by way of intervals above the fundamental\n",
    " - The final 4 columns describe which instrument will play the notes\n",
    "\n",
    "The timings of the voices in the triads will be determined in a way we cover later on."
   ]
  },
  {
   "cell_type": "markdown",
   "id": "interim-river",
   "metadata": {},
   "source": [
    "![A diagram showing how the grid of bits is split under CAMUS](images/split_CAMUS.svg)"
   ]
  },
  {
   "cell_type": "markdown",
   "id": "rural-cigarette",
   "metadata": {},
   "source": [
    "## Showing this on a grid"
   ]
  },
  {
   "cell_type": "markdown",
   "id": "encouraging-offering",
   "metadata": {},
   "source": [
    "To illustrate this we will fix an example 9 by 4 grid."
   ]
  },
  {
   "cell_type": "code",
   "execution_count": 49,
   "id": "public-foundation",
   "metadata": {},
   "outputs": [
    {
     "data": {
      "text/plain": [
       "[[1, 0, 1, 0, 0, 0, 0, 1, 0],\n",
       " [1, 0, 0, 0, 1, 1, 0, 0, 1],\n",
       " [0, 1, 1, 1, 0, 1, 0, 1, 1],\n",
       " [1, 0, 0, 1, 0, 1, 0, 0, 1]]"
      ]
     },
     "execution_count": 49,
     "metadata": {},
     "output_type": "execute_result"
    }
   ],
   "source": []
  },
  {
   "cell_type": "markdown",
   "id": "after-drama",
   "metadata": {},
   "source": [
    "What does this look like?"
   ]
  },
  {
   "cell_type": "code",
   "execution_count": 57,
   "id": "hungarian-store",
   "metadata": {},
   "outputs": [
    {
     "data": {
      "image/svg+xml": [
       "<?xml version=\"1.0\" encoding=\"UTF-8\"?>\n",
       "<svg xmlns=\"http://www.w3.org/2000/svg\" xmlns:xlink=\"http://www.w3.org/1999/xlink\"\n",
       "     width=\"180\" height=\"80\" viewBox=\"0 0 180 80\">\n",
       "<defs>\n",
       "</defs>\n",
       "<rect x=\"0\" y=\"60\" width=\"20\" height=\"20\" fill=\"#00e000\" />\n",
       "<rect x=\"20\" y=\"60\" width=\"20\" height=\"20\" fill=\"#e10000\" />\n",
       "<rect x=\"40\" y=\"60\" width=\"20\" height=\"20\" fill=\"#00e000\" />\n",
       "<rect x=\"60\" y=\"60\" width=\"20\" height=\"20\" fill=\"#e10000\" />\n",
       "<rect x=\"80\" y=\"60\" width=\"20\" height=\"20\" fill=\"#e10000\" />\n",
       "<rect x=\"100\" y=\"60\" width=\"20\" height=\"20\" fill=\"#e10000\" />\n",
       "<rect x=\"120\" y=\"60\" width=\"20\" height=\"20\" fill=\"#e10000\" />\n",
       "<rect x=\"140\" y=\"60\" width=\"20\" height=\"20\" fill=\"#00e000\" />\n",
       "<rect x=\"160\" y=\"60\" width=\"20\" height=\"20\" fill=\"#e10000\" />\n",
       "<rect x=\"0\" y=\"40\" width=\"20\" height=\"20\" fill=\"#00e000\" />\n",
       "<rect x=\"20\" y=\"40\" width=\"20\" height=\"20\" fill=\"#e10000\" />\n",
       "<rect x=\"40\" y=\"40\" width=\"20\" height=\"20\" fill=\"#e10000\" />\n",
       "<rect x=\"60\" y=\"40\" width=\"20\" height=\"20\" fill=\"#e10000\" />\n",
       "<rect x=\"80\" y=\"40\" width=\"20\" height=\"20\" fill=\"#00e000\" />\n",
       "<rect x=\"100\" y=\"40\" width=\"20\" height=\"20\" fill=\"#00e000\" />\n",
       "<rect x=\"120\" y=\"40\" width=\"20\" height=\"20\" fill=\"#e10000\" />\n",
       "<rect x=\"140\" y=\"40\" width=\"20\" height=\"20\" fill=\"#e10000\" />\n",
       "<rect x=\"160\" y=\"40\" width=\"20\" height=\"20\" fill=\"#00e000\" />\n",
       "<rect x=\"0\" y=\"20\" width=\"20\" height=\"20\" fill=\"#e10000\" />\n",
       "<rect x=\"20\" y=\"20\" width=\"20\" height=\"20\" fill=\"#00e000\" />\n",
       "<rect x=\"40\" y=\"20\" width=\"20\" height=\"20\" fill=\"#00e000\" />\n",
       "<rect x=\"60\" y=\"20\" width=\"20\" height=\"20\" fill=\"#00e000\" />\n",
       "<rect x=\"80\" y=\"20\" width=\"20\" height=\"20\" fill=\"#e10000\" />\n",
       "<rect x=\"100\" y=\"20\" width=\"20\" height=\"20\" fill=\"#00e000\" />\n",
       "<rect x=\"120\" y=\"20\" width=\"20\" height=\"20\" fill=\"#e10000\" />\n",
       "<rect x=\"140\" y=\"20\" width=\"20\" height=\"20\" fill=\"#00e000\" />\n",
       "<rect x=\"160\" y=\"20\" width=\"20\" height=\"20\" fill=\"#00e000\" />\n",
       "<rect x=\"0\" y=\"0\" width=\"20\" height=\"20\" fill=\"#00e000\" />\n",
       "<rect x=\"20\" y=\"0\" width=\"20\" height=\"20\" fill=\"#e10000\" />\n",
       "<rect x=\"40\" y=\"0\" width=\"20\" height=\"20\" fill=\"#e10000\" />\n",
       "<rect x=\"60\" y=\"0\" width=\"20\" height=\"20\" fill=\"#00e000\" />\n",
       "<rect x=\"80\" y=\"0\" width=\"20\" height=\"20\" fill=\"#e10000\" />\n",
       "<rect x=\"100\" y=\"0\" width=\"20\" height=\"20\" fill=\"#00e000\" />\n",
       "<rect x=\"120\" y=\"0\" width=\"20\" height=\"20\" fill=\"#e10000\" />\n",
       "<rect x=\"140\" y=\"0\" width=\"20\" height=\"20\" fill=\"#e10000\" />\n",
       "<rect x=\"160\" y=\"0\" width=\"20\" height=\"20\" fill=\"#00e000\" />\n",
       "</svg>"
      ],
      "text/plain": [
       "<drawsvg.drawing.Drawing at 0x1cca8814a50>"
      ]
     },
     "execution_count": 57,
     "metadata": {},
     "output_type": "execute_result"
    }
   ],
   "source": [
    "draw_bits(example_bits)"
   ]
  },
  {
   "cell_type": "markdown",
   "id": "extraordinary-marriage",
   "metadata": {},
   "source": [
    "These bits determine the fundamental:"
   ]
  },
  {
   "cell_type": "code",
   "execution_count": 56,
   "id": "short-tooth",
   "metadata": {},
   "outputs": [
    {
     "data": {
      "image/svg+xml": [
       "<?xml version=\"1.0\" encoding=\"UTF-8\"?>\n",
       "<svg xmlns=\"http://www.w3.org/2000/svg\" xmlns:xlink=\"http://www.w3.org/1999/xlink\"\n",
       "     width=\"180\" height=\"80\" viewBox=\"0 0 180 80\">\n",
       "<defs>\n",
       "</defs>\n",
       "<rect x=\"0\" y=\"60\" width=\"20\" height=\"20\" fill=\"#00e000\" />\n",
       "<rect x=\"20\" y=\"60\" width=\"20\" height=\"20\" fill=\"#e10000\" />\n",
       "<rect x=\"40\" y=\"60\" width=\"20\" height=\"20\" fill=\"#00e000\" />\n",
       "<rect x=\"60\" y=\"60\" width=\"20\" height=\"20\" fill=\"#e10000\" />\n",
       "<rect x=\"80\" y=\"60\" width=\"20\" height=\"20\" fill=\"#e10000\" />\n",
       "<rect x=\"100\" y=\"60\" width=\"20\" height=\"20\" fill=\"#e10000\" />\n",
       "<rect x=\"120\" y=\"60\" width=\"20\" height=\"20\" fill=\"#e10000\" />\n",
       "<rect x=\"140\" y=\"60\" width=\"20\" height=\"20\" fill=\"#00e000\" />\n",
       "<rect x=\"160\" y=\"60\" width=\"20\" height=\"20\" fill=\"#e10000\" />\n",
       "<rect x=\"0\" y=\"40\" width=\"20\" height=\"20\" fill=\"#00e000\" />\n",
       "<rect x=\"20\" y=\"40\" width=\"20\" height=\"20\" fill=\"#e10000\" />\n",
       "<rect x=\"40\" y=\"40\" width=\"20\" height=\"20\" fill=\"#e10000\" />\n",
       "<rect x=\"60\" y=\"40\" width=\"20\" height=\"20\" fill=\"#e10000\" />\n",
       "<rect x=\"80\" y=\"40\" width=\"20\" height=\"20\" fill=\"#00e000\" />\n",
       "<rect x=\"100\" y=\"40\" width=\"20\" height=\"20\" fill=\"#00e000\" />\n",
       "<rect x=\"120\" y=\"40\" width=\"20\" height=\"20\" fill=\"#e10000\" />\n",
       "<rect x=\"140\" y=\"40\" width=\"20\" height=\"20\" fill=\"#e10000\" />\n",
       "<rect x=\"160\" y=\"40\" width=\"20\" height=\"20\" fill=\"#00e000\" />\n",
       "<rect x=\"0\" y=\"20\" width=\"20\" height=\"20\" fill=\"#e10000\" />\n",
       "<rect x=\"20\" y=\"20\" width=\"20\" height=\"20\" fill=\"#00e000\" />\n",
       "<rect x=\"40\" y=\"20\" width=\"20\" height=\"20\" fill=\"#00e000\" />\n",
       "<rect x=\"60\" y=\"20\" width=\"20\" height=\"20\" fill=\"#00e000\" />\n",
       "<rect x=\"80\" y=\"20\" width=\"20\" height=\"20\" fill=\"#e10000\" />\n",
       "<rect x=\"100\" y=\"20\" width=\"20\" height=\"20\" fill=\"#00e000\" />\n",
       "<rect x=\"120\" y=\"20\" width=\"20\" height=\"20\" fill=\"#e10000\" />\n",
       "<rect x=\"140\" y=\"20\" width=\"20\" height=\"20\" fill=\"#00e000\" />\n",
       "<rect x=\"160\" y=\"20\" width=\"20\" height=\"20\" fill=\"#00e000\" />\n",
       "<rect x=\"0\" y=\"0\" width=\"20\" height=\"20\" fill=\"#00e000\" />\n",
       "<rect x=\"20\" y=\"0\" width=\"20\" height=\"20\" fill=\"#e10000\" />\n",
       "<rect x=\"40\" y=\"0\" width=\"20\" height=\"20\" fill=\"#e10000\" />\n",
       "<rect x=\"60\" y=\"0\" width=\"20\" height=\"20\" fill=\"#00e000\" />\n",
       "<rect x=\"80\" y=\"0\" width=\"20\" height=\"20\" fill=\"#e10000\" />\n",
       "<rect x=\"100\" y=\"0\" width=\"20\" height=\"20\" fill=\"#00e000\" />\n",
       "<rect x=\"120\" y=\"0\" width=\"20\" height=\"20\" fill=\"#e10000\" />\n",
       "<rect x=\"140\" y=\"0\" width=\"20\" height=\"20\" fill=\"#e10000\" />\n",
       "<rect x=\"160\" y=\"0\" width=\"20\" height=\"20\" fill=\"#00e000\" />\n",
       "<circle cx=\"10.0\" cy=\"70.0\" r=\"3.3333333333333335\" fill=\"red\" />\n",
       "<circle cx=\"10.0\" cy=\"50.0\" r=\"3.3333333333333335\" fill=\"red\" />\n",
       "<circle cx=\"10.0\" cy=\"30.0\" r=\"3.3333333333333335\" fill=\"red\" />\n",
       "<circle cx=\"10.0\" cy=\"10.0\" r=\"3.3333333333333335\" fill=\"red\" />\n",
       "</svg>"
      ],
      "text/plain": [
       "<drawsvg.drawing.Drawing at 0x1cca70f3b50>"
      ]
     },
     "execution_count": 56,
     "metadata": {},
     "output_type": "execute_result"
    }
   ],
   "source": [
    "draw_bits(example_bits, [[0, row] for row in range(0,4)], \"red\")"
   ]
  },
  {
   "cell_type": "markdown",
   "id": "indian-batman",
   "metadata": {},
   "source": [
    "This 4 by 4 subgrid determines the triads."
   ]
  },
  {
   "cell_type": "code",
   "execution_count": 163,
   "id": "embedded-bankruptcy",
   "metadata": {
    "editable": true,
    "slideshow": {
     "slide_type": ""
    },
    "tags": []
   },
   "outputs": [
    {
     "data": {
      "image/svg+xml": [
       "<?xml version=\"1.0\" encoding=\"UTF-8\"?>\n",
       "<svg xmlns=\"http://www.w3.org/2000/svg\" xmlns:xlink=\"http://www.w3.org/1999/xlink\"\n",
       "     width=\"180\" height=\"80\" viewBox=\"0 0 180 80\">\n",
       "<defs>\n",
       "</defs>\n",
       "<rect x=\"0\" y=\"60\" width=\"20\" height=\"20\" fill=\"#00e000\" />\n",
       "<rect x=\"20\" y=\"60\" width=\"20\" height=\"20\" fill=\"#e10000\" />\n",
       "<rect x=\"40\" y=\"60\" width=\"20\" height=\"20\" fill=\"#00e000\" />\n",
       "<rect x=\"60\" y=\"60\" width=\"20\" height=\"20\" fill=\"#e10000\" />\n",
       "<rect x=\"80\" y=\"60\" width=\"20\" height=\"20\" fill=\"#e10000\" />\n",
       "<rect x=\"100\" y=\"60\" width=\"20\" height=\"20\" fill=\"#e10000\" />\n",
       "<rect x=\"120\" y=\"60\" width=\"20\" height=\"20\" fill=\"#e10000\" />\n",
       "<rect x=\"140\" y=\"60\" width=\"20\" height=\"20\" fill=\"#00e000\" />\n",
       "<rect x=\"160\" y=\"60\" width=\"20\" height=\"20\" fill=\"#e10000\" />\n",
       "<rect x=\"0\" y=\"40\" width=\"20\" height=\"20\" fill=\"#00e000\" />\n",
       "<rect x=\"20\" y=\"40\" width=\"20\" height=\"20\" fill=\"#e10000\" />\n",
       "<rect x=\"40\" y=\"40\" width=\"20\" height=\"20\" fill=\"#e10000\" />\n",
       "<rect x=\"60\" y=\"40\" width=\"20\" height=\"20\" fill=\"#e10000\" />\n",
       "<rect x=\"80\" y=\"40\" width=\"20\" height=\"20\" fill=\"#00e000\" />\n",
       "<rect x=\"100\" y=\"40\" width=\"20\" height=\"20\" fill=\"#00e000\" />\n",
       "<rect x=\"120\" y=\"40\" width=\"20\" height=\"20\" fill=\"#e10000\" />\n",
       "<rect x=\"140\" y=\"40\" width=\"20\" height=\"20\" fill=\"#e10000\" />\n",
       "<rect x=\"160\" y=\"40\" width=\"20\" height=\"20\" fill=\"#00e000\" />\n",
       "<rect x=\"0\" y=\"20\" width=\"20\" height=\"20\" fill=\"#e10000\" />\n",
       "<rect x=\"20\" y=\"20\" width=\"20\" height=\"20\" fill=\"#00e000\" />\n",
       "<rect x=\"40\" y=\"20\" width=\"20\" height=\"20\" fill=\"#00e000\" />\n",
       "<rect x=\"60\" y=\"20\" width=\"20\" height=\"20\" fill=\"#00e000\" />\n",
       "<rect x=\"80\" y=\"20\" width=\"20\" height=\"20\" fill=\"#e10000\" />\n",
       "<rect x=\"100\" y=\"20\" width=\"20\" height=\"20\" fill=\"#00e000\" />\n",
       "<rect x=\"120\" y=\"20\" width=\"20\" height=\"20\" fill=\"#e10000\" />\n",
       "<rect x=\"140\" y=\"20\" width=\"20\" height=\"20\" fill=\"#00e000\" />\n",
       "<rect x=\"160\" y=\"20\" width=\"20\" height=\"20\" fill=\"#00e000\" />\n",
       "<rect x=\"0\" y=\"0\" width=\"20\" height=\"20\" fill=\"#00e000\" />\n",
       "<rect x=\"20\" y=\"0\" width=\"20\" height=\"20\" fill=\"#e10000\" />\n",
       "<rect x=\"40\" y=\"0\" width=\"20\" height=\"20\" fill=\"#e10000\" />\n",
       "<rect x=\"60\" y=\"0\" width=\"20\" height=\"20\" fill=\"#00e000\" />\n",
       "<rect x=\"80\" y=\"0\" width=\"20\" height=\"20\" fill=\"#e10000\" />\n",
       "<rect x=\"100\" y=\"0\" width=\"20\" height=\"20\" fill=\"#00e000\" />\n",
       "<rect x=\"120\" y=\"0\" width=\"20\" height=\"20\" fill=\"#e10000\" />\n",
       "<rect x=\"140\" y=\"0\" width=\"20\" height=\"20\" fill=\"#e10000\" />\n",
       "<rect x=\"160\" y=\"0\" width=\"20\" height=\"20\" fill=\"#00e000\" />\n",
       "<circle cx=\"30.0\" cy=\"70.0\" r=\"3.3333333333333335\" fill=\"green\" />\n",
       "<circle cx=\"30.0\" cy=\"50.0\" r=\"3.3333333333333335\" fill=\"green\" />\n",
       "<circle cx=\"30.0\" cy=\"30.0\" r=\"3.3333333333333335\" fill=\"green\" />\n",
       "<circle cx=\"30.0\" cy=\"10.0\" r=\"3.3333333333333335\" fill=\"green\" />\n",
       "<circle cx=\"50.0\" cy=\"70.0\" r=\"3.3333333333333335\" fill=\"green\" />\n",
       "<circle cx=\"50.0\" cy=\"50.0\" r=\"3.3333333333333335\" fill=\"green\" />\n",
       "<circle cx=\"50.0\" cy=\"30.0\" r=\"3.3333333333333335\" fill=\"green\" />\n",
       "<circle cx=\"50.0\" cy=\"10.0\" r=\"3.3333333333333335\" fill=\"green\" />\n",
       "<circle cx=\"70.0\" cy=\"70.0\" r=\"3.3333333333333335\" fill=\"green\" />\n",
       "<circle cx=\"70.0\" cy=\"50.0\" r=\"3.3333333333333335\" fill=\"green\" />\n",
       "<circle cx=\"70.0\" cy=\"30.0\" r=\"3.3333333333333335\" fill=\"green\" />\n",
       "<circle cx=\"70.0\" cy=\"10.0\" r=\"3.3333333333333335\" fill=\"green\" />\n",
       "<circle cx=\"90.0\" cy=\"70.0\" r=\"3.3333333333333335\" fill=\"green\" />\n",
       "<circle cx=\"90.0\" cy=\"50.0\" r=\"3.3333333333333335\" fill=\"green\" />\n",
       "<circle cx=\"90.0\" cy=\"30.0\" r=\"3.3333333333333335\" fill=\"green\" />\n",
       "<circle cx=\"90.0\" cy=\"10.0\" r=\"3.3333333333333335\" fill=\"green\" />\n",
       "</svg>"
      ],
      "text/plain": [
       "<drawsvg.drawing.Drawing at 0x1cca9bb6e50>"
      ]
     },
     "execution_count": 163,
     "metadata": {},
     "output_type": "execute_result"
    }
   ],
   "source": [
    "draw_bits(example_bits, [[column, row] for column in range(1,5) for row in range(0,4)], \"green\")"
   ]
  },
  {
   "cell_type": "markdown",
   "id": "color-verification",
   "metadata": {},
   "source": [
    "This final 4 by 4 subgrid determines the instruments."
   ]
  },
  {
   "cell_type": "code",
   "execution_count": 134,
   "id": "matched-huntington",
   "metadata": {},
   "outputs": [
    {
     "data": {
      "image/svg+xml": [
       "<?xml version=\"1.0\" encoding=\"UTF-8\"?>\n",
       "<svg xmlns=\"http://www.w3.org/2000/svg\" xmlns:xlink=\"http://www.w3.org/1999/xlink\"\n",
       "     width=\"180\" height=\"80\" viewBox=\"0 0 180 80\">\n",
       "<defs>\n",
       "</defs>\n",
       "<rect x=\"0\" y=\"60\" width=\"20\" height=\"20\" fill=\"#00e000\" />\n",
       "<rect x=\"20\" y=\"60\" width=\"20\" height=\"20\" fill=\"#e10000\" />\n",
       "<rect x=\"40\" y=\"60\" width=\"20\" height=\"20\" fill=\"#00e000\" />\n",
       "<rect x=\"60\" y=\"60\" width=\"20\" height=\"20\" fill=\"#e10000\" />\n",
       "<rect x=\"80\" y=\"60\" width=\"20\" height=\"20\" fill=\"#e10000\" />\n",
       "<rect x=\"100\" y=\"60\" width=\"20\" height=\"20\" fill=\"#e10000\" />\n",
       "<rect x=\"120\" y=\"60\" width=\"20\" height=\"20\" fill=\"#e10000\" />\n",
       "<rect x=\"140\" y=\"60\" width=\"20\" height=\"20\" fill=\"#00e000\" />\n",
       "<rect x=\"160\" y=\"60\" width=\"20\" height=\"20\" fill=\"#e10000\" />\n",
       "<rect x=\"0\" y=\"40\" width=\"20\" height=\"20\" fill=\"#00e000\" />\n",
       "<rect x=\"20\" y=\"40\" width=\"20\" height=\"20\" fill=\"#e10000\" />\n",
       "<rect x=\"40\" y=\"40\" width=\"20\" height=\"20\" fill=\"#e10000\" />\n",
       "<rect x=\"60\" y=\"40\" width=\"20\" height=\"20\" fill=\"#e10000\" />\n",
       "<rect x=\"80\" y=\"40\" width=\"20\" height=\"20\" fill=\"#00e000\" />\n",
       "<rect x=\"100\" y=\"40\" width=\"20\" height=\"20\" fill=\"#00e000\" />\n",
       "<rect x=\"120\" y=\"40\" width=\"20\" height=\"20\" fill=\"#e10000\" />\n",
       "<rect x=\"140\" y=\"40\" width=\"20\" height=\"20\" fill=\"#e10000\" />\n",
       "<rect x=\"160\" y=\"40\" width=\"20\" height=\"20\" fill=\"#00e000\" />\n",
       "<rect x=\"0\" y=\"20\" width=\"20\" height=\"20\" fill=\"#e10000\" />\n",
       "<rect x=\"20\" y=\"20\" width=\"20\" height=\"20\" fill=\"#00e000\" />\n",
       "<rect x=\"40\" y=\"20\" width=\"20\" height=\"20\" fill=\"#00e000\" />\n",
       "<rect x=\"60\" y=\"20\" width=\"20\" height=\"20\" fill=\"#00e000\" />\n",
       "<rect x=\"80\" y=\"20\" width=\"20\" height=\"20\" fill=\"#e10000\" />\n",
       "<rect x=\"100\" y=\"20\" width=\"20\" height=\"20\" fill=\"#00e000\" />\n",
       "<rect x=\"120\" y=\"20\" width=\"20\" height=\"20\" fill=\"#e10000\" />\n",
       "<rect x=\"140\" y=\"20\" width=\"20\" height=\"20\" fill=\"#00e000\" />\n",
       "<rect x=\"160\" y=\"20\" width=\"20\" height=\"20\" fill=\"#00e000\" />\n",
       "<rect x=\"0\" y=\"0\" width=\"20\" height=\"20\" fill=\"#00e000\" />\n",
       "<rect x=\"20\" y=\"0\" width=\"20\" height=\"20\" fill=\"#e10000\" />\n",
       "<rect x=\"40\" y=\"0\" width=\"20\" height=\"20\" fill=\"#e10000\" />\n",
       "<rect x=\"60\" y=\"0\" width=\"20\" height=\"20\" fill=\"#00e000\" />\n",
       "<rect x=\"80\" y=\"0\" width=\"20\" height=\"20\" fill=\"#e10000\" />\n",
       "<rect x=\"100\" y=\"0\" width=\"20\" height=\"20\" fill=\"#00e000\" />\n",
       "<rect x=\"120\" y=\"0\" width=\"20\" height=\"20\" fill=\"#e10000\" />\n",
       "<rect x=\"140\" y=\"0\" width=\"20\" height=\"20\" fill=\"#e10000\" />\n",
       "<rect x=\"160\" y=\"0\" width=\"20\" height=\"20\" fill=\"#00e000\" />\n",
       "<circle cx=\"110.0\" cy=\"70.0\" r=\"3.3333333333333335\" fill=\"purple\" />\n",
       "<circle cx=\"110.0\" cy=\"50.0\" r=\"3.3333333333333335\" fill=\"purple\" />\n",
       "<circle cx=\"110.0\" cy=\"30.0\" r=\"3.3333333333333335\" fill=\"purple\" />\n",
       "<circle cx=\"110.0\" cy=\"10.0\" r=\"3.3333333333333335\" fill=\"purple\" />\n",
       "<circle cx=\"130.0\" cy=\"70.0\" r=\"3.3333333333333335\" fill=\"purple\" />\n",
       "<circle cx=\"130.0\" cy=\"50.0\" r=\"3.3333333333333335\" fill=\"purple\" />\n",
       "<circle cx=\"130.0\" cy=\"30.0\" r=\"3.3333333333333335\" fill=\"purple\" />\n",
       "<circle cx=\"130.0\" cy=\"10.0\" r=\"3.3333333333333335\" fill=\"purple\" />\n",
       "<circle cx=\"150.0\" cy=\"70.0\" r=\"3.3333333333333335\" fill=\"purple\" />\n",
       "<circle cx=\"150.0\" cy=\"50.0\" r=\"3.3333333333333335\" fill=\"purple\" />\n",
       "<circle cx=\"150.0\" cy=\"30.0\" r=\"3.3333333333333335\" fill=\"purple\" />\n",
       "<circle cx=\"150.0\" cy=\"10.0\" r=\"3.3333333333333335\" fill=\"purple\" />\n",
       "<circle cx=\"170.0\" cy=\"70.0\" r=\"3.3333333333333335\" fill=\"purple\" />\n",
       "<circle cx=\"170.0\" cy=\"50.0\" r=\"3.3333333333333335\" fill=\"purple\" />\n",
       "<circle cx=\"170.0\" cy=\"30.0\" r=\"3.3333333333333335\" fill=\"purple\" />\n",
       "<circle cx=\"170.0\" cy=\"10.0\" r=\"3.3333333333333335\" fill=\"purple\" />\n",
       "</svg>"
      ],
      "text/plain": [
       "<drawsvg.drawing.Drawing at 0x1cca9144c10>"
      ]
     },
     "execution_count": 134,
     "metadata": {},
     "output_type": "execute_result"
    }
   ],
   "source": [
    "draw_bits(example_bits, [[column, row] for column in range(5,9) for row in range(0,4)], \"purple\")"
   ]
  },
  {
   "cell_type": "markdown",
   "id": "senior-margin",
   "metadata": {},
   "source": [
    "## Using the bits directly"
   ]
  },
  {
   "cell_type": "markdown",
   "id": "massive-marsh",
   "metadata": {},
   "source": [
    "Let's break this grid into sections. We'll explain each part in detail afterwards."
   ]
  },
  {
   "cell_type": "code",
   "execution_count": 52,
   "id": "cordless-updating",
   "metadata": {},
   "outputs": [],
   "source": [
    "def bit_breakdown(four_by_nine_bits):\n",
    "    \"\"\"Split the large grid into appropriate subgrids.\"\"\"\n",
    "    return {\"fundamental\": [row[0] for row in four_by_nine_bits],\n",
    "            \"triads\": [row[1:5] for row in four_by_nine_bits],\n",
    "            \"instruments\": [row[5:9] for row in four_by_nine_bits],\n",
    "    }"
   ]
  },
  {
   "cell_type": "code",
   "execution_count": 58,
   "id": "exact-uzbekistan",
   "metadata": {},
   "outputs": [
    {
     "data": {
      "text/plain": [
       "{'fundamental': [1, 1, 0, 1],\n",
       " 'triads': [[0, 1, 0, 0], [0, 0, 0, 1], [1, 1, 1, 0], [0, 0, 1, 0]],\n",
       " 'instruments': [[0, 0, 1, 0], [1, 0, 0, 1], [1, 0, 1, 1], [1, 0, 0, 1]]}"
      ]
     },
     "execution_count": 58,
     "metadata": {},
     "output_type": "execute_result"
    }
   ],
   "source": [
    "bit_breakdown(example_bits)"
   ]
  },
  {
   "cell_type": "markdown",
   "id": "eleven-basics",
   "metadata": {},
   "source": [
    "### What's the fundamental"
   ]
  },
  {
   "cell_type": "markdown",
   "id": "authentic-sugar",
   "metadata": {},
   "source": [
    "The fundamental is determined by the four bits in the first column, giving us 16 options.\n",
    "Each option will correspond to a number of semitones above our `base` note, which defaults to C4 (\"low C\").\n",
    "For example:\n",
    " - The sequence `[0, 0, 0, 0]` corresponds to the base note\n",
    " - `[0, 0, 0, 1]` corresponds to one semitone above the base note\n",
    " - `[1, 0, 1, 0]` corresponds to 10 semitones above the base note"
   ]
  },
  {
   "cell_type": "code",
   "execution_count": 59,
   "id": "improving-education",
   "metadata": {},
   "outputs": [],
   "source": [
    "def breakdown_to_semitone_shift(bits):\n",
    "    \"\"\"Treat the sequence of bits as though it were a binary number.\"\"\"\n",
    "    return int(\"\".join(map(str, bits)),2)"
   ]
  },
  {
   "cell_type": "code",
   "execution_count": 60,
   "id": "faced-equipment",
   "metadata": {},
   "outputs": [
    {
     "data": {
      "text/plain": [
       "13"
      ]
     },
     "execution_count": 60,
     "metadata": {},
     "output_type": "execute_result"
    }
   ],
   "source": [
    "breakdown_to_semitone_shift(bit_breakdown(example_bits)[\"fundamental\"])"
   ]
  },
  {
   "cell_type": "code",
   "execution_count": 162,
   "id": "72fcb60b-69bc-452b-b15f-d4cbc58bf44c",
   "metadata": {},
   "outputs": [
    {
     "data": {
      "text/plain": [
       "6097.098556371644"
      ]
     },
     "execution_count": 162,
     "metadata": {},
     "output_type": "execute_result"
    }
   ],
   "source": [
    "30*math.pow(30,10*2.5/16)"
   ]
  },
  {
   "cell_type": "code",
   "execution_count": 161,
   "id": "fbefbb5c-43be-4ad5-868c-63426c245dbe",
   "metadata": {},
   "outputs": [
    {
     "data": {
      "text/plain": [
       "2.504174923024876"
      ]
     },
     "execution_count": 161,
     "metadata": {},
     "output_type": "execute_result"
    }
   ],
   "source": [
    "math.log(5000,30)"
   ]
  },
  {
   "cell_type": "markdown",
   "id": "isolated-sequence",
   "metadata": {},
   "source": [
    "### What are the triads"
   ]
  },
  {
   "cell_type": "markdown",
   "id": "resident-plenty",
   "metadata": {},
   "source": [
    "According to the CAMUS protocol each _live_ cell (i.e. a 1) in the grid will be turned into a triad in the following way:\n",
    " - the x coordinate of the cell gives the interval between the fundamental and the first note\n",
    " - the y coordinate of the cell gives the interval between the first and second notes\n"
   ]
  },
  {
   "cell_type": "markdown",
   "id": "intense-breakfast",
   "metadata": {},
   "source": [
    "These `x` and `y` coordinates are measured from the top-left square in the `triads` section of the grid."
   ]
  },
  {
   "cell_type": "markdown",
   "id": "isolated-agency",
   "metadata": {},
   "source": [
    "![How we measure the x and y coordinate of a cell in the triads section of the grid](images/xy_CAMUS.svg)"
   ]
  },
  {
   "cell_type": "markdown",
   "id": "bibliographic-antenna",
   "metadata": {},
   "source": [
    "The first thing we will need is a list of all the live cells in the grid. Here's our example grid with the `triad` cells marked."
   ]
  },
  {
   "cell_type": "code",
   "execution_count": 61,
   "id": "sought-desire",
   "metadata": {},
   "outputs": [
    {
     "data": {
      "image/svg+xml": [
       "<?xml version=\"1.0\" encoding=\"UTF-8\"?>\n",
       "<svg xmlns=\"http://www.w3.org/2000/svg\" xmlns:xlink=\"http://www.w3.org/1999/xlink\"\n",
       "     width=\"180\" height=\"80\" viewBox=\"0 0 180 80\">\n",
       "<defs>\n",
       "</defs>\n",
       "<rect x=\"0\" y=\"60\" width=\"20\" height=\"20\" fill=\"#00e000\" />\n",
       "<rect x=\"20\" y=\"60\" width=\"20\" height=\"20\" fill=\"#e10000\" />\n",
       "<rect x=\"40\" y=\"60\" width=\"20\" height=\"20\" fill=\"#00e000\" />\n",
       "<rect x=\"60\" y=\"60\" width=\"20\" height=\"20\" fill=\"#e10000\" />\n",
       "<rect x=\"80\" y=\"60\" width=\"20\" height=\"20\" fill=\"#e10000\" />\n",
       "<rect x=\"100\" y=\"60\" width=\"20\" height=\"20\" fill=\"#e10000\" />\n",
       "<rect x=\"120\" y=\"60\" width=\"20\" height=\"20\" fill=\"#e10000\" />\n",
       "<rect x=\"140\" y=\"60\" width=\"20\" height=\"20\" fill=\"#00e000\" />\n",
       "<rect x=\"160\" y=\"60\" width=\"20\" height=\"20\" fill=\"#e10000\" />\n",
       "<rect x=\"0\" y=\"40\" width=\"20\" height=\"20\" fill=\"#00e000\" />\n",
       "<rect x=\"20\" y=\"40\" width=\"20\" height=\"20\" fill=\"#e10000\" />\n",
       "<rect x=\"40\" y=\"40\" width=\"20\" height=\"20\" fill=\"#e10000\" />\n",
       "<rect x=\"60\" y=\"40\" width=\"20\" height=\"20\" fill=\"#e10000\" />\n",
       "<rect x=\"80\" y=\"40\" width=\"20\" height=\"20\" fill=\"#00e000\" />\n",
       "<rect x=\"100\" y=\"40\" width=\"20\" height=\"20\" fill=\"#00e000\" />\n",
       "<rect x=\"120\" y=\"40\" width=\"20\" height=\"20\" fill=\"#e10000\" />\n",
       "<rect x=\"140\" y=\"40\" width=\"20\" height=\"20\" fill=\"#e10000\" />\n",
       "<rect x=\"160\" y=\"40\" width=\"20\" height=\"20\" fill=\"#00e000\" />\n",
       "<rect x=\"0\" y=\"20\" width=\"20\" height=\"20\" fill=\"#e10000\" />\n",
       "<rect x=\"20\" y=\"20\" width=\"20\" height=\"20\" fill=\"#00e000\" />\n",
       "<rect x=\"40\" y=\"20\" width=\"20\" height=\"20\" fill=\"#00e000\" />\n",
       "<rect x=\"60\" y=\"20\" width=\"20\" height=\"20\" fill=\"#00e000\" />\n",
       "<rect x=\"80\" y=\"20\" width=\"20\" height=\"20\" fill=\"#e10000\" />\n",
       "<rect x=\"100\" y=\"20\" width=\"20\" height=\"20\" fill=\"#00e000\" />\n",
       "<rect x=\"120\" y=\"20\" width=\"20\" height=\"20\" fill=\"#e10000\" />\n",
       "<rect x=\"140\" y=\"20\" width=\"20\" height=\"20\" fill=\"#00e000\" />\n",
       "<rect x=\"160\" y=\"20\" width=\"20\" height=\"20\" fill=\"#00e000\" />\n",
       "<rect x=\"0\" y=\"0\" width=\"20\" height=\"20\" fill=\"#00e000\" />\n",
       "<rect x=\"20\" y=\"0\" width=\"20\" height=\"20\" fill=\"#e10000\" />\n",
       "<rect x=\"40\" y=\"0\" width=\"20\" height=\"20\" fill=\"#e10000\" />\n",
       "<rect x=\"60\" y=\"0\" width=\"20\" height=\"20\" fill=\"#00e000\" />\n",
       "<rect x=\"80\" y=\"0\" width=\"20\" height=\"20\" fill=\"#e10000\" />\n",
       "<rect x=\"100\" y=\"0\" width=\"20\" height=\"20\" fill=\"#00e000\" />\n",
       "<rect x=\"120\" y=\"0\" width=\"20\" height=\"20\" fill=\"#e10000\" />\n",
       "<rect x=\"140\" y=\"0\" width=\"20\" height=\"20\" fill=\"#e10000\" />\n",
       "<rect x=\"160\" y=\"0\" width=\"20\" height=\"20\" fill=\"#00e000\" />\n",
       "<circle cx=\"30.0\" cy=\"70.0\" r=\"3.3333333333333335\" fill=\"purple\" />\n",
       "<circle cx=\"30.0\" cy=\"50.0\" r=\"3.3333333333333335\" fill=\"purple\" />\n",
       "<circle cx=\"30.0\" cy=\"30.0\" r=\"3.3333333333333335\" fill=\"purple\" />\n",
       "<circle cx=\"30.0\" cy=\"10.0\" r=\"3.3333333333333335\" fill=\"purple\" />\n",
       "<circle cx=\"50.0\" cy=\"70.0\" r=\"3.3333333333333335\" fill=\"purple\" />\n",
       "<circle cx=\"50.0\" cy=\"50.0\" r=\"3.3333333333333335\" fill=\"purple\" />\n",
       "<circle cx=\"50.0\" cy=\"30.0\" r=\"3.3333333333333335\" fill=\"purple\" />\n",
       "<circle cx=\"50.0\" cy=\"10.0\" r=\"3.3333333333333335\" fill=\"purple\" />\n",
       "<circle cx=\"70.0\" cy=\"70.0\" r=\"3.3333333333333335\" fill=\"purple\" />\n",
       "<circle cx=\"70.0\" cy=\"50.0\" r=\"3.3333333333333335\" fill=\"purple\" />\n",
       "<circle cx=\"70.0\" cy=\"30.0\" r=\"3.3333333333333335\" fill=\"purple\" />\n",
       "<circle cx=\"70.0\" cy=\"10.0\" r=\"3.3333333333333335\" fill=\"purple\" />\n",
       "<circle cx=\"90.0\" cy=\"70.0\" r=\"3.3333333333333335\" fill=\"purple\" />\n",
       "<circle cx=\"90.0\" cy=\"50.0\" r=\"3.3333333333333335\" fill=\"purple\" />\n",
       "<circle cx=\"90.0\" cy=\"30.0\" r=\"3.3333333333333335\" fill=\"purple\" />\n",
       "<circle cx=\"90.0\" cy=\"10.0\" r=\"3.3333333333333335\" fill=\"purple\" />\n",
       "</svg>"
      ],
      "text/plain": [
       "<drawsvg.drawing.Drawing at 0x1cca8831cd0>"
      ]
     },
     "execution_count": 61,
     "metadata": {},
     "output_type": "execute_result"
    }
   ],
   "source": [
    "draw_bits(example_bits, [[column, row] for column in range(1,5) for row in range(0,4)], \"purple\")"
   ]
  },
  {
   "cell_type": "markdown",
   "id": "persistent-heater",
   "metadata": {},
   "source": [
    "Our function will take in the triad bits and return a sequnce of coordinates. These return coordinates are measured from the top left triad bit, not from the top left bit of the overall grid."
   ]
  },
  {
   "cell_type": "code",
   "execution_count": 62,
   "id": "occupational-learning",
   "metadata": {},
   "outputs": [],
   "source": [
    "def triad_bits_to_coordinate_sequence(triad_bits):\n",
    "    \"\"\"Given just the triad subgrid get the coordinates of each live cell.\"\"\"\n",
    "    triads = []\n",
    "    for j in range(0, len(triad_bits)):\n",
    "        for i in range(0,len(triad_bits[j])):\n",
    "            if triad_bits[j][i]:\n",
    "                triads.append([i,j])\n",
    "    return triads"
   ]
  },
  {
   "cell_type": "code",
   "execution_count": 66,
   "id": "7480c3bb-0457-4a69-8ea1-891f95cecebe",
   "metadata": {},
   "outputs": [
    {
     "data": {
      "text/plain": [
       "[[0, 1, 0, 0], [0, 0, 0, 1], [1, 1, 1, 0], [0, 0, 1, 0]]"
      ]
     },
     "execution_count": 66,
     "metadata": {},
     "output_type": "execute_result"
    }
   ],
   "source": [
    "bit_breakdown(example_bits)[\"triads\"]"
   ]
  },
  {
   "cell_type": "code",
   "execution_count": 63,
   "id": "pressing-border",
   "metadata": {},
   "outputs": [
    {
     "data": {
      "text/plain": [
       "[[1, 0], [3, 1], [0, 2], [1, 2], [2, 2], [2, 3]]"
      ]
     },
     "execution_count": 63,
     "metadata": {},
     "output_type": "execute_result"
    }
   ],
   "source": [
    "triad_bits_to_coordinate_sequence(bit_breakdown(example_bits)[\"triads\"])"
   ]
  },
  {
   "cell_type": "markdown",
   "id": "difficult-graphic",
   "metadata": {},
   "source": [
    "Let's double check by marking these on our grid. Note that the reported coordinates are measured from the top left of the `triad` sub-grid, and so we need to shift these coordinates over to overlay them on the entire grid."
   ]
  },
  {
   "cell_type": "code",
   "execution_count": 67,
   "id": "statutory-patrol",
   "metadata": {},
   "outputs": [
    {
     "data": {
      "image/svg+xml": [
       "<?xml version=\"1.0\" encoding=\"UTF-8\"?>\n",
       "<svg xmlns=\"http://www.w3.org/2000/svg\" xmlns:xlink=\"http://www.w3.org/1999/xlink\"\n",
       "     width=\"180\" height=\"80\" viewBox=\"0 0 180 80\">\n",
       "<defs>\n",
       "</defs>\n",
       "<rect x=\"0\" y=\"60\" width=\"20\" height=\"20\" fill=\"#00e000\" />\n",
       "<rect x=\"20\" y=\"60\" width=\"20\" height=\"20\" fill=\"#e10000\" />\n",
       "<rect x=\"40\" y=\"60\" width=\"20\" height=\"20\" fill=\"#00e000\" />\n",
       "<rect x=\"60\" y=\"60\" width=\"20\" height=\"20\" fill=\"#e10000\" />\n",
       "<rect x=\"80\" y=\"60\" width=\"20\" height=\"20\" fill=\"#e10000\" />\n",
       "<rect x=\"100\" y=\"60\" width=\"20\" height=\"20\" fill=\"#e10000\" />\n",
       "<rect x=\"120\" y=\"60\" width=\"20\" height=\"20\" fill=\"#e10000\" />\n",
       "<rect x=\"140\" y=\"60\" width=\"20\" height=\"20\" fill=\"#00e000\" />\n",
       "<rect x=\"160\" y=\"60\" width=\"20\" height=\"20\" fill=\"#e10000\" />\n",
       "<rect x=\"0\" y=\"40\" width=\"20\" height=\"20\" fill=\"#00e000\" />\n",
       "<rect x=\"20\" y=\"40\" width=\"20\" height=\"20\" fill=\"#e10000\" />\n",
       "<rect x=\"40\" y=\"40\" width=\"20\" height=\"20\" fill=\"#e10000\" />\n",
       "<rect x=\"60\" y=\"40\" width=\"20\" height=\"20\" fill=\"#e10000\" />\n",
       "<rect x=\"80\" y=\"40\" width=\"20\" height=\"20\" fill=\"#00e000\" />\n",
       "<rect x=\"100\" y=\"40\" width=\"20\" height=\"20\" fill=\"#00e000\" />\n",
       "<rect x=\"120\" y=\"40\" width=\"20\" height=\"20\" fill=\"#e10000\" />\n",
       "<rect x=\"140\" y=\"40\" width=\"20\" height=\"20\" fill=\"#e10000\" />\n",
       "<rect x=\"160\" y=\"40\" width=\"20\" height=\"20\" fill=\"#00e000\" />\n",
       "<rect x=\"0\" y=\"20\" width=\"20\" height=\"20\" fill=\"#e10000\" />\n",
       "<rect x=\"20\" y=\"20\" width=\"20\" height=\"20\" fill=\"#00e000\" />\n",
       "<rect x=\"40\" y=\"20\" width=\"20\" height=\"20\" fill=\"#00e000\" />\n",
       "<rect x=\"60\" y=\"20\" width=\"20\" height=\"20\" fill=\"#00e000\" />\n",
       "<rect x=\"80\" y=\"20\" width=\"20\" height=\"20\" fill=\"#e10000\" />\n",
       "<rect x=\"100\" y=\"20\" width=\"20\" height=\"20\" fill=\"#00e000\" />\n",
       "<rect x=\"120\" y=\"20\" width=\"20\" height=\"20\" fill=\"#e10000\" />\n",
       "<rect x=\"140\" y=\"20\" width=\"20\" height=\"20\" fill=\"#00e000\" />\n",
       "<rect x=\"160\" y=\"20\" width=\"20\" height=\"20\" fill=\"#00e000\" />\n",
       "<rect x=\"0\" y=\"0\" width=\"20\" height=\"20\" fill=\"#00e000\" />\n",
       "<rect x=\"20\" y=\"0\" width=\"20\" height=\"20\" fill=\"#e10000\" />\n",
       "<rect x=\"40\" y=\"0\" width=\"20\" height=\"20\" fill=\"#e10000\" />\n",
       "<rect x=\"60\" y=\"0\" width=\"20\" height=\"20\" fill=\"#00e000\" />\n",
       "<rect x=\"80\" y=\"0\" width=\"20\" height=\"20\" fill=\"#e10000\" />\n",
       "<rect x=\"100\" y=\"0\" width=\"20\" height=\"20\" fill=\"#00e000\" />\n",
       "<rect x=\"120\" y=\"0\" width=\"20\" height=\"20\" fill=\"#e10000\" />\n",
       "<rect x=\"140\" y=\"0\" width=\"20\" height=\"20\" fill=\"#e10000\" />\n",
       "<rect x=\"160\" y=\"0\" width=\"20\" height=\"20\" fill=\"#00e000\" />\n",
       "<circle cx=\"50.0\" cy=\"70.0\" r=\"3.3333333333333335\" fill=\"purple\" />\n",
       "<circle cx=\"90.0\" cy=\"50.0\" r=\"3.3333333333333335\" fill=\"purple\" />\n",
       "<circle cx=\"30.0\" cy=\"30.0\" r=\"3.3333333333333335\" fill=\"purple\" />\n",
       "<circle cx=\"50.0\" cy=\"30.0\" r=\"3.3333333333333335\" fill=\"purple\" />\n",
       "<circle cx=\"70.0\" cy=\"30.0\" r=\"3.3333333333333335\" fill=\"purple\" />\n",
       "<circle cx=\"70.0\" cy=\"10.0\" r=\"3.3333333333333335\" fill=\"purple\" />\n",
       "</svg>"
      ],
      "text/plain": [
       "<drawsvg.drawing.Drawing at 0x1cca87fe890>"
      ]
     },
     "execution_count": 67,
     "metadata": {},
     "output_type": "execute_result"
    }
   ],
   "source": [
    "draw_bits(example_bits, map(lambda xy: [xy[0]+1,xy[1]], triad_bits_to_coordinate_sequence(bit_breakdown(example_bits)[\"triads\"])), \"purple\")"
   ]
  },
  {
   "cell_type": "markdown",
   "id": "educational-garbage",
   "metadata": {},
   "source": [
    "You should see that every light-grey square inside the triads subgrid has a marker on it."
   ]
  },
  {
   "cell_type": "markdown",
   "id": "little-attraction",
   "metadata": {},
   "source": [
    "For each of these we want to generate a triad."
   ]
  },
  {
   "cell_type": "code",
   "execution_count": 68,
   "id": "unsigned-legend",
   "metadata": {},
   "outputs": [],
   "source": [
    "def intervals_to_triad(fundamental, coordinate):\n",
    "    \"\"\"Turn a single coordinate into the appropriate triad formed above the given fundamental.\"\"\"\n",
    "    notes = []\n",
    "    notes.append(fundamental)\n",
    "    notes.append(notes[0] + coordinate[0]) # x coordinate determines first interval\n",
    "    notes.append(notes[1] + coordinate[1]) # y coordinate determines second interval\n",
    "    return notes"
   ]
  },
  {
   "cell_type": "markdown",
   "id": "arbitrary-mercy",
   "metadata": {},
   "source": [
    "As an example: A triad based on a fundamental of 0, at point `[2,1]` has first note 0 (base) then up two semitones to the next note, then up one semitone to the next note."
   ]
  },
  {
   "cell_type": "code",
   "execution_count": 69,
   "id": "polyphonic-princess",
   "metadata": {},
   "outputs": [
    {
     "data": {
      "text/plain": [
       "[0, 2, 3]"
      ]
     },
     "execution_count": 69,
     "metadata": {},
     "output_type": "execute_result"
    }
   ],
   "source": [
    "intervals_to_triad(0,[2,1])"
   ]
  },
  {
   "cell_type": "markdown",
   "id": "relevant-convertible",
   "metadata": {},
   "source": [
    "We can then use list comprehension to send a list of triad coordinates to a list of triads."
   ]
  },
  {
   "cell_type": "code",
   "execution_count": 70,
   "id": "external-pickup",
   "metadata": {},
   "outputs": [],
   "source": [
    "def triad_interval_sequence(bits):\n",
    "    \"\"\"Given the large grid of bits provide a sequence of triads.\"\"\"\n",
    "    breakdown = bit_breakdown(bits)\n",
    "    fundamental = breakdown_to_semitone_shift(breakdown[\"fundamental\"])\n",
    "    triad_bit_sequence = triad_bits_to_coordinate_sequence(breakdown[\"triads\"])\n",
    "    return [intervals_to_triad(fundamental, coordinate) for coordinate in triad_bit_sequence]"
   ]
  },
  {
   "cell_type": "code",
   "execution_count": 71,
   "id": "violent-facial",
   "metadata": {},
   "outputs": [
    {
     "data": {
      "text/plain": [
       "[[13, 14, 14],\n",
       " [13, 16, 17],\n",
       " [13, 13, 15],\n",
       " [13, 14, 16],\n",
       " [13, 15, 17],\n",
       " [13, 15, 18]]"
      ]
     },
     "execution_count": 71,
     "metadata": {},
     "output_type": "execute_result"
    }
   ],
   "source": [
    "triad_interval_sequence(example_bits)"
   ]
  },
  {
   "cell_type": "markdown",
   "id": "upset-entity",
   "metadata": {},
   "source": [
    "We now have a list of triads expressed as semitones above low C."
   ]
  },
  {
   "cell_type": "markdown",
   "id": "recovered-entity",
   "metadata": {},
   "source": [
    "### Neighbours"
   ]
  },
  {
   "cell_type": "markdown",
   "id": "sufficient-authentication",
   "metadata": {},
   "source": [
    "In what follows we are going to need to look up the values of cells arround our target cell. Quite apart from it being useful to have a function to do this we also need to specify what happens if we look up a cell outside the range of our grid. In these instances we will simply return the value `0`."
   ]
  },
  {
   "cell_type": "code",
   "execution_count": 72,
   "id": "cooked-ferry",
   "metadata": {},
   "outputs": [],
   "source": [
    "def lookup(bit_grid, coordinates):\n",
    "    \"\"\"Find the value at the specified point in the bit_grid.\n",
    "    \n",
    "    If the coordinates fall outside of the grid then return 0.\n",
    "    \"\"\"\n",
    "    if coordinates[1] < 0 or coordinates[1] >= len(bit_grid):\n",
    "        return 0\n",
    "    if coordinates[0] < 0 or coordinates[0] >= len(bit_grid[0]):\n",
    "        return 0\n",
    "    return bit_grid[coordinates[1]][coordinates[0]]"
   ]
  },
  {
   "cell_type": "markdown",
   "id": "western-violin",
   "metadata": {},
   "source": [
    "Here are the bits again:"
   ]
  },
  {
   "cell_type": "code",
   "execution_count": 73,
   "id": "annual-feature",
   "metadata": {},
   "outputs": [
    {
     "data": {
      "image/svg+xml": [
       "<?xml version=\"1.0\" encoding=\"UTF-8\"?>\n",
       "<svg xmlns=\"http://www.w3.org/2000/svg\" xmlns:xlink=\"http://www.w3.org/1999/xlink\"\n",
       "     width=\"180\" height=\"80\" viewBox=\"0 0 180 80\">\n",
       "<defs>\n",
       "</defs>\n",
       "<rect x=\"0\" y=\"60\" width=\"20\" height=\"20\" fill=\"#00e000\" />\n",
       "<rect x=\"20\" y=\"60\" width=\"20\" height=\"20\" fill=\"#e10000\" />\n",
       "<rect x=\"40\" y=\"60\" width=\"20\" height=\"20\" fill=\"#00e000\" />\n",
       "<rect x=\"60\" y=\"60\" width=\"20\" height=\"20\" fill=\"#e10000\" />\n",
       "<rect x=\"80\" y=\"60\" width=\"20\" height=\"20\" fill=\"#e10000\" />\n",
       "<rect x=\"100\" y=\"60\" width=\"20\" height=\"20\" fill=\"#e10000\" />\n",
       "<rect x=\"120\" y=\"60\" width=\"20\" height=\"20\" fill=\"#e10000\" />\n",
       "<rect x=\"140\" y=\"60\" width=\"20\" height=\"20\" fill=\"#00e000\" />\n",
       "<rect x=\"160\" y=\"60\" width=\"20\" height=\"20\" fill=\"#e10000\" />\n",
       "<rect x=\"0\" y=\"40\" width=\"20\" height=\"20\" fill=\"#00e000\" />\n",
       "<rect x=\"20\" y=\"40\" width=\"20\" height=\"20\" fill=\"#e10000\" />\n",
       "<rect x=\"40\" y=\"40\" width=\"20\" height=\"20\" fill=\"#e10000\" />\n",
       "<rect x=\"60\" y=\"40\" width=\"20\" height=\"20\" fill=\"#e10000\" />\n",
       "<rect x=\"80\" y=\"40\" width=\"20\" height=\"20\" fill=\"#00e000\" />\n",
       "<rect x=\"100\" y=\"40\" width=\"20\" height=\"20\" fill=\"#00e000\" />\n",
       "<rect x=\"120\" y=\"40\" width=\"20\" height=\"20\" fill=\"#e10000\" />\n",
       "<rect x=\"140\" y=\"40\" width=\"20\" height=\"20\" fill=\"#e10000\" />\n",
       "<rect x=\"160\" y=\"40\" width=\"20\" height=\"20\" fill=\"#00e000\" />\n",
       "<rect x=\"0\" y=\"20\" width=\"20\" height=\"20\" fill=\"#e10000\" />\n",
       "<rect x=\"20\" y=\"20\" width=\"20\" height=\"20\" fill=\"#00e000\" />\n",
       "<rect x=\"40\" y=\"20\" width=\"20\" height=\"20\" fill=\"#00e000\" />\n",
       "<rect x=\"60\" y=\"20\" width=\"20\" height=\"20\" fill=\"#00e000\" />\n",
       "<rect x=\"80\" y=\"20\" width=\"20\" height=\"20\" fill=\"#e10000\" />\n",
       "<rect x=\"100\" y=\"20\" width=\"20\" height=\"20\" fill=\"#00e000\" />\n",
       "<rect x=\"120\" y=\"20\" width=\"20\" height=\"20\" fill=\"#e10000\" />\n",
       "<rect x=\"140\" y=\"20\" width=\"20\" height=\"20\" fill=\"#00e000\" />\n",
       "<rect x=\"160\" y=\"20\" width=\"20\" height=\"20\" fill=\"#00e000\" />\n",
       "<rect x=\"0\" y=\"0\" width=\"20\" height=\"20\" fill=\"#00e000\" />\n",
       "<rect x=\"20\" y=\"0\" width=\"20\" height=\"20\" fill=\"#e10000\" />\n",
       "<rect x=\"40\" y=\"0\" width=\"20\" height=\"20\" fill=\"#e10000\" />\n",
       "<rect x=\"60\" y=\"0\" width=\"20\" height=\"20\" fill=\"#00e000\" />\n",
       "<rect x=\"80\" y=\"0\" width=\"20\" height=\"20\" fill=\"#e10000\" />\n",
       "<rect x=\"100\" y=\"0\" width=\"20\" height=\"20\" fill=\"#00e000\" />\n",
       "<rect x=\"120\" y=\"0\" width=\"20\" height=\"20\" fill=\"#e10000\" />\n",
       "<rect x=\"140\" y=\"0\" width=\"20\" height=\"20\" fill=\"#e10000\" />\n",
       "<rect x=\"160\" y=\"0\" width=\"20\" height=\"20\" fill=\"#00e000\" />\n",
       "</svg>"
      ],
      "text/plain": [
       "<drawsvg.drawing.Drawing at 0x1cca886e650>"
      ]
     },
     "execution_count": 73,
     "metadata": {},
     "output_type": "execute_result"
    }
   ],
   "source": [
    "draw_bits(example_bits)"
   ]
  },
  {
   "cell_type": "markdown",
   "id": "operating-button",
   "metadata": {},
   "source": [
    "What's the value of the top left bit?"
   ]
  },
  {
   "cell_type": "code",
   "execution_count": 74,
   "id": "collaborative-accordance",
   "metadata": {},
   "outputs": [
    {
     "data": {
      "text/plain": [
       "1"
      ]
     },
     "execution_count": 74,
     "metadata": {},
     "output_type": "execute_result"
    }
   ],
   "source": [
    "lookup(example_bits, [0,0])"
   ]
  },
  {
   "cell_type": "markdown",
   "id": "graphic-ebony",
   "metadata": {},
   "source": [
    "What is the value of the bit one across and two down?"
   ]
  },
  {
   "cell_type": "code",
   "execution_count": 75,
   "id": "creative-policy",
   "metadata": {},
   "outputs": [
    {
     "data": {
      "text/plain": [
       "1"
      ]
     },
     "execution_count": 75,
     "metadata": {},
     "output_type": "execute_result"
    }
   ],
   "source": [
    "lookup(example_bits, [1,2])"
   ]
  },
  {
   "cell_type": "markdown",
   "id": "processed-sister",
   "metadata": {},
   "source": [
    "Now let's mark on the grid both a target point and all its neighbours."
   ]
  },
  {
   "cell_type": "code",
   "execution_count": 76,
   "id": "rocky-cheat",
   "metadata": {},
   "outputs": [],
   "source": [
    "def draw_neighbours(bits, point):\n",
    "    \"\"\"Draw the grid of bits and mark all cells surrounding and including the named point.\"\"\"\n",
    "    return draw_bits(bits, [[x,y] for x in range(point[0]-1,point[0]+2) for y in range(point[1]-1,point[1]+2)])"
   ]
  },
  {
   "cell_type": "code",
   "execution_count": 77,
   "id": "static-batman",
   "metadata": {},
   "outputs": [
    {
     "data": {
      "image/svg+xml": [
       "<?xml version=\"1.0\" encoding=\"UTF-8\"?>\n",
       "<svg xmlns=\"http://www.w3.org/2000/svg\" xmlns:xlink=\"http://www.w3.org/1999/xlink\"\n",
       "     width=\"180\" height=\"80\" viewBox=\"0 0 180 80\">\n",
       "<defs>\n",
       "</defs>\n",
       "<rect x=\"0\" y=\"60\" width=\"20\" height=\"20\" fill=\"#00e000\" />\n",
       "<rect x=\"20\" y=\"60\" width=\"20\" height=\"20\" fill=\"#e10000\" />\n",
       "<rect x=\"40\" y=\"60\" width=\"20\" height=\"20\" fill=\"#00e000\" />\n",
       "<rect x=\"60\" y=\"60\" width=\"20\" height=\"20\" fill=\"#e10000\" />\n",
       "<rect x=\"80\" y=\"60\" width=\"20\" height=\"20\" fill=\"#e10000\" />\n",
       "<rect x=\"100\" y=\"60\" width=\"20\" height=\"20\" fill=\"#e10000\" />\n",
       "<rect x=\"120\" y=\"60\" width=\"20\" height=\"20\" fill=\"#e10000\" />\n",
       "<rect x=\"140\" y=\"60\" width=\"20\" height=\"20\" fill=\"#00e000\" />\n",
       "<rect x=\"160\" y=\"60\" width=\"20\" height=\"20\" fill=\"#e10000\" />\n",
       "<rect x=\"0\" y=\"40\" width=\"20\" height=\"20\" fill=\"#00e000\" />\n",
       "<rect x=\"20\" y=\"40\" width=\"20\" height=\"20\" fill=\"#e10000\" />\n",
       "<rect x=\"40\" y=\"40\" width=\"20\" height=\"20\" fill=\"#e10000\" />\n",
       "<rect x=\"60\" y=\"40\" width=\"20\" height=\"20\" fill=\"#e10000\" />\n",
       "<rect x=\"80\" y=\"40\" width=\"20\" height=\"20\" fill=\"#00e000\" />\n",
       "<rect x=\"100\" y=\"40\" width=\"20\" height=\"20\" fill=\"#00e000\" />\n",
       "<rect x=\"120\" y=\"40\" width=\"20\" height=\"20\" fill=\"#e10000\" />\n",
       "<rect x=\"140\" y=\"40\" width=\"20\" height=\"20\" fill=\"#e10000\" />\n",
       "<rect x=\"160\" y=\"40\" width=\"20\" height=\"20\" fill=\"#00e000\" />\n",
       "<rect x=\"0\" y=\"20\" width=\"20\" height=\"20\" fill=\"#e10000\" />\n",
       "<rect x=\"20\" y=\"20\" width=\"20\" height=\"20\" fill=\"#00e000\" />\n",
       "<rect x=\"40\" y=\"20\" width=\"20\" height=\"20\" fill=\"#00e000\" />\n",
       "<rect x=\"60\" y=\"20\" width=\"20\" height=\"20\" fill=\"#00e000\" />\n",
       "<rect x=\"80\" y=\"20\" width=\"20\" height=\"20\" fill=\"#e10000\" />\n",
       "<rect x=\"100\" y=\"20\" width=\"20\" height=\"20\" fill=\"#00e000\" />\n",
       "<rect x=\"120\" y=\"20\" width=\"20\" height=\"20\" fill=\"#e10000\" />\n",
       "<rect x=\"140\" y=\"20\" width=\"20\" height=\"20\" fill=\"#00e000\" />\n",
       "<rect x=\"160\" y=\"20\" width=\"20\" height=\"20\" fill=\"#00e000\" />\n",
       "<rect x=\"0\" y=\"0\" width=\"20\" height=\"20\" fill=\"#00e000\" />\n",
       "<rect x=\"20\" y=\"0\" width=\"20\" height=\"20\" fill=\"#e10000\" />\n",
       "<rect x=\"40\" y=\"0\" width=\"20\" height=\"20\" fill=\"#e10000\" />\n",
       "<rect x=\"60\" y=\"0\" width=\"20\" height=\"20\" fill=\"#00e000\" />\n",
       "<rect x=\"80\" y=\"0\" width=\"20\" height=\"20\" fill=\"#e10000\" />\n",
       "<rect x=\"100\" y=\"0\" width=\"20\" height=\"20\" fill=\"#00e000\" />\n",
       "<rect x=\"120\" y=\"0\" width=\"20\" height=\"20\" fill=\"#e10000\" />\n",
       "<rect x=\"140\" y=\"0\" width=\"20\" height=\"20\" fill=\"#e10000\" />\n",
       "<rect x=\"160\" y=\"0\" width=\"20\" height=\"20\" fill=\"#00e000\" />\n",
       "<circle cx=\"10.0\" cy=\"50.0\" r=\"3.3333333333333335\" fill=\"#11f\" />\n",
       "<circle cx=\"10.0\" cy=\"30.0\" r=\"3.3333333333333335\" fill=\"#11f\" />\n",
       "<circle cx=\"10.0\" cy=\"10.0\" r=\"3.3333333333333335\" fill=\"#11f\" />\n",
       "<circle cx=\"30.0\" cy=\"50.0\" r=\"3.3333333333333335\" fill=\"#11f\" />\n",
       "<circle cx=\"30.0\" cy=\"30.0\" r=\"3.3333333333333335\" fill=\"#11f\" />\n",
       "<circle cx=\"30.0\" cy=\"10.0\" r=\"3.3333333333333335\" fill=\"#11f\" />\n",
       "<circle cx=\"50.0\" cy=\"50.0\" r=\"3.3333333333333335\" fill=\"#11f\" />\n",
       "<circle cx=\"50.0\" cy=\"30.0\" r=\"3.3333333333333335\" fill=\"#11f\" />\n",
       "<circle cx=\"50.0\" cy=\"10.0\" r=\"3.3333333333333335\" fill=\"#11f\" />\n",
       "</svg>"
      ],
      "text/plain": [
       "<drawsvg.drawing.Drawing at 0x1cca8816590>"
      ]
     },
     "execution_count": 77,
     "metadata": {},
     "output_type": "execute_result"
    }
   ],
   "source": [
    "draw_neighbours(example_bits,[1,2])"
   ]
  },
  {
   "cell_type": "markdown",
   "id": "polar-mistress",
   "metadata": {},
   "source": [
    "The CAMUS protocol assigns names to the eight neighbours, and so we will do the same."
   ]
  },
  {
   "cell_type": "markdown",
   "id": "sufficient-nature",
   "metadata": {},
   "source": [
    " - `a` is North\n",
    " - `b` is South\n",
    " - `c` is East\n",
    " - `d` is West\n",
    " - `m` is North-West\n",
    " - `n` is South-East\n",
    " - `o` is North-East\n",
    " - `p` is South-West"
   ]
  },
  {
   "cell_type": "markdown",
   "id": "tight-medline",
   "metadata": {},
   "source": [
    "![The names of the neighbours of a cell in CAMUS](images/neighbours_CAMUS.svg)"
   ]
  },
  {
   "cell_type": "markdown",
   "id": "medical-stomach",
   "metadata": {},
   "source": [
    "We don't want the *coordinates* of the neighbours as much as the values of the neighbours."
   ]
  },
  {
   "cell_type": "code",
   "execution_count": 97,
   "id": "pressed-discretion",
   "metadata": {},
   "outputs": [],
   "source": [
    "def neighbours(bit_grid, coordinate):\n",
    "    \"\"\"For the specified point in the grid return a dictionary of names to cell values.\n",
    "    \n",
    "    The names for the neighbours are from the CAMUS specification.\n",
    "    \"\"\"\n",
    "    x_mid = coordinate[0]\n",
    "    y_mid = coordinate[1]\n",
    "    ordered = [lookup(bit_grid,[x,y]) \n",
    "            for y in (y_mid-1, y_mid, y_mid+1)\n",
    "            for x in (x_mid-1, x_mid, x_mid+1)\n",
    "           ]\n",
    "    return {\n",
    "        \"a\": ordered[7],\n",
    "        \"b\": ordered[1],\n",
    "        \"c\": ordered[5],\n",
    "        \"d\": ordered[3],\n",
    "        \"m\": ordered[6],\n",
    "        \"n\": ordered[2],\n",
    "        \"o\": ordered[8],\n",
    "        \"p\": ordered[0]\n",
    "    }"
   ]
  },
  {
   "cell_type": "code",
   "execution_count": 98,
   "id": "different-donor",
   "metadata": {},
   "outputs": [
    {
     "data": {
      "text/plain": [
       "{'a': 0, 'b': 0, 'c': 1, 'd': 0, 'm': 1, 'n': 0, 'o': 0, 'p': 1}"
      ]
     },
     "execution_count": 98,
     "metadata": {},
     "output_type": "execute_result"
    }
   ],
   "source": [
    "neighbours(example_bits,[1,2])"
   ]
  },
  {
   "cell_type": "markdown",
   "id": "recorded-convert",
   "metadata": {},
   "source": [
    "We will refer to these neighbours just using these single-letter names in what follows."
   ]
  },
  {
   "cell_type": "markdown",
   "id": "appreciated-haiti",
   "metadata": {},
   "source": [
    "### Instrumentation"
   ]
  },
  {
   "cell_type": "markdown",
   "id": "wound-adelaide",
   "metadata": {},
   "source": [
    "The CAMUS protocol comes with a couple of optional variations, and we will use one where the notes of each triad can be played on different instruments. We choose the instruments by thinking of the `triad` and `instrument` subgrids of our bit-grid as two separate grids. We move through the points (x,y) looking at the value in both grids. The first grid determines whether the triad (fundamental, fundamental + x, fundamental+x+y) is played. The second grid determines which instruments play the triad. To allow us to have multiple instruments we will use the following scheme:\n",
    " - neighbour `a` determines if the bottom note is on instrument 0 or 1\n",
    " - neighbour `b` determines if the middle note is on instrument 0 or 1\n",
    " - neighbour `c` determines if the top note is on instrument 0 or 1"
   ]
  },
  {
   "cell_type": "markdown",
   "id": "worldwide-stanford",
   "metadata": {},
   "source": [
    "As an example let's assume that cell `[2,1]` in the triad subgrid has value `1`. We look at the corresponding cell in the instrumentation subgrid, and then look at that cell's neighbours."
   ]
  },
  {
   "cell_type": "markdown",
   "id": "lesser-struggle",
   "metadata": {},
   "source": [
    "To show this in action we will pick a point in the `triads` grid and see the corresponding neighbours in the `instrumentation` grid."
   ]
  },
  {
   "cell_type": "markdown",
   "id": "english-virginia",
   "metadata": {},
   "source": [
    "![Moving from the triad subgrid to the instrumentation subgrid](images/instrumentation_CAMUS.svg)"
   ]
  },
  {
   "cell_type": "markdown",
   "id": "comic-nutrition",
   "metadata": {},
   "source": [
    "Let's make some functions so we can see this on our grid of example bits."
   ]
  },
  {
   "cell_type": "code",
   "execution_count": 164,
   "id": "renewable-antarctica",
   "metadata": {},
   "outputs": [],
   "source": [
    "def mark_triad_and_instrument(bits, triad_coord):\n",
    "    \"\"\"Mark the cell determining the intervals, and the cells determining the instrumentation on the same grid.\"\"\"\n",
    "    return draw_bits(bits, [[triad_coord[0]+1, triad_coord[1]],\n",
    "                            [triad_coord[0]+5, triad_coord[1]+1],\n",
    "                            [triad_coord[0]+6, triad_coord[1]],\n",
    "                            [triad_coord[0]+5, triad_coord[1]-1]])"
   ]
  },
  {
   "cell_type": "markdown",
   "id": "capable-comparison",
   "metadata": {},
   "source": [
    "Remember that the triad coordinate indicates the location just inside the `triad` subgrid, which starts at the second column."
   ]
  },
  {
   "cell_type": "code",
   "execution_count": 165,
   "id": "stable-friend",
   "metadata": {},
   "outputs": [
    {
     "data": {
      "image/svg+xml": [
       "<?xml version=\"1.0\" encoding=\"UTF-8\"?>\n",
       "<svg xmlns=\"http://www.w3.org/2000/svg\" xmlns:xlink=\"http://www.w3.org/1999/xlink\"\n",
       "     width=\"180\" height=\"80\" viewBox=\"0 0 180 80\">\n",
       "<defs>\n",
       "</defs>\n",
       "<rect x=\"0\" y=\"60\" width=\"20\" height=\"20\" fill=\"#00e000\" />\n",
       "<rect x=\"20\" y=\"60\" width=\"20\" height=\"20\" fill=\"#e10000\" />\n",
       "<rect x=\"40\" y=\"60\" width=\"20\" height=\"20\" fill=\"#00e000\" />\n",
       "<rect x=\"60\" y=\"60\" width=\"20\" height=\"20\" fill=\"#e10000\" />\n",
       "<rect x=\"80\" y=\"60\" width=\"20\" height=\"20\" fill=\"#e10000\" />\n",
       "<rect x=\"100\" y=\"60\" width=\"20\" height=\"20\" fill=\"#e10000\" />\n",
       "<rect x=\"120\" y=\"60\" width=\"20\" height=\"20\" fill=\"#e10000\" />\n",
       "<rect x=\"140\" y=\"60\" width=\"20\" height=\"20\" fill=\"#00e000\" />\n",
       "<rect x=\"160\" y=\"60\" width=\"20\" height=\"20\" fill=\"#e10000\" />\n",
       "<rect x=\"0\" y=\"40\" width=\"20\" height=\"20\" fill=\"#00e000\" />\n",
       "<rect x=\"20\" y=\"40\" width=\"20\" height=\"20\" fill=\"#e10000\" />\n",
       "<rect x=\"40\" y=\"40\" width=\"20\" height=\"20\" fill=\"#e10000\" />\n",
       "<rect x=\"60\" y=\"40\" width=\"20\" height=\"20\" fill=\"#e10000\" />\n",
       "<rect x=\"80\" y=\"40\" width=\"20\" height=\"20\" fill=\"#00e000\" />\n",
       "<rect x=\"100\" y=\"40\" width=\"20\" height=\"20\" fill=\"#00e000\" />\n",
       "<rect x=\"120\" y=\"40\" width=\"20\" height=\"20\" fill=\"#e10000\" />\n",
       "<rect x=\"140\" y=\"40\" width=\"20\" height=\"20\" fill=\"#e10000\" />\n",
       "<rect x=\"160\" y=\"40\" width=\"20\" height=\"20\" fill=\"#00e000\" />\n",
       "<rect x=\"0\" y=\"20\" width=\"20\" height=\"20\" fill=\"#e10000\" />\n",
       "<rect x=\"20\" y=\"20\" width=\"20\" height=\"20\" fill=\"#00e000\" />\n",
       "<rect x=\"40\" y=\"20\" width=\"20\" height=\"20\" fill=\"#00e000\" />\n",
       "<rect x=\"60\" y=\"20\" width=\"20\" height=\"20\" fill=\"#00e000\" />\n",
       "<rect x=\"80\" y=\"20\" width=\"20\" height=\"20\" fill=\"#e10000\" />\n",
       "<rect x=\"100\" y=\"20\" width=\"20\" height=\"20\" fill=\"#00e000\" />\n",
       "<rect x=\"120\" y=\"20\" width=\"20\" height=\"20\" fill=\"#e10000\" />\n",
       "<rect x=\"140\" y=\"20\" width=\"20\" height=\"20\" fill=\"#00e000\" />\n",
       "<rect x=\"160\" y=\"20\" width=\"20\" height=\"20\" fill=\"#00e000\" />\n",
       "<rect x=\"0\" y=\"0\" width=\"20\" height=\"20\" fill=\"#00e000\" />\n",
       "<rect x=\"20\" y=\"0\" width=\"20\" height=\"20\" fill=\"#e10000\" />\n",
       "<rect x=\"40\" y=\"0\" width=\"20\" height=\"20\" fill=\"#e10000\" />\n",
       "<rect x=\"60\" y=\"0\" width=\"20\" height=\"20\" fill=\"#00e000\" />\n",
       "<rect x=\"80\" y=\"0\" width=\"20\" height=\"20\" fill=\"#e10000\" />\n",
       "<rect x=\"100\" y=\"0\" width=\"20\" height=\"20\" fill=\"#00e000\" />\n",
       "<rect x=\"120\" y=\"0\" width=\"20\" height=\"20\" fill=\"#e10000\" />\n",
       "<rect x=\"140\" y=\"0\" width=\"20\" height=\"20\" fill=\"#e10000\" />\n",
       "<rect x=\"160\" y=\"0\" width=\"20\" height=\"20\" fill=\"#00e000\" />\n",
       "<circle cx=\"50.0\" cy=\"30.0\" r=\"3.3333333333333335\" fill=\"#11f\" />\n",
       "<circle cx=\"130.0\" cy=\"10.0\" r=\"3.3333333333333335\" fill=\"#11f\" />\n",
       "<circle cx=\"150.0\" cy=\"30.0\" r=\"3.3333333333333335\" fill=\"#11f\" />\n",
       "<circle cx=\"130.0\" cy=\"50.0\" r=\"3.3333333333333335\" fill=\"#11f\" />\n",
       "</svg>"
      ],
      "text/plain": [
       "<drawsvg.drawing.Drawing at 0x1cca9c88f50>"
      ]
     },
     "execution_count": 165,
     "metadata": {},
     "output_type": "execute_result"
    }
   ],
   "source": [
    "mark_triad_and_instrument(example_bits, [1,2])"
   ]
  },
  {
   "cell_type": "code",
   "execution_count": 93,
   "id": "super-mexico",
   "metadata": {},
   "outputs": [],
   "source": [
    "def instrument_from_triad_coord(bits, triad_coord):\n",
    "    \"\"\"Given a triad coordinate find the appropriate list of instruments to play each voice.\"\"\"\n",
    "    instrument_coord = [triad_coord[0]+5, triad_coord[1]] # measured from the top left of the large grid\n",
    "    n = neighbours(bits, instrument_coord)\n",
    "    return [n[\"a\"], n[\"b\"], n[\"c\"]]"
   ]
  },
  {
   "cell_type": "code",
   "execution_count": 88,
   "id": "affecting-authentication",
   "metadata": {},
   "outputs": [
    {
     "data": {
      "text/plain": [
       "[0, 0, 1]"
      ]
     },
     "execution_count": 88,
     "metadata": {},
     "output_type": "execute_result"
    }
   ],
   "source": [
    "instrument_from_triad_coord(example_bits, [1,2])"
   ]
  },
  {
   "cell_type": "markdown",
   "id": "motivated-hawaii",
   "metadata": {},
   "source": [
    "Recall that any cell not inside the grid boundary is treated as having value 0."
   ]
  },
  {
   "cell_type": "code",
   "execution_count": 94,
   "id": "engaging-division",
   "metadata": {},
   "outputs": [
    {
     "data": {
      "image/svg+xml": [
       "<?xml version=\"1.0\" encoding=\"UTF-8\"?>\n",
       "<svg xmlns=\"http://www.w3.org/2000/svg\" xmlns:xlink=\"http://www.w3.org/1999/xlink\"\n",
       "     width=\"180\" height=\"80\" viewBox=\"0 0 180 80\">\n",
       "<defs>\n",
       "</defs>\n",
       "<rect x=\"0\" y=\"60\" width=\"20\" height=\"20\" fill=\"#00e000\" />\n",
       "<rect x=\"20\" y=\"60\" width=\"20\" height=\"20\" fill=\"#e10000\" />\n",
       "<rect x=\"40\" y=\"60\" width=\"20\" height=\"20\" fill=\"#00e000\" />\n",
       "<rect x=\"60\" y=\"60\" width=\"20\" height=\"20\" fill=\"#e10000\" />\n",
       "<rect x=\"80\" y=\"60\" width=\"20\" height=\"20\" fill=\"#e10000\" />\n",
       "<rect x=\"100\" y=\"60\" width=\"20\" height=\"20\" fill=\"#e10000\" />\n",
       "<rect x=\"120\" y=\"60\" width=\"20\" height=\"20\" fill=\"#e10000\" />\n",
       "<rect x=\"140\" y=\"60\" width=\"20\" height=\"20\" fill=\"#00e000\" />\n",
       "<rect x=\"160\" y=\"60\" width=\"20\" height=\"20\" fill=\"#e10000\" />\n",
       "<rect x=\"0\" y=\"40\" width=\"20\" height=\"20\" fill=\"#00e000\" />\n",
       "<rect x=\"20\" y=\"40\" width=\"20\" height=\"20\" fill=\"#e10000\" />\n",
       "<rect x=\"40\" y=\"40\" width=\"20\" height=\"20\" fill=\"#e10000\" />\n",
       "<rect x=\"60\" y=\"40\" width=\"20\" height=\"20\" fill=\"#e10000\" />\n",
       "<rect x=\"80\" y=\"40\" width=\"20\" height=\"20\" fill=\"#00e000\" />\n",
       "<rect x=\"100\" y=\"40\" width=\"20\" height=\"20\" fill=\"#00e000\" />\n",
       "<rect x=\"120\" y=\"40\" width=\"20\" height=\"20\" fill=\"#e10000\" />\n",
       "<rect x=\"140\" y=\"40\" width=\"20\" height=\"20\" fill=\"#e10000\" />\n",
       "<rect x=\"160\" y=\"40\" width=\"20\" height=\"20\" fill=\"#00e000\" />\n",
       "<rect x=\"0\" y=\"20\" width=\"20\" height=\"20\" fill=\"#e10000\" />\n",
       "<rect x=\"20\" y=\"20\" width=\"20\" height=\"20\" fill=\"#00e000\" />\n",
       "<rect x=\"40\" y=\"20\" width=\"20\" height=\"20\" fill=\"#00e000\" />\n",
       "<rect x=\"60\" y=\"20\" width=\"20\" height=\"20\" fill=\"#00e000\" />\n",
       "<rect x=\"80\" y=\"20\" width=\"20\" height=\"20\" fill=\"#e10000\" />\n",
       "<rect x=\"100\" y=\"20\" width=\"20\" height=\"20\" fill=\"#00e000\" />\n",
       "<rect x=\"120\" y=\"20\" width=\"20\" height=\"20\" fill=\"#e10000\" />\n",
       "<rect x=\"140\" y=\"20\" width=\"20\" height=\"20\" fill=\"#00e000\" />\n",
       "<rect x=\"160\" y=\"20\" width=\"20\" height=\"20\" fill=\"#00e000\" />\n",
       "<rect x=\"0\" y=\"0\" width=\"20\" height=\"20\" fill=\"#00e000\" />\n",
       "<rect x=\"20\" y=\"0\" width=\"20\" height=\"20\" fill=\"#e10000\" />\n",
       "<rect x=\"40\" y=\"0\" width=\"20\" height=\"20\" fill=\"#e10000\" />\n",
       "<rect x=\"60\" y=\"0\" width=\"20\" height=\"20\" fill=\"#00e000\" />\n",
       "<rect x=\"80\" y=\"0\" width=\"20\" height=\"20\" fill=\"#e10000\" />\n",
       "<rect x=\"100\" y=\"0\" width=\"20\" height=\"20\" fill=\"#00e000\" />\n",
       "<rect x=\"120\" y=\"0\" width=\"20\" height=\"20\" fill=\"#e10000\" />\n",
       "<rect x=\"140\" y=\"0\" width=\"20\" height=\"20\" fill=\"#e10000\" />\n",
       "<rect x=\"160\" y=\"0\" width=\"20\" height=\"20\" fill=\"#00e000\" />\n",
       "<circle cx=\"30.0\" cy=\"70.0\" r=\"3.3333333333333335\" fill=\"#11f\" />\n",
       "<circle cx=\"110.0\" cy=\"50.0\" r=\"3.3333333333333335\" fill=\"#11f\" />\n",
       "<circle cx=\"130.0\" cy=\"70.0\" r=\"3.3333333333333335\" fill=\"#11f\" />\n",
       "<circle cx=\"110.0\" cy=\"90.0\" r=\"3.3333333333333335\" fill=\"#11f\" />\n",
       "</svg>"
      ],
      "text/plain": [
       "<drawsvg.drawing.Drawing at 0x1cca88a3b50>"
      ]
     },
     "execution_count": 94,
     "metadata": {},
     "output_type": "execute_result"
    }
   ],
   "source": [
    "mark_triad_and_instrument(example_bits, [0,0])"
   ]
  },
  {
   "cell_type": "code",
   "execution_count": 99,
   "id": "interim-verification",
   "metadata": {},
   "outputs": [
    {
     "data": {
      "text/plain": [
       "[1, 0, 0]"
      ]
     },
     "execution_count": 99,
     "metadata": {},
     "output_type": "execute_result"
    }
   ],
   "source": [
    "instrument_from_triad_coord(example_bits, [0,0])"
   ]
  },
  {
   "cell_type": "markdown",
   "id": "surrounded-armor",
   "metadata": {},
   "source": [
    "### Timing"
   ]
  },
  {
   "cell_type": "markdown",
   "id": "obvious-cocktail",
   "metadata": {},
   "source": [
    "The original CAMUS protocol had an incomplete collection of \"temporal morphologies\" i.e. timing templates indicating when each voice of the triad starts and stops in the bar. We expand on that here in the following way:\n",
    " - `a` indicates whether the bottom note of the triad starts on the first beat of the bar or waits a little\n",
    " - `b` indicates whether the middle note of the triad starts on the first beat of the bar or waits a little\n",
    " - `c` indicates whether the upper note of the triad starts on the first beat of the bar or waits a little\n",
    " - `d` determines how long the wait is. If `1` then wait a quaver, if `0` then wait a crotchet\n",
    " "
   ]
  },
  {
   "cell_type": "markdown",
   "id": "critical-reasoning",
   "metadata": {},
   "source": [
    "Similarly we use `mnop` for the timings at the end of the bar:\n",
    "\n",
    " - `m` indicates whether the bottom note of the triad goes to the end of the bar or finishes early \n",
    " - `n` indicates whether the middle note of the triad goes to the end of the bar or finishes early\n",
    " - `o` indicates whether the upper note of the triad goes to the end of the bar or finishes early\n",
    " - `p` determines what _finishes early_ means. If `1` then a quaver early, if `0` then a crotchet early"
   ]
  },
  {
   "cell_type": "markdown",
   "id": "approximate-companion",
   "metadata": {},
   "source": [
    "Using dark bars to indicate note placement and duration here is a diagram showing how the values in neighbouring cells affect the timings of the notes played."
   ]
  },
  {
   "cell_type": "markdown",
   "id": "false-desert",
   "metadata": {},
   "source": [
    "![How to determine timings under CAMUS](images/timings_CAMUS.svg)"
   ]
  },
  {
   "cell_type": "code",
   "execution_count": 100,
   "id": "collect-magic",
   "metadata": {},
   "outputs": [],
   "source": [
    "def timings(bits, triad_coord, short_wait=0.5, long_wait=1):\n",
    "    \"\"\"Given a triad coordinate find the lengths of the rests (if any) before and after the part is played.\n",
    "    \n",
    "    `short_wait` is the length of the rest if the appropriate cell's value is `1`,\n",
    "    and `long_wait` is the length of the rest if the appropriate cell's value is `0`.\n",
    "    \n",
    "    `offset` is used when concatenating data, and shifts all timings the specified amount.\n",
    "    \"\"\"\n",
    "    n = neighbours(bits, [triad_coord[0]+1, triad_coord[1]])\n",
    "    entry = [n[direction] * (short_wait if n[\"d\"] else long_wait) for direction in \"abc\"]\n",
    "    exit = [n[direction] * (short_wait if n[\"p\"] else long_wait) for direction in \"mno\"]\n",
    "    return {\"entry\": entry, \"exit\": exit }"
   ]
  },
  {
   "cell_type": "markdown",
   "id": "swiss-latvia",
   "metadata": {},
   "source": [
    "Remember that triad bit coordinates are shifted over by one from general grid coordinates."
   ]
  },
  {
   "cell_type": "code",
   "execution_count": 101,
   "id": "victorian-egyptian",
   "metadata": {},
   "outputs": [
    {
     "data": {
      "image/svg+xml": [
       "<?xml version=\"1.0\" encoding=\"UTF-8\"?>\n",
       "<svg xmlns=\"http://www.w3.org/2000/svg\" xmlns:xlink=\"http://www.w3.org/1999/xlink\"\n",
       "     width=\"180\" height=\"80\" viewBox=\"0 0 180 80\">\n",
       "<defs>\n",
       "</defs>\n",
       "<rect x=\"0\" y=\"60\" width=\"20\" height=\"20\" fill=\"#00e000\" />\n",
       "<rect x=\"20\" y=\"60\" width=\"20\" height=\"20\" fill=\"#e10000\" />\n",
       "<rect x=\"40\" y=\"60\" width=\"20\" height=\"20\" fill=\"#00e000\" />\n",
       "<rect x=\"60\" y=\"60\" width=\"20\" height=\"20\" fill=\"#e10000\" />\n",
       "<rect x=\"80\" y=\"60\" width=\"20\" height=\"20\" fill=\"#e10000\" />\n",
       "<rect x=\"100\" y=\"60\" width=\"20\" height=\"20\" fill=\"#e10000\" />\n",
       "<rect x=\"120\" y=\"60\" width=\"20\" height=\"20\" fill=\"#e10000\" />\n",
       "<rect x=\"140\" y=\"60\" width=\"20\" height=\"20\" fill=\"#00e000\" />\n",
       "<rect x=\"160\" y=\"60\" width=\"20\" height=\"20\" fill=\"#e10000\" />\n",
       "<rect x=\"0\" y=\"40\" width=\"20\" height=\"20\" fill=\"#00e000\" />\n",
       "<rect x=\"20\" y=\"40\" width=\"20\" height=\"20\" fill=\"#e10000\" />\n",
       "<rect x=\"40\" y=\"40\" width=\"20\" height=\"20\" fill=\"#e10000\" />\n",
       "<rect x=\"60\" y=\"40\" width=\"20\" height=\"20\" fill=\"#e10000\" />\n",
       "<rect x=\"80\" y=\"40\" width=\"20\" height=\"20\" fill=\"#00e000\" />\n",
       "<rect x=\"100\" y=\"40\" width=\"20\" height=\"20\" fill=\"#00e000\" />\n",
       "<rect x=\"120\" y=\"40\" width=\"20\" height=\"20\" fill=\"#e10000\" />\n",
       "<rect x=\"140\" y=\"40\" width=\"20\" height=\"20\" fill=\"#e10000\" />\n",
       "<rect x=\"160\" y=\"40\" width=\"20\" height=\"20\" fill=\"#00e000\" />\n",
       "<rect x=\"0\" y=\"20\" width=\"20\" height=\"20\" fill=\"#e10000\" />\n",
       "<rect x=\"20\" y=\"20\" width=\"20\" height=\"20\" fill=\"#00e000\" />\n",
       "<rect x=\"40\" y=\"20\" width=\"20\" height=\"20\" fill=\"#00e000\" />\n",
       "<rect x=\"60\" y=\"20\" width=\"20\" height=\"20\" fill=\"#00e000\" />\n",
       "<rect x=\"80\" y=\"20\" width=\"20\" height=\"20\" fill=\"#e10000\" />\n",
       "<rect x=\"100\" y=\"20\" width=\"20\" height=\"20\" fill=\"#00e000\" />\n",
       "<rect x=\"120\" y=\"20\" width=\"20\" height=\"20\" fill=\"#e10000\" />\n",
       "<rect x=\"140\" y=\"20\" width=\"20\" height=\"20\" fill=\"#00e000\" />\n",
       "<rect x=\"160\" y=\"20\" width=\"20\" height=\"20\" fill=\"#00e000\" />\n",
       "<rect x=\"0\" y=\"0\" width=\"20\" height=\"20\" fill=\"#00e000\" />\n",
       "<rect x=\"20\" y=\"0\" width=\"20\" height=\"20\" fill=\"#e10000\" />\n",
       "<rect x=\"40\" y=\"0\" width=\"20\" height=\"20\" fill=\"#e10000\" />\n",
       "<rect x=\"60\" y=\"0\" width=\"20\" height=\"20\" fill=\"#00e000\" />\n",
       "<rect x=\"80\" y=\"0\" width=\"20\" height=\"20\" fill=\"#e10000\" />\n",
       "<rect x=\"100\" y=\"0\" width=\"20\" height=\"20\" fill=\"#00e000\" />\n",
       "<rect x=\"120\" y=\"0\" width=\"20\" height=\"20\" fill=\"#e10000\" />\n",
       "<rect x=\"140\" y=\"0\" width=\"20\" height=\"20\" fill=\"#e10000\" />\n",
       "<rect x=\"160\" y=\"0\" width=\"20\" height=\"20\" fill=\"#00e000\" />\n",
       "<circle cx=\"30.0\" cy=\"70.0\" r=\"3.3333333333333335\" fill=\"#11f\" />\n",
       "<circle cx=\"30.0\" cy=\"50.0\" r=\"3.3333333333333335\" fill=\"#11f\" />\n",
       "<circle cx=\"30.0\" cy=\"30.0\" r=\"3.3333333333333335\" fill=\"#11f\" />\n",
       "<circle cx=\"50.0\" cy=\"70.0\" r=\"3.3333333333333335\" fill=\"#11f\" />\n",
       "<circle cx=\"50.0\" cy=\"50.0\" r=\"3.3333333333333335\" fill=\"#11f\" />\n",
       "<circle cx=\"50.0\" cy=\"30.0\" r=\"3.3333333333333335\" fill=\"#11f\" />\n",
       "<circle cx=\"70.0\" cy=\"70.0\" r=\"3.3333333333333335\" fill=\"#11f\" />\n",
       "<circle cx=\"70.0\" cy=\"50.0\" r=\"3.3333333333333335\" fill=\"#11f\" />\n",
       "<circle cx=\"70.0\" cy=\"30.0\" r=\"3.3333333333333335\" fill=\"#11f\" />\n",
       "</svg>"
      ],
      "text/plain": [
       "<drawsvg.drawing.Drawing at 0x1cca87fe810>"
      ]
     },
     "execution_count": 101,
     "metadata": {},
     "output_type": "execute_result"
    }
   ],
   "source": [
    "draw_neighbours(example_bits,[2,1])"
   ]
  },
  {
   "cell_type": "code",
   "execution_count": 102,
   "id": "alive-publicity",
   "metadata": {},
   "outputs": [
    {
     "data": {
      "text/plain": [
       "{'entry': [1, 1, 0], 'exit': [1, 0, 1]}"
      ]
     },
     "execution_count": 102,
     "metadata": {},
     "output_type": "execute_result"
    }
   ],
   "source": [
    "timings(example_bits, [1,1])"
   ]
  },
  {
   "cell_type": "markdown",
   "id": "existing-consultancy",
   "metadata": {},
   "source": [
    "### Putting it together (bit by bit)"
   ]
  },
  {
   "cell_type": "markdown",
   "id": "biological-commander",
   "metadata": {},
   "source": [
    "We now have everything we need to start making music, so let's gather it all into one place."
   ]
  },
  {
   "cell_type": "code",
   "execution_count": 103,
   "id": "institutional-treat",
   "metadata": {},
   "outputs": [],
   "source": [
    "def bits_to_triad_sequence(bits):\n",
    "    \"\"\"From a grid of bits make a list of triads with instrumentation and timing information included.\n",
    "    \"\"\"\n",
    "    breakdown = bit_breakdown(bits)\n",
    "    fundamental = breakdown_to_semitone_shift(breakdown[\"fundamental\"])\n",
    "    triad_coordinates = triad_bits_to_coordinate_sequence(breakdown[\"triads\"])\n",
    "    triad_data = [{\"intervals\": intervals_to_triad(fundamental, coordinate),\n",
    "                  \"instruments\": instrument_from_triad_coord(bits, coordinate),\n",
    "                  \"timings\": timings(bits, coordinate)}\n",
    "                  for coordinate in triad_coordinates] \n",
    "    return triad_data"
   ]
  },
  {
   "cell_type": "code",
   "execution_count": 104,
   "id": "constant-galaxy",
   "metadata": {},
   "outputs": [
    {
     "data": {
      "text/plain": [
       "[{'intervals': [13, 14, 14],\n",
       "  'instruments': [0, 0, 1],\n",
       "  'timings': {'entry': [0, 0, 0], 'exit': [0, 0, 0]}},\n",
       " {'intervals': [13, 16, 17],\n",
       "  'instruments': [1, 0, 0],\n",
       "  'timings': {'entry': [0, 0, 1], 'exit': [1, 0, 1]}},\n",
       " {'intervals': [13, 13, 15],\n",
       "  'instruments': [1, 1, 0],\n",
       "  'timings': {'entry': [0, 0, 1], 'exit': [0.5, 0.0, 0.0]}},\n",
       " {'intervals': [13, 14, 16],\n",
       "  'instruments': [0, 0, 1],\n",
       "  'timings': {'entry': [0.0, 0.0, 0.5], 'exit': [0, 0, 1]}},\n",
       " {'intervals': [13, 15, 17],\n",
       "  'instruments': [0, 0, 1],\n",
       "  'timings': {'entry': [0.5, 0.0, 0.0], 'exit': [0, 1, 0]}},\n",
       " {'intervals': [13, 15, 18],\n",
       "  'instruments': [0, 1, 1],\n",
       "  'timings': {'entry': [0, 1, 0], 'exit': [0.0, 0.0, 0.0]}}]"
      ]
     },
     "execution_count": 104,
     "metadata": {},
     "output_type": "execute_result"
    }
   ],
   "source": [
    "bits_to_triad_sequence(example_bits)"
   ]
  },
  {
   "cell_type": "markdown",
   "id": "retired-triangle",
   "metadata": {},
   "source": [
    "### Sequence of bit grids"
   ]
  },
  {
   "cell_type": "markdown",
   "id": "thick-coral",
   "metadata": {},
   "source": [
    "We will want to be able to chain bit grids together into one long composition."
   ]
  },
  {
   "cell_type": "code",
   "execution_count": 105,
   "id": "equivalent-measurement",
   "metadata": {},
   "outputs": [],
   "source": [
    "def sequence_of_bit_grids_to_triads(list_of_bit_grids):\n",
    "    return [triad \n",
    "            for bits in list_of_bit_grids\n",
    "            for triad in bits_to_triad_sequence(bits)]"
   ]
  },
  {
   "cell_type": "markdown",
   "id": "underlying-monroe",
   "metadata": {},
   "source": [
    "Here's how to produce triad data from inputting the same example bits twice."
   ]
  },
  {
   "cell_type": "code",
   "execution_count": 106,
   "id": "antique-collector",
   "metadata": {},
   "outputs": [
    {
     "data": {
      "text/plain": [
       "[{'intervals': [13, 14, 14],\n",
       "  'instruments': [0, 0, 1],\n",
       "  'timings': {'entry': [0, 0, 0], 'exit': [0, 0, 0]}},\n",
       " {'intervals': [13, 16, 17],\n",
       "  'instruments': [1, 0, 0],\n",
       "  'timings': {'entry': [0, 0, 1], 'exit': [1, 0, 1]}},\n",
       " {'intervals': [13, 13, 15],\n",
       "  'instruments': [1, 1, 0],\n",
       "  'timings': {'entry': [0, 0, 1], 'exit': [0.5, 0.0, 0.0]}},\n",
       " {'intervals': [13, 14, 16],\n",
       "  'instruments': [0, 0, 1],\n",
       "  'timings': {'entry': [0.0, 0.0, 0.5], 'exit': [0, 0, 1]}},\n",
       " {'intervals': [13, 15, 17],\n",
       "  'instruments': [0, 0, 1],\n",
       "  'timings': {'entry': [0.5, 0.0, 0.0], 'exit': [0, 1, 0]}},\n",
       " {'intervals': [13, 15, 18],\n",
       "  'instruments': [0, 1, 1],\n",
       "  'timings': {'entry': [0, 1, 0], 'exit': [0.0, 0.0, 0.0]}},\n",
       " {'intervals': [13, 14, 14],\n",
       "  'instruments': [0, 0, 1],\n",
       "  'timings': {'entry': [0, 0, 0], 'exit': [0, 0, 0]}},\n",
       " {'intervals': [13, 16, 17],\n",
       "  'instruments': [1, 0, 0],\n",
       "  'timings': {'entry': [0, 0, 1], 'exit': [1, 0, 1]}},\n",
       " {'intervals': [13, 13, 15],\n",
       "  'instruments': [1, 1, 0],\n",
       "  'timings': {'entry': [0, 0, 1], 'exit': [0.5, 0.0, 0.0]}},\n",
       " {'intervals': [13, 14, 16],\n",
       "  'instruments': [0, 0, 1],\n",
       "  'timings': {'entry': [0.0, 0.0, 0.5], 'exit': [0, 0, 1]}},\n",
       " {'intervals': [13, 15, 17],\n",
       "  'instruments': [0, 0, 1],\n",
       "  'timings': {'entry': [0.5, 0.0, 0.0], 'exit': [0, 1, 0]}},\n",
       " {'intervals': [13, 15, 18],\n",
       "  'instruments': [0, 1, 1],\n",
       "  'timings': {'entry': [0, 1, 0], 'exit': [0.0, 0.0, 0.0]}}]"
      ]
     },
     "execution_count": 106,
     "metadata": {},
     "output_type": "execute_result"
    }
   ],
   "source": [
    "sequence_of_bit_grids_to_triads([example_bits, example_bits])"
   ]
  },
  {
   "cell_type": "markdown",
   "id": "normal-assets",
   "metadata": {},
   "source": [
    "### Putting it together (part by part)"
   ]
  },
  {
   "cell_type": "markdown",
   "id": "collective-azerbaijan",
   "metadata": {},
   "source": [
    "The above data is segmented into triads, but we would rather have this data by _instrument_ for turning it into MIDI."
   ]
  },
  {
   "cell_type": "code",
   "execution_count": 107,
   "id": "phantom-cleveland",
   "metadata": {},
   "outputs": [],
   "source": [
    "def triads_to_instrument_parts(triad_data, offset = 0):\n",
    "    \"\"\"From a grid of bits construct instructions for each instrument part.\n",
    "    \n",
    "    `offset`: shift all timings by the specified amount.\n",
    "    \"\"\"\n",
    "    instruments = [[],[]]\n",
    "    for index, triad in enumerate(triad_data):\n",
    "        for part in [0,1,2]:\n",
    "            instruments[triad[\"instruments\"][part]].append({\n",
    "                \"pitch\": triad[\"intervals\"][part],\n",
    "                \"entry\": offset + index*3 + triad[\"timings\"][\"entry\"][part],\n",
    "                \"exit\": offset + (index+1)*3 - triad[\"timings\"][\"exit\"][part]\n",
    "            })\n",
    "    return instruments"
   ]
  },
  {
   "cell_type": "code",
   "execution_count": 47,
   "id": "convertible-merchandise",
   "metadata": {},
   "outputs": [
    {
     "data": {
      "text/plain": [
       "[[{'pitch': 11, 'entry': 0.0, 'exit': 3},\n",
       "  {'pitch': 12, 'entry': 3.0, 'exit': 6},\n",
       "  {'pitch': 14, 'entry': 7, 'exit': 8.5},\n",
       "  {'pitch': 14, 'entry': 7, 'exit': 9.0},\n",
       "  {'pitch': 11, 'entry': 9, 'exit': 11.5},\n",
       "  {'pitch': 13, 'entry': 10, 'exit': 11.5},\n",
       "  {'pitch': 14, 'entry': 12.5, 'exit': 15.0},\n",
       "  {'pitch': 15, 'entry': 12.5, 'exit': 14.5},\n",
       "  {'pitch': 14, 'entry': 16, 'exit': 17},\n",
       "  {'pitch': 11, 'entry': 18.5, 'exit': 21.0},\n",
       "  {'pitch': 13, 'entry': 18.0, 'exit': 20.5},\n",
       "  {'pitch': 14, 'entry': 21.5, 'exit': 23},\n",
       "  {'pitch': 16, 'entry': 21.0, 'exit': 23},\n",
       "  {'pitch': 15, 'entry': 24, 'exit': 26},\n",
       "  {'pitch': 14, 'entry': 27, 'exit': 30},\n",
       "  {'pitch': 17, 'entry': 28, 'exit': 30}],\n",
       " [{'pitch': 11, 'entry': 0.0, 'exit': 3},\n",
       "  {'pitch': 11, 'entry': 0.5, 'exit': 3},\n",
       "  {'pitch': 11, 'entry': 3.0, 'exit': 6},\n",
       "  {'pitch': 12, 'entry': 3.0, 'exit': 5},\n",
       "  {'pitch': 11, 'entry': 6, 'exit': 9.0},\n",
       "  {'pitch': 14, 'entry': 10, 'exit': 11.5},\n",
       "  {'pitch': 11, 'entry': 12.5, 'exit': 15.0},\n",
       "  {'pitch': 11, 'entry': 15, 'exit': 18},\n",
       "  {'pitch': 12, 'entry': 16, 'exit': 18},\n",
       "  {'pitch': 15, 'entry': 18.5, 'exit': 20.5},\n",
       "  {'pitch': 11, 'entry': 21.5, 'exit': 23},\n",
       "  {'pitch': 11, 'entry': 25, 'exit': 27},\n",
       "  {'pitch': 12, 'entry': 24, 'exit': 27},\n",
       "  {'pitch': 11, 'entry': 28, 'exit': 29}]]"
      ]
     },
     "execution_count": 47,
     "metadata": {},
     "output_type": "execute_result"
    }
   ],
   "source": [
    "triads_to_instrument_parts(bits_to_triad_sequence(example_bits))"
   ]
  },
  {
   "cell_type": "code",
   "execution_count": 108,
   "id": "acknowledged-encyclopedia",
   "metadata": {},
   "outputs": [],
   "source": [
    "def triads_to_voice_parts(triad_data):\n",
    "    \"\"\"From a grid of bits construct instructions for each instrument part.\n",
    "    \n",
    "    `offset`: shift all timings by the specified amount.\n",
    "    \"\"\"\n",
    "    voices = [[],[],[]]\n",
    "    for index, triad in enumerate(triad_data):\n",
    "        for voice in [0,1,2]:\n",
    "            voices[voice].append({\n",
    "                \"pitch\": triad[\"intervals\"][voice],\n",
    "                \"entry\": index*3 + triad[\"timings\"][\"entry\"][voice],\n",
    "                \"exit\": (index+1)*3 - triad[\"timings\"][\"exit\"][voice],\n",
    "                \"instrument\": triad[\"instruments\"][voice]\n",
    "            })\n",
    "    return voices"
   ]
  },
  {
   "cell_type": "code",
   "execution_count": 109,
   "id": "optimum-chile",
   "metadata": {},
   "outputs": [
    {
     "data": {
      "text/plain": [
       "[[{'pitch': 13, 'entry': 0, 'exit': 3, 'instrument': 0},\n",
       "  {'pitch': 13, 'entry': 3, 'exit': 5, 'instrument': 1},\n",
       "  {'pitch': 13, 'entry': 6, 'exit': 8.5, 'instrument': 1},\n",
       "  {'pitch': 13, 'entry': 9.0, 'exit': 12, 'instrument': 0},\n",
       "  {'pitch': 13, 'entry': 12.5, 'exit': 15, 'instrument': 0},\n",
       "  {'pitch': 13, 'entry': 15, 'exit': 18.0, 'instrument': 0}],\n",
       " [{'pitch': 14, 'entry': 0, 'exit': 3, 'instrument': 0},\n",
       "  {'pitch': 16, 'entry': 3, 'exit': 6, 'instrument': 0},\n",
       "  {'pitch': 13, 'entry': 6, 'exit': 9.0, 'instrument': 1},\n",
       "  {'pitch': 14, 'entry': 9.0, 'exit': 12, 'instrument': 0},\n",
       "  {'pitch': 15, 'entry': 12.0, 'exit': 14, 'instrument': 0},\n",
       "  {'pitch': 15, 'entry': 16, 'exit': 18.0, 'instrument': 1}],\n",
       " [{'pitch': 14, 'entry': 0, 'exit': 3, 'instrument': 1},\n",
       "  {'pitch': 17, 'entry': 4, 'exit': 5, 'instrument': 0},\n",
       "  {'pitch': 15, 'entry': 7, 'exit': 9.0, 'instrument': 0},\n",
       "  {'pitch': 16, 'entry': 9.5, 'exit': 11, 'instrument': 1},\n",
       "  {'pitch': 17, 'entry': 12.0, 'exit': 15, 'instrument': 1},\n",
       "  {'pitch': 18, 'entry': 15, 'exit': 18.0, 'instrument': 1}]]"
      ]
     },
     "execution_count": 109,
     "metadata": {},
     "output_type": "execute_result"
    }
   ],
   "source": [
    "triads_to_voice_parts(bits_to_triad_sequence(example_bits))"
   ]
  },
  {
   "cell_type": "markdown",
   "id": "intimate-pearl",
   "metadata": {},
   "source": [
    "# Making Music"
   ]
  },
  {
   "cell_type": "markdown",
   "id": "handmade-leadership",
   "metadata": {},
   "source": [
    "Now we turn all of the information above into music. We will actually want the following ways of representing our music:\n",
    " - Split by instrument\n",
    " - Split by voice (low, middle, high)\n",
    "\n",
    "We will want to be able to save this information in the following formats:\n",
    " - A MIDI file, with instruments specified\n",
    " - MusicXML format"
   ]
  },
  {
   "cell_type": "code",
   "execution_count": 110,
   "id": "accessory-fever",
   "metadata": {},
   "outputs": [],
   "source": [
    "# This is the default instrumentation the composition will use, unless you override it in the function calls\n",
    "instrumentation = (music21.instrument.Vibraphone, music21.instrument.Marimba)"
   ]
  },
  {
   "cell_type": "markdown",
   "id": "quantitative-southwest",
   "metadata": {},
   "source": [
    "### Streams split by instrument"
   ]
  },
  {
   "cell_type": "markdown",
   "id": "present-occasion",
   "metadata": {},
   "source": [
    "We have been using numbers to represent notes, so here is a function that turns a number (representing the number of semitones above low C) into its MIDI name."
   ]
  },
  {
   "cell_type": "code",
   "execution_count": 111,
   "id": "adjusted-marathon",
   "metadata": {},
   "outputs": [],
   "source": [
    "import musical_scales\n",
    "def int_to_midi(note_int, shift = 0):\n",
    "    \"\"\"Get the note name from a specification of semitones above middle C.\n",
    "    \n",
    "    Use the `shift` parameter to transpose the entire piece that many semitones up.\n",
    "    For example use `shift = -12` to transpose the piece down an octave.\n",
    "    \"\"\"\n",
    "    return musical_scales.Note(semitones_above_middle_c=note_int+12 + shift).midi"
   ]
  },
  {
   "cell_type": "code",
   "execution_count": 112,
   "id": "hundred-catalyst",
   "metadata": {
    "jupyter": {
     "source_hidden": true
    }
   },
   "outputs": [],
   "source": [
    "def bit_grid_to_chord_sequence_with_instruments_stream(triad_sequence, instruments=instrumentation):\n",
    "    \"\"\"Construct a stream as two parts, one for each instrument.\"\"\"\n",
    "    instrument_parts = triads_to_instrument_parts(triad_sequence)\n",
    "\n",
    "    piece_length_in_beats = max(map(lambda note: note[\"exit\"], [note\n",
    "                                                                for part in instrument_parts\n",
    "                                                                for note in part]))\n",
    "    piece_length_in_bars = math.ceil(piece_length_in_beats / 3)\n",
    "\n",
    "    def notes_in_bar(notes, bar):\n",
    "        \"\"\"Only those notes that sound in the given bar.\"\"\"\n",
    "        return [note for note in notes if note[\"entry\"] >= bar*3 and note[\"exit\"] <= (bar+1)*3]\n",
    "\n",
    "    def notes_playing_at_time(notes, time):\n",
    "        \"\"\"Only those notes that sound in the given bar.\"\"\"\n",
    "        return [note for note in notes if note[\"entry\"] <= time and note[\"exit\"] > time]\n",
    "    stream = music21.stream.Stream()\n",
    "    stream.insert(0, music21.layout.ScoreLayout(isNew=True))\n",
    "    parts = []\n",
    "    for instrument_index, instrument in enumerate([instruments[0](), instruments[1]()]):\n",
    "        notes_for_this_instrument = instrument_parts[instrument_index]\n",
    "        part = music21.stream.Part(str(instrument))\n",
    "\n",
    "        for bar in range(piece_length_in_bars):\n",
    "            measure = music21.stream.Measure(number=bar)\n",
    "            \n",
    "            if bar == 0:\n",
    "                measure.insert(0, instrument)\n",
    "                measure.insert(0, music21.meter.TimeSignature('3/4'))\n",
    "            relevant_notes = notes_in_bar(notes_for_this_instrument, bar)\n",
    "            event_timings = sorted([note[\"entry\"] for note in relevant_notes] +\n",
    "                                   [note[\"exit\"] for note in relevant_notes] +\n",
    "                                   [bar*3, (bar+1)*3])\n",
    "\n",
    "            timings_and_durations = []\n",
    "            for index in range(len(event_timings) - 1):\n",
    "                timings_and_durations.append(\n",
    "                    (event_timings[index], event_timings[index+1] - event_timings[index]))\n",
    "            \n",
    "            # Need to keep handles on the generated chords so we can add ties\n",
    "            chords_in_this_bar = []\n",
    "            for timing, duration in timings_and_durations:\n",
    "                if duration > 0:\n",
    "                    notes_playing = notes_playing_at_time(\n",
    "                        relevant_notes, timing)\n",
    "                    music21_duration = music21.duration.Duration(duration)\n",
    "                    if len(notes_playing) == 0:\n",
    "                        measure.insert(timing - 3*bar, music21.note.Rest(\n",
    "                            duration=music21_duration))\n",
    "                    else:\n",
    "                        pitches = [int_to_midi(note[\"pitch\"]) for note in notes_playing]\n",
    "                        chord = music21.chord.Chord(pitches, duration=music21_duration)\n",
    "                        chords_in_this_bar.append(chord)\n",
    "                        measure.insert(timing - 3*bar, chord)\n",
    "                        \n",
    "                        \n",
    "            # Add the ties to the chords\n",
    "            if len(chords_in_this_bar) < 2:\n",
    "                pass\n",
    "            else:\n",
    "                # Set everything to a \"continue\" tie, then overwrite the first and final chords\n",
    "                for n in range(len(chords_in_this_bar)):\n",
    "                    chords_in_this_bar[n].tie = music21.tie.Tie(\"continue\")\n",
    "                chords_in_this_bar[0].tie = music21.tie.Tie(\"start\")\n",
    "                chords_in_this_bar[-1].tie = music21.tie.Tie(\"stop\")\n",
    "            \n",
    "            # Add the bar to the part\n",
    "            part.insert(3*bar, measure)\n",
    "            \n",
    "        parts.append(part)\n",
    "        \n",
    "    # Add the parts to the stream\n",
    "    for part in parts:\n",
    "        stream.insert(0, part)\n",
    "        \n",
    "    # Tell the stream to band the parts together\n",
    "    stream.insert(0, music21.layout.StaffGroup(parts, symbol=\"brace\"))\n",
    "    \n",
    "    return stream\n"
   ]
  },
  {
   "cell_type": "markdown",
   "id": "orange-raising",
   "metadata": {},
   "source": [
    "### Streams split by voice"
   ]
  },
  {
   "cell_type": "code",
   "execution_count": 113,
   "id": "broken-union",
   "metadata": {
    "jupyter": {
     "source_hidden": true
    }
   },
   "outputs": [],
   "source": [
    "def bit_grid_to_voices_stream(triad_sequence, instruments = []):\n",
    "    \"\"\"Construct a stream as three voices, ignoring instrument information.\"\"\"\n",
    "    stream = music21.stream.Score()\n",
    "    stream.insert(0, music21.layout.ScoreLayout(isNew=True))\n",
    "    \n",
    "    parts = [music21.stream.Part() for i in range(3)]\n",
    "    \n",
    "    for index, instrument in enumerate(instruments):\n",
    "        parts[index].insert(0, instrument())\n",
    "    \n",
    "    for index, triad in enumerate(triad_sequence):\n",
    "        measures = [music21.stream.Measure(number=index) for i in range(3)]\n",
    "        if index == 0:\n",
    "            for m_index, measure in enumerate(measures):\n",
    "                measure.insert(0, music21.meter.TimeSignature('3/4'))\n",
    "        for voice in [0,1,2]:\n",
    "            instrument_index = triad[\"instruments\"][voice]\n",
    "            entry = triad[\"timings\"][\"entry\"][voice]\n",
    "            if entry > 0:\n",
    "                measures[voice].insert(0, music21.note.Rest(duration=music21.duration.Duration(entry)))\n",
    "            exit = triad[\"timings\"][\"exit\"][voice]\n",
    "            note = music21.note.Note(int_to_midi(triad[\"intervals\"][voice]),\n",
    "                                     duration=music21.duration.Duration(3-exit-entry))\n",
    "            measures[voice].insert(entry, note)\n",
    "            if exit > 0:\n",
    "                measures[voice].insert(3-exit, music21.note.Rest(duration=music21.duration.Duration(exit)))\n",
    "        [parts[i].insert(3*index, measures[i]) for i in range(3)]\n",
    "        \n",
    "    for part in parts:\n",
    "        stream.insert(0, part)\n",
    "    stream.insert(0, music21.layout.StaffGroup(parts, symbol=\"brace\"))\n",
    "    return stream"
   ]
  },
  {
   "cell_type": "markdown",
   "id": "hazardous-county",
   "metadata": {},
   "source": [
    "## Making OSC"
   ]
  },
  {
   "cell_type": "markdown",
   "id": "breeding-objective",
   "metadata": {},
   "source": [
    "### Instrumentation as specified by CAMUS"
   ]
  },
  {
   "cell_type": "code",
   "execution_count": 126,
   "id": "flying-celtic",
   "metadata": {
    "tags": []
   },
   "outputs": [],
   "source": [
    "def bit_grids_to_midi_instrumentation_from_CAMUS(list_of_bit_grids, shift=0, tempo=120, instruments = instrumentation):\n",
    "    \"\"\"Save a MIDI file, instrumentation determined by CAMUS.\n",
    "    \n",
    "    filename: Name of the saved MIDI file\n",
    "    shift: Transpose the piece that many semitonrs\n",
    "    tempo: Tempo\n",
    "    instruments: The two instruments that CAMUS can use\n",
    "    \"\"\"\n",
    "    #midiFile = midiutil.MIDIFile(len(instrumentation)) # 1 track\n",
    "    \n",
    "    \n",
    "    instrument_parts = triads_to_instrument_parts(sequence_of_bit_grids_to_triads(list_of_bit_grids))\n",
    "    \n",
    "    \n",
    "    for instrument, instrument_part in enumerate(instrument_parts):\n",
    "        midiFile.addTempo(instrument,0,tempo)\n",
    "        midiFile.addProgramChange(instrument, 0, entry, instrument)\n",
    "        for note in instrument_part:\n",
    "            pitch = note[\"pitch\"] + 42 + shift\n",
    "            #instrument =  instruments[note[\"instrument\"]]().midiProgram\n",
    "            entry = float(note[\"entry\"])\n",
    "            duration = float(note[\"exit\"] - note[\"entry\"])\n",
    "            if duration > 0:\n",
    "                midiFile.addProgramChange(instrument, 0, entry, instrument)\n",
    "                midiFile.addNote(instrument, 0, pitch, entry, duration, 100)\n",
    "    \n",
    "    with open(filename, \"wb\") as output_file:\n",
    "        midiFile.writeFile(output_file)"
   ]
  },
  {
   "cell_type": "code",
   "execution_count": 155,
   "id": "869f7e27-5f59-410b-a1f4-e92ef778ed99",
   "metadata": {},
   "outputs": [
    {
     "data": {
      "text/plain": [
       "[[2, 2, 2, 1, 2, 1, 2],\n",
       " [2, 1, 2, 2, 1, 2, 2],\n",
       " [2, 1, 3, 1, 1, 3, 1, 2, 1, 2],\n",
       " [1, 2, 1, 2, 2, 2, 2],\n",
       " [3, 1, 3, 1, 3, 1],\n",
       " [2, 2, 1, 2, 2, 1, 1, 1],\n",
       " [3, 2, 1, 1, 3, 2],\n",
       " [1, 1, 1, 1, 1, 1, 1, 1, 1, 1, 1, 1],\n",
       " [2, 1, 2, 2, 2, 1, 2],\n",
       " [1, 3, 1, 2, 1, 3, 1],\n",
       " [1, 3, 2, 2, 2, 1, 1],\n",
       " [1, 3, 1, 2, 1, 3, 1],\n",
       " [2, 1, 3, 1, 1, 2, 2],\n",
       " [2, 1, 2, 1, 2, 2, 2],\n",
       " [2, 2, 1, 2, 1, 3, 1],\n",
       " [2, 1, 2, 2, 1, 3, 1],\n",
       " [4, 2, 1, 4, 1],\n",
       " [2, 1, 3, 1, 1, 3, 1],\n",
       " [3, 1, 2, 1, 2, 1, 2],\n",
       " [1, 4, 2, 1, 4],\n",
       " [1, 4, 2, 3, 2],\n",
       " [2, 2, 1, 2, 2, 2, 1],\n",
       " [1, 4, 1, 4, 2],\n",
       " [1, 2, 2, 1, 2, 2, 2],\n",
       " [2, 2, 2, 2, 1, 2, 1],\n",
       " [2, 2, 2, 1, 2, 2, 1],\n",
       " [2, 2, 1, 1, 2, 2, 2],\n",
       " [2, 2, 3, 2, 3],\n",
       " [2, 1, 2, 2, 2, 2, 1],\n",
       " [2, 1, 2, 2, 2, 2, 1],\n",
       " [3, 2, 2, 3, 2],\n",
       " [2, 2, 1, 2, 2, 1, 2],\n",
       " [1, 2, 2, 2, 2, 2, 1],\n",
       " [1, 2, 2, 2, 1, 3, 1],\n",
       " [2, 1, 2, 1, 2, 1, 2, 1],\n",
       " [1, 2, 1, 2, 1, 2, 1],\n",
       " [1, 3, 1, 1, 2, 3, 1],\n",
       " [1, 3, 1, 2, 1, 2, 2],\n",
       " [1, 2, 2, 2, 1, 2, 2],\n",
       " [2, 2, 2, 3, 1, 2],\n",
       " [3, 1, 1, 2, 2, 3],\n",
       " [1, 3, 2, 1, 3, 2],\n",
       " [1, 1, 4, 1, 1, 4],\n",
       " [2, 1, 3, 1, 2, 1, 2],\n",
       " [2, 2, 2, 2, 2, 2],\n",
       " [3, 2, 2, 3, 2],\n",
       " [2, 2, 1, 2, 2, 2, 1]]"
      ]
     },
     "execution_count": 155,
     "metadata": {},
     "output_type": "execute_result"
    }
   ],
   "source": [
    "list(musical_scales.scale_intervals.values())\n",
    "#*math.pow(2,1/12)"
   ]
  },
  {
   "cell_type": "code",
   "execution_count": 138,
   "id": "859cf344-c99a-43d5-b69d-a0e99a504d88",
   "metadata": {},
   "outputs": [
    {
     "name": "stdout",
     "output_type": "stream",
     "text": [
      "[13, 14, 14]\n",
      "[13, 16, 17]\n",
      "[13, 13, 15]\n",
      "[13, 14, 16]\n",
      "[13, 15, 17]\n",
      "[13, 15, 18]\n",
      "[13, 14, 14]\n",
      "[13, 16, 17]\n",
      "[13, 13, 15]\n",
      "[13, 14, 16]\n",
      "[13, 15, 17]\n",
      "[13, 15, 18]\n"
     ]
    }
   ],
   "source": [
    "for triad in sequence_of_bit_grids_to_triads([example_bits, example_bits]):\n",
    "    print(triad['intervals'])"
   ]
  },
  {
   "cell_type": "code",
   "execution_count": 135,
   "id": "fe24cf56-6007-4a7f-be3b-1397370ce66b",
   "metadata": {},
   "outputs": [
    {
     "data": {
      "text/plain": [
       "[[{'pitch': 13, 'entry': 0, 'exit': 3},\n",
       "  {'pitch': 14, 'entry': 0, 'exit': 3},\n",
       "  {'pitch': 16, 'entry': 3, 'exit': 6},\n",
       "  {'pitch': 17, 'entry': 4, 'exit': 5},\n",
       "  {'pitch': 15, 'entry': 7, 'exit': 9.0},\n",
       "  {'pitch': 13, 'entry': 9.0, 'exit': 12},\n",
       "  {'pitch': 14, 'entry': 9.0, 'exit': 12},\n",
       "  {'pitch': 13, 'entry': 12.5, 'exit': 15},\n",
       "  {'pitch': 15, 'entry': 12.0, 'exit': 14},\n",
       "  {'pitch': 13, 'entry': 15, 'exit': 18.0},\n",
       "  {'pitch': 13, 'entry': 18, 'exit': 21},\n",
       "  {'pitch': 14, 'entry': 18, 'exit': 21},\n",
       "  {'pitch': 16, 'entry': 21, 'exit': 24},\n",
       "  {'pitch': 17, 'entry': 22, 'exit': 23},\n",
       "  {'pitch': 15, 'entry': 25, 'exit': 27.0},\n",
       "  {'pitch': 13, 'entry': 27.0, 'exit': 30},\n",
       "  {'pitch': 14, 'entry': 27.0, 'exit': 30},\n",
       "  {'pitch': 13, 'entry': 30.5, 'exit': 33},\n",
       "  {'pitch': 15, 'entry': 30.0, 'exit': 32},\n",
       "  {'pitch': 13, 'entry': 33, 'exit': 36.0}],\n",
       " [{'pitch': 14, 'entry': 0, 'exit': 3},\n",
       "  {'pitch': 13, 'entry': 3, 'exit': 5},\n",
       "  {'pitch': 13, 'entry': 6, 'exit': 8.5},\n",
       "  {'pitch': 13, 'entry': 6, 'exit': 9.0},\n",
       "  {'pitch': 16, 'entry': 9.5, 'exit': 11},\n",
       "  {'pitch': 17, 'entry': 12.0, 'exit': 15},\n",
       "  {'pitch': 15, 'entry': 16, 'exit': 18.0},\n",
       "  {'pitch': 18, 'entry': 15, 'exit': 18.0},\n",
       "  {'pitch': 14, 'entry': 18, 'exit': 21},\n",
       "  {'pitch': 13, 'entry': 21, 'exit': 23},\n",
       "  {'pitch': 13, 'entry': 24, 'exit': 26.5},\n",
       "  {'pitch': 13, 'entry': 24, 'exit': 27.0},\n",
       "  {'pitch': 16, 'entry': 27.5, 'exit': 29},\n",
       "  {'pitch': 17, 'entry': 30.0, 'exit': 33},\n",
       "  {'pitch': 15, 'entry': 34, 'exit': 36.0},\n",
       "  {'pitch': 18, 'entry': 33, 'exit': 36.0}]]"
      ]
     },
     "execution_count": 135,
     "metadata": {},
     "output_type": "execute_result"
    }
   ],
   "source": [
    "instrument_parts = triads_to_instrument_parts(sequence_of_bit_grids_to_triads([example_bits, example_bits]))\n",
    "instrument_parts"
   ]
  },
  {
   "cell_type": "code",
   "execution_count": null,
   "id": "d57ca63b-957a-4ff3-b445-4e0ffec8b267",
   "metadata": {},
   "outputs": [],
   "source": [
    "from pythonosc import udp_client\n",
    "\n",
    "# Set up the OSC client\n",
    "ip = \"127.0.0.1\"  # SuperCollider's IP address (localhost in this case)\n",
    "port = 57120  # SuperCollider's default OSC port\n",
    "client = udp_client.SimpleUDPClient(ip, port)\n",
    "\n",
    "# Define the OSC message\n",
    "address = \"/some/address\"  # The OSC address in SuperCollider\n",
    "arg1 = 1  # First argument\n",
    "arg2 = 2  # Second argument\n",
    "arg3 = \"hello\"  # Third argument\n",
    "arg4 = 3.14  # Fourth argument\n",
    "\n",
    "# Send the OSC message\n",
    "client.send_message(address, [arg1, arg2, arg3, arg4])\n"
   ]
  },
  {
   "cell_type": "code",
   "execution_count": 127,
   "id": "virgin-papua",
   "metadata": {},
   "outputs": [
    {
     "ename": "IndexError",
     "evalue": "pop from empty list",
     "output_type": "error",
     "traceback": [
      "\u001b[1;31m---------------------------------------------------------------------------\u001b[0m",
      "\u001b[1;31mIndexError\u001b[0m                                Traceback (most recent call last)",
      "Cell \u001b[1;32mIn[127], line 1\u001b[0m\n\u001b[1;32m----> 1\u001b[0m \u001b[43mbit_grids_to_midi_instrumentation_from_CAMUS\u001b[49m\u001b[43m(\u001b[49m\u001b[43m[\u001b[49m\u001b[43mexample_bits\u001b[49m\u001b[43m]\u001b[49m\u001b[43m)\u001b[49m\n",
      "Cell \u001b[1;32mIn[126], line 27\u001b[0m, in \u001b[0;36mbit_grids_to_midi_instrumentation_from_CAMUS\u001b[1;34m(list_of_bit_grids, filename, shift, tempo, instruments)\u001b[0m\n\u001b[0;32m     24\u001b[0m             midiFile\u001b[38;5;241m.\u001b[39maddNote(instrument, \u001b[38;5;241m0\u001b[39m, pitch, entry, duration, \u001b[38;5;241m100\u001b[39m)\n\u001b[0;32m     26\u001b[0m \u001b[38;5;28;01mwith\u001b[39;00m \u001b[38;5;28mopen\u001b[39m(filename, \u001b[38;5;124m\"\u001b[39m\u001b[38;5;124mwb\u001b[39m\u001b[38;5;124m\"\u001b[39m) \u001b[38;5;28;01mas\u001b[39;00m output_file:\n\u001b[1;32m---> 27\u001b[0m     \u001b[43mmidiFile\u001b[49m\u001b[38;5;241;43m.\u001b[39;49m\u001b[43mwriteFile\u001b[49m\u001b[43m(\u001b[49m\u001b[43moutput_file\u001b[49m\u001b[43m)\u001b[49m\n",
      "File \u001b[1;32mC:\\Python311\\Lib\\site-packages\\midiutil\\MidiFile.py:1637\u001b[0m, in \u001b[0;36mMIDIFile.writeFile\u001b[1;34m(self, fileHandle)\u001b[0m\n\u001b[0;32m   1634\u001b[0m \u001b[38;5;28mself\u001b[39m\u001b[38;5;241m.\u001b[39mheader\u001b[38;5;241m.\u001b[39mwriteFile(fileHandle)\n\u001b[0;32m   1636\u001b[0m \u001b[38;5;66;03m# Close the tracks and have them create the MIDI event data structures.\u001b[39;00m\n\u001b[1;32m-> 1637\u001b[0m \u001b[38;5;28;43mself\u001b[39;49m\u001b[38;5;241;43m.\u001b[39;49m\u001b[43mclose\u001b[49m\u001b[43m(\u001b[49m\u001b[43m)\u001b[49m\n\u001b[0;32m   1639\u001b[0m \u001b[38;5;66;03m# Write the MIDI Events to file.\u001b[39;00m\n\u001b[0;32m   1640\u001b[0m \u001b[38;5;28;01mfor\u001b[39;00m i \u001b[38;5;129;01min\u001b[39;00m \u001b[38;5;28mrange\u001b[39m(\u001b[38;5;241m0\u001b[39m, \u001b[38;5;28mself\u001b[39m\u001b[38;5;241m.\u001b[39mnumTracks):\n",
      "File \u001b[1;32mC:\\Python311\\Lib\\site-packages\\midiutil\\MidiFile.py:1688\u001b[0m, in \u001b[0;36mMIDIFile.close\u001b[1;34m(self)\u001b[0m\n\u001b[0;32m   1685\u001b[0m     \u001b[38;5;28;01mreturn\u001b[39;00m\n\u001b[0;32m   1687\u001b[0m \u001b[38;5;28;01mfor\u001b[39;00m i \u001b[38;5;129;01min\u001b[39;00m \u001b[38;5;28mrange\u001b[39m(\u001b[38;5;241m0\u001b[39m, \u001b[38;5;28mself\u001b[39m\u001b[38;5;241m.\u001b[39mnumTracks):\n\u001b[1;32m-> 1688\u001b[0m     \u001b[38;5;28;43mself\u001b[39;49m\u001b[38;5;241;43m.\u001b[39;49m\u001b[43mtracks\u001b[49m\u001b[43m[\u001b[49m\u001b[43mi\u001b[49m\u001b[43m]\u001b[49m\u001b[38;5;241;43m.\u001b[39;49m\u001b[43mcloseTrack\u001b[49m\u001b[43m(\u001b[49m\u001b[43m)\u001b[49m\n\u001b[0;32m   1689\u001b[0m     \u001b[38;5;66;03m# We want things like program changes to come before notes when\u001b[39;00m\n\u001b[0;32m   1690\u001b[0m     \u001b[38;5;66;03m# they are at the same time, so we sort the MIDI events by both\u001b[39;00m\n\u001b[0;32m   1691\u001b[0m     \u001b[38;5;66;03m# their start time and a secondary ordinality defined for each kind\u001b[39;00m\n\u001b[0;32m   1692\u001b[0m     \u001b[38;5;66;03m# of event.\u001b[39;00m\n\u001b[0;32m   1693\u001b[0m     \u001b[38;5;28mself\u001b[39m\u001b[38;5;241m.\u001b[39mtracks[i]\u001b[38;5;241m.\u001b[39mMIDIEventList\u001b[38;5;241m.\u001b[39msort(key\u001b[38;5;241m=\u001b[39msort_events)\n",
      "File \u001b[1;32mC:\\Python311\\Lib\\site-packages\\midiutil\\MidiFile.py:826\u001b[0m, in \u001b[0;36mMIDITrack.closeTrack\u001b[1;34m(self)\u001b[0m\n\u001b[0;32m    823\u001b[0m \u001b[38;5;28;01mif\u001b[39;00m \u001b[38;5;28mself\u001b[39m\u001b[38;5;241m.\u001b[39mremdep:\n\u001b[0;32m    824\u001b[0m     \u001b[38;5;28mself\u001b[39m\u001b[38;5;241m.\u001b[39mremoveDuplicates()\n\u001b[1;32m--> 826\u001b[0m \u001b[38;5;28;43mself\u001b[39;49m\u001b[38;5;241;43m.\u001b[39;49m\u001b[43mprocessEventList\u001b[49m\u001b[43m(\u001b[49m\u001b[43m)\u001b[49m\n",
      "File \u001b[1;32mC:\\Python311\\Lib\\site-packages\\midiutil\\MidiFile.py:789\u001b[0m, in \u001b[0;36mMIDITrack.processEventList\u001b[1;34m(self)\u001b[0m\n\u001b[0;32m    786\u001b[0m \u001b[38;5;28mself\u001b[39m\u001b[38;5;241m.\u001b[39mMIDIEventList\u001b[38;5;241m.\u001b[39msort(key\u001b[38;5;241m=\u001b[39msort_events)\n\u001b[0;32m    788\u001b[0m \u001b[38;5;28;01mif\u001b[39;00m \u001b[38;5;28mself\u001b[39m\u001b[38;5;241m.\u001b[39mdeinterleave:\n\u001b[1;32m--> 789\u001b[0m     \u001b[38;5;28;43mself\u001b[39;49m\u001b[38;5;241;43m.\u001b[39;49m\u001b[43mdeInterleaveNotes\u001b[49m\u001b[43m(\u001b[49m\u001b[43m)\u001b[49m\n",
      "File \u001b[1;32mC:\\Python311\\Lib\\site-packages\\midiutil\\MidiFile.py:889\u001b[0m, in \u001b[0;36mMIDITrack.deInterleaveNotes\u001b[1;34m(self)\u001b[0m\n\u001b[0;32m    887\u001b[0m             tempEventList\u001b[38;5;241m.\u001b[39mappend(event)\n\u001b[0;32m    888\u001b[0m         \u001b[38;5;28;01melse\u001b[39;00m:\n\u001b[1;32m--> 889\u001b[0m             stack[noteeventkey]\u001b[38;5;241m.\u001b[39mpop()\n\u001b[0;32m    890\u001b[0m             tempEventList\u001b[38;5;241m.\u001b[39mappend(event)\n\u001b[0;32m    891\u001b[0m \u001b[38;5;28;01melse\u001b[39;00m:\n",
      "\u001b[1;31mIndexError\u001b[0m: pop from empty list"
     ]
    }
   ],
   "source": [
    "bit_grids_to_midi_instrumentation_from_CAMUS([example_bits])"
   ]
  },
  {
   "cell_type": "code",
   "execution_count": null,
   "id": "dc496d97-77d3-4d0e-a900-defaf18ad93c",
   "metadata": {},
   "outputs": [],
   "source": []
  },
  {
   "cell_type": "markdown",
   "id": "dying-anthony",
   "metadata": {},
   "source": [
    "### Each voice given a different instrument"
   ]
  },
  {
   "cell_type": "code",
   "execution_count": 130,
   "id": "funny-corps",
   "metadata": {},
   "outputs": [],
   "source": [
    "def bit_grids_to_midi_instrumentation_by_voice(list_of_bit_grids, instruments, filename=\"temp.midi\", shift=0, tempo=120):\n",
    "    \"\"\"Save a MIDI file, instrumetnation determined by voice.\n",
    "    \n",
    "    instruments: The three isntruments to use, one per voice\n",
    "    filename: Name of the saved MIDI file\n",
    "    shift: Transpose the piece that many semitonrs\n",
    "    tempo: Tempo\n",
    "    \"\"\"\n",
    "    midiFile = midiutil.MIDIFile(1,file_format=1) # 1 track\n",
    "    midiFile.addTempo(0,0,tempo)\n",
    "    \n",
    "    voice_parts = triads_to_voice_parts(sequence_of_bit_grids_to_triads(list_of_bit_grids))\n",
    "    \n",
    "    \n",
    "    for voice, voice_part in enumerate(voice_parts):\n",
    "        \n",
    "        for note in voice_part:\n",
    "            pitch = note[\"pitch\"] + 42 + shift\n",
    "            instrument =  instruments[voice]().midiProgram\n",
    "            entry = float(note[\"entry\"])\n",
    "            duration = float(note[\"exit\"] - note[\"entry\"])\n",
    "            if duration > 0:\n",
    "                midiFile.addProgramChange(0, voice, entry, instrument)\n",
    "                midiFile.addNote(0, voice, pitch, entry, duration, 100)\n",
    "    \n",
    "    with open(filename, \"wb\") as output_file:\n",
    "        midiFile.writeFile(output_file)"
   ]
  },
  {
   "cell_type": "code",
   "execution_count": 119,
   "id": "62293921-b6ad-46d3-8521-efc1312cc924",
   "metadata": {},
   "outputs": [
    {
     "ename": "TypeError",
     "evalue": "'MIDIFile' object is not subscriptable",
     "output_type": "error",
     "traceback": [
      "\u001b[1;31m---------------------------------------------------------------------------\u001b[0m",
      "\u001b[1;31mTypeError\u001b[0m                                 Traceback (most recent call last)",
      "Cell \u001b[1;32mIn[119], line 2\u001b[0m\n\u001b[0;32m      1\u001b[0m a \u001b[38;5;241m=\u001b[39m midiutil\u001b[38;5;241m.\u001b[39mMIDIFile(\u001b[38;5;241m3\u001b[39m)\n\u001b[1;32m----> 2\u001b[0m \u001b[43ma\u001b[49m\u001b[43m[\u001b[49m\u001b[38;5;241;43m3\u001b[39;49m\u001b[43m]\u001b[49m\n",
      "\u001b[1;31mTypeError\u001b[0m: 'MIDIFile' object is not subscriptable"
     ]
    }
   ],
   "source": [
    "a = midiutil.MIDIFile(3)\n",
    "a.writeFile"
   ]
  },
  {
   "cell_type": "code",
   "execution_count": 131,
   "id": "assigned-employer",
   "metadata": {},
   "outputs": [],
   "source": [
    "bit_grids_to_midi_instrumentation_by_voice([example_bits], [music21.instrument.Piano, music21.instrument.Xylophone, music21.instrument.Marimba])"
   ]
  },
  {
   "cell_type": "markdown",
   "id": "trained-steam",
   "metadata": {},
   "source": [
    "### Summary of creating outputs"
   ]
  },
  {
   "cell_type": "markdown",
   "id": "dependent-publicity",
   "metadata": {},
   "source": [
    "Creating MusicXML:\n",
    " - `save_musicxml(bit_grid_to_voices_stream(example_bits), \"voices.xml\")` - one instrument per voice, defaults to \"temp.xml\"\n",
    " - `save_musicxml(bit_grid_to_chord_sequence_with_instruments_stream(example_bits))` - instruments determined by CAMUS, defaults to \"temp.xml\""
   ]
  },
  {
   "cell_type": "markdown",
   "id": "altered-stranger",
   "metadata": {},
   "source": [
    "Creating MIDI:\n",
    " - `bit_grid_to_midi_instrumentation_from_CAMUS(example_bits)` - instruments determined by CAMUS, defaults to \"temp.midi\"\n",
    " - `bit_grid_to_midi_instrumentation_by_voice(example_bits, [music21.instrument.Piano, music21.instrument.Xylophone, music21.instrument.Marimba])` - one instrument per voice, defaults to \"temp.midi\""
   ]
  },
  {
   "cell_type": "markdown",
   "id": "junior-drive",
   "metadata": {},
   "source": [
    "# Making it your own"
   ]
  },
  {
   "cell_type": "markdown",
   "id": "heard-preparation",
   "metadata": {},
   "source": [
    "All that matters in the above is that we start with a grid of bits and end with musical instructions. For example you can:\n",
    " - Change the instrumentation by altering the `instruments` argument for `bit_grid_to_chord_sequence`\n",
    "   - Remember you can write `music21.instrument.` and then press `tab` to see a list of options\n",
    "   - The list of instruments afforded by `music21` is also found in the right hand side of [this page](http://web.mit.edu/music21/doc/moduleReference/moduleInstrument.html)\n",
    "   - You can also specify a [MIDI program number](http://www.ccarh.org/courses/253/handout/gminstruments/)\n",
    "       using `music21.instrument.instrumentFromMidiProgram(number-1)`\n",
    " - Change how long the rests are by altering the values of `long_rest` and `short_rest` in the function `timings`\n",
    " - Change the default value of the `shift` parameter in `int_to_midi` to transpose your composition up or down"
   ]
  },
  {
   "cell_type": "markdown",
   "id": "sublime-couple",
   "metadata": {},
   "source": [
    "# Making it Quantum"
   ]
  },
  {
   "cell_type": "markdown",
   "id": "minute-episode",
   "metadata": {},
   "source": [
    "As with the 1D case we will need `pqca` to provide the Automaton, and `qiskit` so we can draw out quantum circuits."
   ]
  },
  {
   "cell_type": "code",
   "execution_count": 63,
   "id": "appropriate-window",
   "metadata": {},
   "outputs": [],
   "source": [
    "import qiskit"
   ]
  },
  {
   "cell_type": "code",
   "execution_count": 167,
   "id": "excellent-andrews",
   "metadata": {},
   "outputs": [],
   "source": [
    "import pqca"
   ]
  },
  {
   "cell_type": "markdown",
   "id": "orange-florence",
   "metadata": {},
   "source": [
    "Let's start everything in the state where it's all $0$s. Note that the Automaton expects a list of qubits rather than a grid. We encode the grid structure when we describe the update frames later on."
   ]
  },
  {
   "cell_type": "code",
   "execution_count": 65,
   "id": "level-plasma",
   "metadata": {},
   "outputs": [],
   "source": [
    "initial_state = [0]*9*4"
   ]
  },
  {
   "cell_type": "markdown",
   "id": "obvious-clarity",
   "metadata": {},
   "source": [
    "Rather than describe a circuit that acts on $36$ qubits we will describe two circuits - one that acts on just two qubits (that acts \"vertically\") and one on three qubits (that acts \"horizontally\")."
   ]
  },
  {
   "cell_type": "markdown",
   "id": "comic-belief",
   "metadata": {},
   "source": [
    "![A grid 9 wide and 4 tall split into cells 1 wide and 2 tall](images/vertical_9_by_4.svg)"
   ]
  },
  {
   "cell_type": "code",
   "execution_count": 168,
   "id": "objective-testimony",
   "metadata": {},
   "outputs": [],
   "source": [
    "tes_1 = pqca.tessellation.n_dimensional([9,4],[1,2])"
   ]
  },
  {
   "cell_type": "markdown",
   "id": "composed-tuition",
   "metadata": {},
   "source": [
    "![A grid 9 wide and 4 tall split into cells 3 wide and 1 tall](images/horizontal_9_by_4.svg)"
   ]
  },
  {
   "cell_type": "code",
   "execution_count": 169,
   "id": "creative-kelly",
   "metadata": {},
   "outputs": [],
   "source": [
    "tes_2 = pqca.tessellation.n_dimensional([9,4],[3,1])"
   ]
  },
  {
   "cell_type": "code",
   "execution_count": 67,
   "id": "1b7f3a4b-95c5-4941-998f-edba55954998",
   "metadata": {},
   "outputs": [],
   "source": [
    "tes_2 = pqca.tessellation.n_dimensional([9,4],[3,1])"
   ]
  },
  {
   "cell_type": "markdown",
   "id": "stopped-howard",
   "metadata": {},
   "source": [
    "What should our circuits be? That's up to you! Here are two examples; note that since the automaton state starts in all $0$s you will want at least one gate that sends a $0$ state to something else."
   ]
  },
  {
   "cell_type": "code",
   "execution_count": 68,
   "id": "instructional-concentrate",
   "metadata": {},
   "outputs": [
    {
     "data": {
      "text/html": [
       "<pre style=\"word-wrap: normal;white-space: pre;background: #fff0;line-height: 1.1;font-family: &quot;Courier New&quot;,Courier,monospace\">          ┌───┐\n",
       "q_0: ──■──┤ H ├\n",
       "     ┌─┴─┐└───┘\n",
       "q_1: ┤ X ├─────\n",
       "     └───┘     </pre>"
      ],
      "text/plain": [
       "          ┌───┐\n",
       "q_0: ──■──┤ H ├\n",
       "     ┌─┴─┐└───┘\n",
       "q_1: ┤ X ├─────\n",
       "     └───┘     "
      ]
     },
     "execution_count": 68,
     "metadata": {},
     "output_type": "execute_result"
    }
   ],
   "source": [
    "two_qubit_circuit = qiskit.QuantumCircuit(2)\n",
    "two_qubit_circuit.cx(0,1)\n",
    "two_qubit_circuit.h(0)\n",
    "two_qubit_circuit.draw()"
   ]
  },
  {
   "cell_type": "code",
   "execution_count": 69,
   "id": "favorite-integration",
   "metadata": {},
   "outputs": [
    {
     "data": {
      "text/html": [
       "<pre style=\"word-wrap: normal;white-space: pre;background: #fff0;line-height: 1.1;font-family: &quot;Courier New&quot;,Courier,monospace\">                    \n",
       "q_0: ──■────────────\n",
       "     ┌─┴─┐┌───┐     \n",
       "q_1: ┤ X ├┤ X ├──■──\n",
       "     └───┘└───┘┌─┴─┐\n",
       "q_2: ──────────┤ X ├\n",
       "               └───┘</pre>"
      ],
      "text/plain": [
       "                    \n",
       "q_0: ──■────────────\n",
       "     ┌─┴─┐┌───┐     \n",
       "q_1: ┤ X ├┤ X ├──■──\n",
       "     └───┘└───┘┌─┴─┐\n",
       "q_2: ──────────┤ X ├\n",
       "               └───┘"
      ]
     },
     "execution_count": 69,
     "metadata": {},
     "output_type": "execute_result"
    }
   ],
   "source": [
    "three_qubit_circuit = qiskit.QuantumCircuit(3)\n",
    "three_qubit_circuit.cx(0,1)\n",
    "three_qubit_circuit.x(1)\n",
    "three_qubit_circuit.cx(1,2)\n",
    "three_qubit_circuit.draw()"
   ]
  },
  {
   "cell_type": "markdown",
   "id": "finnish-training",
   "metadata": {},
   "source": [
    "Now to put this all together; remember that an Update Frame is a tessellation of the qubits into cells, and a circuit that acts on each cell."
   ]
  },
  {
   "cell_type": "code",
   "execution_count": 70,
   "id": "legendary-division",
   "metadata": {},
   "outputs": [],
   "source": [
    "update_frame_1 = pqca.UpdateFrame(tes_1, qiskit_circuit=two_qubit_circuit)"
   ]
  },
  {
   "cell_type": "code",
   "execution_count": 71,
   "id": "swiss-appraisal",
   "metadata": {},
   "outputs": [],
   "source": [
    "update_frame_2 = pqca.UpdateFrame(tes_2,  qiskit_circuit=three_qubit_circuit)"
   ]
  },
  {
   "cell_type": "markdown",
   "id": "clinical-shepherd",
   "metadata": {},
   "source": [
    "And we combine this with the Aer qiskit simulator backend to apply our big circuit to the current state."
   ]
  },
  {
   "cell_type": "code",
   "execution_count": 72,
   "id": "based-halifax",
   "metadata": {},
   "outputs": [],
   "source": [
    "automaton = pqca.Automaton(initial_state, [update_frame_1, update_frame_2], pqca.backend.qiskit())"
   ]
  },
  {
   "cell_type": "markdown",
   "id": "effective-recipient",
   "metadata": {},
   "source": [
    "Just how big is this update circuit?"
   ]
  },
  {
   "cell_type": "code",
   "execution_count": 73,
   "id": "ecological-latino",
   "metadata": {},
   "outputs": [
    {
     "data": {
      "text/html": [
       "<pre style=\"word-wrap: normal;white-space: pre;background: #fff0;line-height: 1.1;font-family: &quot;Courier New&quot;,Courier,monospace\">           ┌───┐                                        \n",
       " q_0: ──■──┤ H ├────────────■───────────────────────────\n",
       "      ┌─┴─┐└───┘            │                           \n",
       " q_1: ┤ X ├───────■─────────┼───────────────────────────\n",
       "      └───┘┌───┐  │         │                           \n",
       " q_2: ──■──┤ H ├──┼─────────┼────■──────────────────────\n",
       "      ┌─┴─┐└───┘  │         │    │                      \n",
       " q_3: ┤ X ├───────┼────■────┼────┼──────────────────────\n",
       "      └───┘┌───┐  │    │  ┌─┴─┐  │  ┌───┐               \n",
       " q_4: ──■──┤ H ├──┼────┼──┤ X ├──┼──┤ X ├───────■───────\n",
       "      ┌─┴─┐└───┘┌─┴─┐  │  ├───┤  │  └───┘       │       \n",
       " q_5: ┤ X ├─────┤ X ├──┼──┤ X ├──┼────■─────────┼───────\n",
       "      └───┘┌───┐└───┘  │  └───┘┌─┴─┐  │  ┌───┐  │       \n",
       " q_6: ──■──┤ H ├───────┼───────┤ X ├──┼──┤ X ├──┼────■──\n",
       "      ┌─┴─┐└───┘     ┌─┴─┐┌───┐└───┘  │  └───┘  │    │  \n",
       " q_7: ┤ X ├──────────┤ X ├┤ X ├──■────┼─────────┼────┼──\n",
       "      └───┘┌───┐     └───┘└───┘  │    │       ┌─┴─┐  │  \n",
       " q_8: ──■──┤ H ├─────────────────┼────┼───────┤ X ├──┼──\n",
       "      ┌─┴─┐└───┘                 │  ┌─┴─┐     └───┘  │  \n",
       " q_9: ┤ X ├──────────────────────┼──┤ X ├────────────┼──\n",
       "      └───┘┌───┐                 │  └───┘          ┌─┴─┐\n",
       "q_10: ──■──┤ H ├─────────────────┼─────────────────┤ X ├\n",
       "      ┌─┴─┐└───┘               ┌─┴─┐               └───┘\n",
       "q_11: ┤ X ├────────────────────┤ X ├────────────────────\n",
       "      └───┘┌───┐               └───┘                    \n",
       "q_12: ──■──┤ H ├────────────■───────────────────────────\n",
       "      ┌─┴─┐└───┘            │                           \n",
       "q_13: ┤ X ├───────■─────────┼───────────────────────────\n",
       "      └───┘┌───┐  │         │                           \n",
       "q_14: ──■──┤ H ├──┼─────────┼────■──────────────────────\n",
       "      ┌─┴─┐└───┘  │         │    │                      \n",
       "q_15: ┤ X ├───────┼────■────┼────┼──────────────────────\n",
       "      └───┘┌───┐  │    │  ┌─┴─┐  │  ┌───┐               \n",
       "q_16: ──■──┤ H ├──┼────┼──┤ X ├──┼──┤ X ├───────■───────\n",
       "      ┌─┴─┐└───┘┌─┴─┐  │  ├───┤  │  └───┘       │       \n",
       "q_17: ┤ X ├─────┤ X ├──┼──┤ X ├──┼────■─────────┼───────\n",
       "      └───┘┌───┐└───┘  │  └───┘┌─┴─┐  │  ┌───┐  │       \n",
       "q_18: ──■──┤ H ├───────┼───────┤ X ├──┼──┤ X ├──┼────■──\n",
       "      ┌─┴─┐└───┘     ┌─┴─┐┌───┐└───┘  │  └───┘  │    │  \n",
       "q_19: ┤ X ├──────────┤ X ├┤ X ├──■────┼─────────┼────┼──\n",
       "      └───┘┌───┐     └───┘└───┘  │    │       ┌─┴─┐  │  \n",
       "q_20: ──■──┤ H ├─────────────────┼────┼───────┤ X ├──┼──\n",
       "      ┌─┴─┐└───┘                 │  ┌─┴─┐     └───┘  │  \n",
       "q_21: ┤ X ├──────────────────────┼──┤ X ├────────────┼──\n",
       "      └───┘┌───┐                 │  └───┘          ┌─┴─┐\n",
       "q_22: ──■──┤ H ├─────────────────┼─────────────────┤ X ├\n",
       "      ┌─┴─┐└───┘               ┌─┴─┐               └───┘\n",
       "q_23: ┤ X ├────────────────────┤ X ├────────────────────\n",
       "      └───┘┌───┐               └───┘                    \n",
       "q_24: ──■──┤ H ├────────────■───────────────────────────\n",
       "      ┌─┴─┐└───┘            │                           \n",
       "q_25: ┤ X ├───────■─────────┼───────────────────────────\n",
       "      └───┘┌───┐  │         │                           \n",
       "q_26: ──■──┤ H ├──┼─────────┼────■──────────────────────\n",
       "      ┌─┴─┐└───┘  │         │    │                      \n",
       "q_27: ┤ X ├───────┼────■────┼────┼──────────────────────\n",
       "      └───┘┌───┐  │    │  ┌─┴─┐  │  ┌───┐               \n",
       "q_28: ──■──┤ H ├──┼────┼──┤ X ├──┼──┤ X ├───────■───────\n",
       "      ┌─┴─┐└───┘┌─┴─┐  │  ├───┤  │  └───┘       │       \n",
       "q_29: ┤ X ├─────┤ X ├──┼──┤ X ├──┼────■─────────┼───────\n",
       "      └───┘┌───┐└───┘  │  └───┘┌─┴─┐  │  ┌───┐  │       \n",
       "q_30: ──■──┤ H ├───────┼───────┤ X ├──┼──┤ X ├──┼────■──\n",
       "      ┌─┴─┐└───┘     ┌─┴─┐┌───┐└───┘  │  └───┘  │    │  \n",
       "q_31: ┤ X ├──────────┤ X ├┤ X ├──■────┼─────────┼────┼──\n",
       "      └───┘┌───┐     └───┘└───┘  │    │       ┌─┴─┐  │  \n",
       "q_32: ──■──┤ H ├─────────────────┼────┼───────┤ X ├──┼──\n",
       "      ┌─┴─┐└───┘                 │  ┌─┴─┐     └───┘  │  \n",
       "q_33: ┤ X ├──────────────────────┼──┤ X ├────────────┼──\n",
       "      └───┘┌───┐                 │  └───┘          ┌─┴─┐\n",
       "q_34: ──■──┤ H ├─────────────────┼─────────────────┤ X ├\n",
       "      ┌─┴─┐└───┘               ┌─┴─┐               └───┘\n",
       "q_35: ┤ X ├────────────────────┤ X ├────────────────────\n",
       "      └───┘                    └───┘                    </pre>"
      ],
      "text/plain": [
       "           ┌───┐                                        \n",
       " q_0: ──■──┤ H ├────────────■───────────────────────────\n",
       "      ┌─┴─┐└───┘            │                           \n",
       " q_1: ┤ X ├───────■─────────┼───────────────────────────\n",
       "      └───┘┌───┐  │         │                           \n",
       " q_2: ──■──┤ H ├──┼─────────┼────■──────────────────────\n",
       "      ┌─┴─┐└───┘  │         │    │                      \n",
       " q_3: ┤ X ├───────┼────■────┼────┼──────────────────────\n",
       "      └───┘┌───┐  │    │  ┌─┴─┐  │  ┌───┐               \n",
       " q_4: ──■──┤ H ├──┼────┼──┤ X ├──┼──┤ X ├───────■───────\n",
       "      ┌─┴─┐└───┘┌─┴─┐  │  ├───┤  │  └───┘       │       \n",
       " q_5: ┤ X ├─────┤ X ├──┼──┤ X ├──┼────■─────────┼───────\n",
       "      └───┘┌───┐└───┘  │  └───┘┌─┴─┐  │  ┌───┐  │       \n",
       " q_6: ──■──┤ H ├───────┼───────┤ X ├──┼──┤ X ├──┼────■──\n",
       "      ┌─┴─┐└───┘     ┌─┴─┐┌───┐└───┘  │  └───┘  │    │  \n",
       " q_7: ┤ X ├──────────┤ X ├┤ X ├──■────┼─────────┼────┼──\n",
       "      └───┘┌───┐     └───┘└───┘  │    │       ┌─┴─┐  │  \n",
       " q_8: ──■──┤ H ├─────────────────┼────┼───────┤ X ├──┼──\n",
       "      ┌─┴─┐└───┘                 │  ┌─┴─┐     └───┘  │  \n",
       " q_9: ┤ X ├──────────────────────┼──┤ X ├────────────┼──\n",
       "      └───┘┌───┐                 │  └───┘          ┌─┴─┐\n",
       "q_10: ──■──┤ H ├─────────────────┼─────────────────┤ X ├\n",
       "      ┌─┴─┐└───┘               ┌─┴─┐               └───┘\n",
       "q_11: ┤ X ├────────────────────┤ X ├────────────────────\n",
       "      └───┘┌───┐               └───┘                    \n",
       "q_12: ──■──┤ H ├────────────■───────────────────────────\n",
       "      ┌─┴─┐└───┘            │                           \n",
       "q_13: ┤ X ├───────■─────────┼───────────────────────────\n",
       "      └───┘┌───┐  │         │                           \n",
       "q_14: ──■──┤ H ├──┼─────────┼────■──────────────────────\n",
       "      ┌─┴─┐└───┘  │         │    │                      \n",
       "q_15: ┤ X ├───────┼────■────┼────┼──────────────────────\n",
       "      └───┘┌───┐  │    │  ┌─┴─┐  │  ┌───┐               \n",
       "q_16: ──■──┤ H ├──┼────┼──┤ X ├──┼──┤ X ├───────■───────\n",
       "      ┌─┴─┐└───┘┌─┴─┐  │  ├───┤  │  └───┘       │       \n",
       "q_17: ┤ X ├─────┤ X ├──┼──┤ X ├──┼────■─────────┼───────\n",
       "      └───┘┌───┐└───┘  │  └───┘┌─┴─┐  │  ┌───┐  │       \n",
       "q_18: ──■──┤ H ├───────┼───────┤ X ├──┼──┤ X ├──┼────■──\n",
       "      ┌─┴─┐└───┘     ┌─┴─┐┌───┐└───┘  │  └───┘  │    │  \n",
       "q_19: ┤ X ├──────────┤ X ├┤ X ├──■────┼─────────┼────┼──\n",
       "      └───┘┌───┐     └───┘└───┘  │    │       ┌─┴─┐  │  \n",
       "q_20: ──■──┤ H ├─────────────────┼────┼───────┤ X ├──┼──\n",
       "      ┌─┴─┐└───┘                 │  ┌─┴─┐     └───┘  │  \n",
       "q_21: ┤ X ├──────────────────────┼──┤ X ├────────────┼──\n",
       "      └───┘┌───┐                 │  └───┘          ┌─┴─┐\n",
       "q_22: ──■──┤ H ├─────────────────┼─────────────────┤ X ├\n",
       "      ┌─┴─┐└───┘               ┌─┴─┐               └───┘\n",
       "q_23: ┤ X ├────────────────────┤ X ├────────────────────\n",
       "      └───┘┌───┐               └───┘                    \n",
       "q_24: ──■──┤ H ├────────────■───────────────────────────\n",
       "      ┌─┴─┐└───┘            │                           \n",
       "q_25: ┤ X ├───────■─────────┼───────────────────────────\n",
       "      └───┘┌───┐  │         │                           \n",
       "q_26: ──■──┤ H ├──┼─────────┼────■──────────────────────\n",
       "      ┌─┴─┐└───┘  │         │    │                      \n",
       "q_27: ┤ X ├───────┼────■────┼────┼──────────────────────\n",
       "      └───┘┌───┐  │    │  ┌─┴─┐  │  ┌───┐               \n",
       "q_28: ──■──┤ H ├──┼────┼──┤ X ├──┼──┤ X ├───────■───────\n",
       "      ┌─┴─┐└───┘┌─┴─┐  │  ├───┤  │  └───┘       │       \n",
       "q_29: ┤ X ├─────┤ X ├──┼──┤ X ├──┼────■─────────┼───────\n",
       "      └───┘┌───┐└───┘  │  └───┘┌─┴─┐  │  ┌───┐  │       \n",
       "q_30: ──■──┤ H ├───────┼───────┤ X ├──┼──┤ X ├──┼────■──\n",
       "      ┌─┴─┐└───┘     ┌─┴─┐┌───┐└───┘  │  └───┘  │    │  \n",
       "q_31: ┤ X ├──────────┤ X ├┤ X ├──■────┼─────────┼────┼──\n",
       "      └───┘┌───┐     └───┘└───┘  │    │       ┌─┴─┐  │  \n",
       "q_32: ──■──┤ H ├─────────────────┼────┼───────┤ X ├──┼──\n",
       "      ┌─┴─┐└───┘                 │  ┌─┴─┐     └───┘  │  \n",
       "q_33: ┤ X ├──────────────────────┼──┤ X ├────────────┼──\n",
       "      └───┘┌───┐                 │  └───┘          ┌─┴─┐\n",
       "q_34: ──■──┤ H ├─────────────────┼─────────────────┤ X ├\n",
       "      ┌─┴─┐└───┘               ┌─┴─┐               └───┘\n",
       "q_35: ┤ X ├────────────────────┤ X ├────────────────────\n",
       "      └───┘                    └───┘                    "
      ]
     },
     "execution_count": 73,
     "metadata": {},
     "output_type": "execute_result"
    }
   ],
   "source": [
    "automaton.update_circuit.draw()"
   ]
  },
  {
   "cell_type": "markdown",
   "id": "eleven-tourism",
   "metadata": {},
   "source": [
    "That's bigger than I, personally, would like to write out by hand. The automaton handles all the repeated structure for us."
   ]
  },
  {
   "cell_type": "markdown",
   "id": "stunning-index",
   "metadata": {},
   "source": [
    "## Plugging the automaton into the composer"
   ]
  },
  {
   "cell_type": "markdown",
   "id": "enormous-contemporary",
   "metadata": {},
   "source": [
    "At the end of the day what we really want is music, and for that we want a grid of bits to pass to our `compose` function."
   ]
  },
  {
   "cell_type": "code",
   "execution_count": 74,
   "id": "dressed-providence",
   "metadata": {},
   "outputs": [],
   "source": [
    "class Qubit_Generator:\n",
    "    def __next__(self):\n",
    "        thirty_six_bits = next(automaton)\n",
    "        return [[thirty_six_bits[i+j] for j in range(9)] for i in range(4)]\n",
    "QBG = Qubit_Generator()"
   ]
  },
  {
   "cell_type": "markdown",
   "id": "chicken-belgium",
   "metadata": {},
   "source": [
    "Let's check it's the right shape:"
   ]
  },
  {
   "cell_type": "code",
   "execution_count": 75,
   "id": "obvious-discharge",
   "metadata": {},
   "outputs": [
    {
     "data": {
      "text/plain": [
       "[[1, 0, 0, 0, 1, 1, 0, 1, 1],\n",
       " [0, 0, 0, 1, 1, 0, 1, 1, 1],\n",
       " [0, 0, 1, 1, 0, 1, 1, 1, 0],\n",
       " [0, 1, 1, 0, 1, 1, 1, 0, 1]]"
      ]
     },
     "execution_count": 75,
     "metadata": {},
     "output_type": "execute_result"
    }
   ],
   "source": [
    "bits = next(QBG)\n",
    "bits"
   ]
  },
  {
   "cell_type": "markdown",
   "id": "regional-evanescence",
   "metadata": {},
   "source": [
    "Perfect!"
   ]
  },
  {
   "cell_type": "code",
   "execution_count": 76,
   "id": "approximate-jaguar",
   "metadata": {},
   "outputs": [],
   "source": [
    "bit_grids_to_midi_instrumentation_from_CAMUS([bits])"
   ]
  },
  {
   "cell_type": "markdown",
   "id": "likely-general",
   "metadata": {},
   "source": [
    "There we have it! Stored in `temp.midi` you should have the midi generated by your quantum cellular automaton."
   ]
  },
  {
   "cell_type": "markdown",
   "id": "unusual-zealand",
   "metadata": {},
   "source": [
    "# Visualising the automaton over time"
   ]
  },
  {
   "cell_type": "markdown",
   "id": "baking-worst",
   "metadata": {},
   "source": [
    "Let's create sequence of grids so we can see how the automaton state changes over time."
   ]
  },
  {
   "cell_type": "code",
   "execution_count": 77,
   "id": "everyday-eugene",
   "metadata": {},
   "outputs": [],
   "source": [
    "import ipywidgets"
   ]
  },
  {
   "cell_type": "code",
   "execution_count": 78,
   "id": "latest-recognition",
   "metadata": {},
   "outputs": [
    {
     "data": {
      "application/vnd.jupyter.widget-view+json": {
       "model_id": "104efeaf6ceb444bbb60b4944f24991e",
       "version_major": 2,
       "version_minor": 0
      },
      "text/plain": [
       "interactive(children=(IntSlider(value=0, description='iteration', max=19), Output()), _dom_classes=('widget-in…"
      ]
     },
     "metadata": {},
     "output_type": "display_data"
    }
   ],
   "source": [
    "def visualise_next_n_steps(bit_generator, n):\n",
    "    cached_states = [next(bit_generator) for _ in range(n)]\n",
    "    def show_step(iteration):\n",
    "        return draw_bits(cached_states[iteration])\n",
    "    return ipywidgets.interact(show_step,iteration=ipywidgets.IntSlider(min=0, max=n-1, step=1, value=0))\n",
    "visualise_next_n_steps(QBG, 20)\n",
    "pass"
   ]
  },
  {
   "cell_type": "markdown",
   "id": "persistent-gazette",
   "metadata": {},
   "source": [
    "# Iterated composition"
   ]
  },
  {
   "cell_type": "markdown",
   "id": "loved-vehicle",
   "metadata": {},
   "source": [
    "We built our MIDI and MusicXML synthesis functions take sequences of bit grids, so let's use this to construct a longer piece from succesive states of the automaton."
   ]
  },
  {
   "cell_type": "code",
   "execution_count": 79,
   "id": "musical-steps",
   "metadata": {},
   "outputs": [],
   "source": [
    "bit_grids_to_midi_instrumentation_from_CAMUS([next(QBG) for _ in range(5)])"
   ]
  },
  {
   "cell_type": "markdown",
   "id": "polar-oracle",
   "metadata": {},
   "source": [
    "(Recall that this function defaults to exporting a midi file at `temp.midi`.)"
   ]
  },
  {
   "cell_type": "markdown",
   "id": "piano-indonesian",
   "metadata": {},
   "source": [
    "That's it! Thank you for reading this tutorial."
   ]
  },
  {
   "cell_type": "markdown",
   "id": "communist-kelly",
   "metadata": {},
   "source": [
    "Detailed documentation can be found at [readthedocs.io](https://partitioned-quantum-cellular-automata.readthedocs.io/en/latest/) as well as in the docstrings of the python files themselves. The pqca module and these tutorials are available under the MIT licence, with source code available at [Hector Miller-Bakewell’s github](https://github.com/hmillerbakewell/partitioned-quantum-cellular-automata). This package was created as part of the [QuTune Project](https://iccmr-quantum.github.io/)."
   ]
  }
 ],
 "metadata": {
  "kernelspec": {
   "display_name": "quantumlife",
   "language": "python",
   "name": "quantumlife"
  },
  "language_info": {
   "codemirror_mode": {
    "name": "ipython",
    "version": 3
   },
   "file_extension": ".py",
   "mimetype": "text/x-python",
   "name": "python",
   "nbconvert_exporter": "python",
   "pygments_lexer": "ipython3",
   "version": "3.11.3"
  }
 },
 "nbformat": 4,
 "nbformat_minor": 5
}
