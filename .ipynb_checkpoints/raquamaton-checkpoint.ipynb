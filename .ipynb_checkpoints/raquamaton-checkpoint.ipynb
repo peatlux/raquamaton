{
 "cells": [
  {
   "cell_type": "markdown",
   "id": "d4aaa3aa-1959-4ebc-9049-36c7d04ec700",
   "metadata": {},
   "source": [
    "# Raquamaton"
   ]
  },
  {
   "cell_type": "markdown",
   "id": "56ffb16f-26f5-4c1f-967e-f3233df958aa",
   "metadata": {
    "jp-MarkdownHeadingCollapsed": true
   },
   "source": [
    "### Basic Grid Functions"
   ]
  },
  {
   "cell_type": "code",
   "execution_count": 1,
   "id": "60ee4abe-333b-4389-b888-502659865635",
   "metadata": {
    "editable": true,
    "slideshow": {
     "slide_type": ""
    },
    "tags": []
   },
   "outputs": [],
   "source": [
    "import math\n",
    "import time\n",
    "import drawsvg\n",
    "import random\n"
   ]
  },
  {
   "cell_type": "code",
   "execution_count": 2,
   "id": "000d2436-2baf-4e50-9425-530fa447d963",
   "metadata": {},
   "outputs": [],
   "source": [
    "#DEFENITIONS\n",
    "class Bit_Generator:\n",
    "    def __next__(self):\n",
    "        return [[random.choice([0,1]) for i in range(0,9)] for j in range(0,5)]\n",
    "\n",
    "def draw_bits(example_bits, marked=None, mark_colour=None):\n",
    "    \"\"\"Draw the bits as a shaded grid, marking special points\"\"\"\n",
    "    # Understanding this code is not important to the tutorial\n",
    "    square_size = 20 # in pixels\n",
    "    drawing = drawsvg.Drawing(square_size*len(example_bits[0]), square_size*len(example_bits))\n",
    "    for row in range(len(example_bits)):\n",
    "        for index, bit in enumerate(example_bits[row]):\n",
    "            colour = '#00e000' if bit else '#e10000'\n",
    "            rect = drawsvg.Rectangle(index*square_size,(len(example_bits)-1-row)*square_size,square_size,square_size, fill=colour)\n",
    "            drawing.append(rect)\n",
    "    if marked is None:\n",
    "        marked = []\n",
    "    for index, mark in enumerate(marked):\n",
    "        # Mark each coordinate in the list `marked`\n",
    "        x = mark[0]\n",
    "        y = mark[1]\n",
    "        colour = \"#11f\" if mark_colour is None else mark_colour\n",
    "        circle = drawsvg.Circle((x+0.5)*square_size,(len(example_bits)-0.5-y)*square_size,square_size/6, fill=colour)\n",
    "        drawing.append(circle)\n",
    "    return drawing"
   ]
  },
  {
   "cell_type": "code",
   "execution_count": 3,
   "id": "f3e8fd61-8b25-48bc-ab74-ccbf18a1f14d",
   "metadata": {},
   "outputs": [
    {
     "data": {
      "image/svg+xml": [
       "<?xml version=\"1.0\" encoding=\"UTF-8\"?>\n",
       "<svg xmlns=\"http://www.w3.org/2000/svg\" xmlns:xlink=\"http://www.w3.org/1999/xlink\"\n",
       "     width=\"180\" height=\"100\" viewBox=\"0 0 180 100\">\n",
       "<defs>\n",
       "</defs>\n",
       "<rect x=\"0\" y=\"80\" width=\"20\" height=\"20\" fill=\"#e10000\" />\n",
       "<rect x=\"20\" y=\"80\" width=\"20\" height=\"20\" fill=\"#00e000\" />\n",
       "<rect x=\"40\" y=\"80\" width=\"20\" height=\"20\" fill=\"#e10000\" />\n",
       "<rect x=\"60\" y=\"80\" width=\"20\" height=\"20\" fill=\"#00e000\" />\n",
       "<rect x=\"80\" y=\"80\" width=\"20\" height=\"20\" fill=\"#e10000\" />\n",
       "<rect x=\"100\" y=\"80\" width=\"20\" height=\"20\" fill=\"#00e000\" />\n",
       "<rect x=\"120\" y=\"80\" width=\"20\" height=\"20\" fill=\"#00e000\" />\n",
       "<rect x=\"140\" y=\"80\" width=\"20\" height=\"20\" fill=\"#00e000\" />\n",
       "<rect x=\"160\" y=\"80\" width=\"20\" height=\"20\" fill=\"#00e000\" />\n",
       "<rect x=\"0\" y=\"60\" width=\"20\" height=\"20\" fill=\"#00e000\" />\n",
       "<rect x=\"20\" y=\"60\" width=\"20\" height=\"20\" fill=\"#00e000\" />\n",
       "<rect x=\"40\" y=\"60\" width=\"20\" height=\"20\" fill=\"#00e000\" />\n",
       "<rect x=\"60\" y=\"60\" width=\"20\" height=\"20\" fill=\"#e10000\" />\n",
       "<rect x=\"80\" y=\"60\" width=\"20\" height=\"20\" fill=\"#e10000\" />\n",
       "<rect x=\"100\" y=\"60\" width=\"20\" height=\"20\" fill=\"#00e000\" />\n",
       "<rect x=\"120\" y=\"60\" width=\"20\" height=\"20\" fill=\"#e10000\" />\n",
       "<rect x=\"140\" y=\"60\" width=\"20\" height=\"20\" fill=\"#00e000\" />\n",
       "<rect x=\"160\" y=\"60\" width=\"20\" height=\"20\" fill=\"#e10000\" />\n",
       "<rect x=\"0\" y=\"40\" width=\"20\" height=\"20\" fill=\"#00e000\" />\n",
       "<rect x=\"20\" y=\"40\" width=\"20\" height=\"20\" fill=\"#00e000\" />\n",
       "<rect x=\"40\" y=\"40\" width=\"20\" height=\"20\" fill=\"#e10000\" />\n",
       "<rect x=\"60\" y=\"40\" width=\"20\" height=\"20\" fill=\"#00e000\" />\n",
       "<rect x=\"80\" y=\"40\" width=\"20\" height=\"20\" fill=\"#00e000\" />\n",
       "<rect x=\"100\" y=\"40\" width=\"20\" height=\"20\" fill=\"#e10000\" />\n",
       "<rect x=\"120\" y=\"40\" width=\"20\" height=\"20\" fill=\"#00e000\" />\n",
       "<rect x=\"140\" y=\"40\" width=\"20\" height=\"20\" fill=\"#e10000\" />\n",
       "<rect x=\"160\" y=\"40\" width=\"20\" height=\"20\" fill=\"#e10000\" />\n",
       "<rect x=\"0\" y=\"20\" width=\"20\" height=\"20\" fill=\"#00e000\" />\n",
       "<rect x=\"20\" y=\"20\" width=\"20\" height=\"20\" fill=\"#e10000\" />\n",
       "<rect x=\"40\" y=\"20\" width=\"20\" height=\"20\" fill=\"#00e000\" />\n",
       "<rect x=\"60\" y=\"20\" width=\"20\" height=\"20\" fill=\"#e10000\" />\n",
       "<rect x=\"80\" y=\"20\" width=\"20\" height=\"20\" fill=\"#00e000\" />\n",
       "<rect x=\"100\" y=\"20\" width=\"20\" height=\"20\" fill=\"#e10000\" />\n",
       "<rect x=\"120\" y=\"20\" width=\"20\" height=\"20\" fill=\"#00e000\" />\n",
       "<rect x=\"140\" y=\"20\" width=\"20\" height=\"20\" fill=\"#e10000\" />\n",
       "<rect x=\"160\" y=\"20\" width=\"20\" height=\"20\" fill=\"#e10000\" />\n",
       "<rect x=\"0\" y=\"0\" width=\"20\" height=\"20\" fill=\"#00e000\" />\n",
       "<rect x=\"20\" y=\"0\" width=\"20\" height=\"20\" fill=\"#e10000\" />\n",
       "<rect x=\"40\" y=\"0\" width=\"20\" height=\"20\" fill=\"#00e000\" />\n",
       "<rect x=\"60\" y=\"0\" width=\"20\" height=\"20\" fill=\"#e10000\" />\n",
       "<rect x=\"80\" y=\"0\" width=\"20\" height=\"20\" fill=\"#e10000\" />\n",
       "<rect x=\"100\" y=\"0\" width=\"20\" height=\"20\" fill=\"#00e000\" />\n",
       "<rect x=\"120\" y=\"0\" width=\"20\" height=\"20\" fill=\"#e10000\" />\n",
       "<rect x=\"140\" y=\"0\" width=\"20\" height=\"20\" fill=\"#00e000\" />\n",
       "<rect x=\"160\" y=\"0\" width=\"20\" height=\"20\" fill=\"#00e000\" />\n",
       "<circle cx=\"10.0\" cy=\"90.0\" r=\"3.3333333333333335\" fill=\"#11f\" />\n",
       "</svg>"
      ],
      "text/plain": [
       "<drawsvg.drawing.Drawing at 0x27e75de8d10>"
      ]
     },
     "execution_count": 3,
     "metadata": {},
     "output_type": "execute_result"
    }
   ],
   "source": [
    "#Initiation\n",
    "BG = Bit_Generator()\n",
    "example_bits = next(BG)\n",
    "example_bits\n",
    "draw_bits(example_bits,[[0,0]])"
   ]
  },
  {
   "cell_type": "code",
   "execution_count": 4,
   "id": "fcfce932-f367-4126-a9a9-0ded53d94b87",
   "metadata": {},
   "outputs": [
    {
     "data": {
      "text/plain": [
       "5"
      ]
     },
     "execution_count": 4,
     "metadata": {},
     "output_type": "execute_result"
    }
   ],
   "source": [
    "\n",
    "len(example_bits)\n"
   ]
  },
  {
   "cell_type": "code",
   "execution_count": 6,
   "id": "08e80407-48d4-4e47-8328-f3ece00138e1",
   "metadata": {},
   "outputs": [],
   "source": [
    "def draw_neighbours(bits, point):\n",
    "    \"\"\"Draw the grid of bits and mark all cells surrounding and including the named point.\"\"\"\n",
    "    neighs = [[x,y] for x in range(point[0]-1,point[0]+2) for y in range(point[1]-1,point[1]+2)]\n",
    "    return draw_bits(bits, neighs)"
   ]
  },
  {
   "cell_type": "code",
   "execution_count": 7,
   "id": "234d68c3-dd3e-4247-b6bf-bd61fca25c82",
   "metadata": {
    "scrolled": true
   },
   "outputs": [
    {
     "data": {
      "image/svg+xml": [
       "<?xml version=\"1.0\" encoding=\"UTF-8\"?>\n",
       "<svg xmlns=\"http://www.w3.org/2000/svg\" xmlns:xlink=\"http://www.w3.org/1999/xlink\"\n",
       "     width=\"180\" height=\"100\" viewBox=\"0 0 180 100\">\n",
       "<defs>\n",
       "</defs>\n",
       "<rect x=\"0\" y=\"80\" width=\"20\" height=\"20\" fill=\"#e10000\" />\n",
       "<rect x=\"20\" y=\"80\" width=\"20\" height=\"20\" fill=\"#00e000\" />\n",
       "<rect x=\"40\" y=\"80\" width=\"20\" height=\"20\" fill=\"#e10000\" />\n",
       "<rect x=\"60\" y=\"80\" width=\"20\" height=\"20\" fill=\"#00e000\" />\n",
       "<rect x=\"80\" y=\"80\" width=\"20\" height=\"20\" fill=\"#e10000\" />\n",
       "<rect x=\"100\" y=\"80\" width=\"20\" height=\"20\" fill=\"#00e000\" />\n",
       "<rect x=\"120\" y=\"80\" width=\"20\" height=\"20\" fill=\"#00e000\" />\n",
       "<rect x=\"140\" y=\"80\" width=\"20\" height=\"20\" fill=\"#00e000\" />\n",
       "<rect x=\"160\" y=\"80\" width=\"20\" height=\"20\" fill=\"#00e000\" />\n",
       "<rect x=\"0\" y=\"60\" width=\"20\" height=\"20\" fill=\"#00e000\" />\n",
       "<rect x=\"20\" y=\"60\" width=\"20\" height=\"20\" fill=\"#00e000\" />\n",
       "<rect x=\"40\" y=\"60\" width=\"20\" height=\"20\" fill=\"#00e000\" />\n",
       "<rect x=\"60\" y=\"60\" width=\"20\" height=\"20\" fill=\"#e10000\" />\n",
       "<rect x=\"80\" y=\"60\" width=\"20\" height=\"20\" fill=\"#e10000\" />\n",
       "<rect x=\"100\" y=\"60\" width=\"20\" height=\"20\" fill=\"#00e000\" />\n",
       "<rect x=\"120\" y=\"60\" width=\"20\" height=\"20\" fill=\"#e10000\" />\n",
       "<rect x=\"140\" y=\"60\" width=\"20\" height=\"20\" fill=\"#00e000\" />\n",
       "<rect x=\"160\" y=\"60\" width=\"20\" height=\"20\" fill=\"#e10000\" />\n",
       "<rect x=\"0\" y=\"40\" width=\"20\" height=\"20\" fill=\"#00e000\" />\n",
       "<rect x=\"20\" y=\"40\" width=\"20\" height=\"20\" fill=\"#00e000\" />\n",
       "<rect x=\"40\" y=\"40\" width=\"20\" height=\"20\" fill=\"#e10000\" />\n",
       "<rect x=\"60\" y=\"40\" width=\"20\" height=\"20\" fill=\"#00e000\" />\n",
       "<rect x=\"80\" y=\"40\" width=\"20\" height=\"20\" fill=\"#00e000\" />\n",
       "<rect x=\"100\" y=\"40\" width=\"20\" height=\"20\" fill=\"#e10000\" />\n",
       "<rect x=\"120\" y=\"40\" width=\"20\" height=\"20\" fill=\"#00e000\" />\n",
       "<rect x=\"140\" y=\"40\" width=\"20\" height=\"20\" fill=\"#e10000\" />\n",
       "<rect x=\"160\" y=\"40\" width=\"20\" height=\"20\" fill=\"#e10000\" />\n",
       "<rect x=\"0\" y=\"20\" width=\"20\" height=\"20\" fill=\"#00e000\" />\n",
       "<rect x=\"20\" y=\"20\" width=\"20\" height=\"20\" fill=\"#e10000\" />\n",
       "<rect x=\"40\" y=\"20\" width=\"20\" height=\"20\" fill=\"#00e000\" />\n",
       "<rect x=\"60\" y=\"20\" width=\"20\" height=\"20\" fill=\"#e10000\" />\n",
       "<rect x=\"80\" y=\"20\" width=\"20\" height=\"20\" fill=\"#00e000\" />\n",
       "<rect x=\"100\" y=\"20\" width=\"20\" height=\"20\" fill=\"#e10000\" />\n",
       "<rect x=\"120\" y=\"20\" width=\"20\" height=\"20\" fill=\"#00e000\" />\n",
       "<rect x=\"140\" y=\"20\" width=\"20\" height=\"20\" fill=\"#e10000\" />\n",
       "<rect x=\"160\" y=\"20\" width=\"20\" height=\"20\" fill=\"#e10000\" />\n",
       "<rect x=\"0\" y=\"0\" width=\"20\" height=\"20\" fill=\"#00e000\" />\n",
       "<rect x=\"20\" y=\"0\" width=\"20\" height=\"20\" fill=\"#e10000\" />\n",
       "<rect x=\"40\" y=\"0\" width=\"20\" height=\"20\" fill=\"#00e000\" />\n",
       "<rect x=\"60\" y=\"0\" width=\"20\" height=\"20\" fill=\"#e10000\" />\n",
       "<rect x=\"80\" y=\"0\" width=\"20\" height=\"20\" fill=\"#e10000\" />\n",
       "<rect x=\"100\" y=\"0\" width=\"20\" height=\"20\" fill=\"#00e000\" />\n",
       "<rect x=\"120\" y=\"0\" width=\"20\" height=\"20\" fill=\"#e10000\" />\n",
       "<rect x=\"140\" y=\"0\" width=\"20\" height=\"20\" fill=\"#00e000\" />\n",
       "<rect x=\"160\" y=\"0\" width=\"20\" height=\"20\" fill=\"#00e000\" />\n",
       "<circle cx=\"50.0\" cy=\"90.0\" r=\"3.3333333333333335\" fill=\"#11f\" />\n",
       "<circle cx=\"50.0\" cy=\"70.0\" r=\"3.3333333333333335\" fill=\"#11f\" />\n",
       "<circle cx=\"50.0\" cy=\"50.0\" r=\"3.3333333333333335\" fill=\"#11f\" />\n",
       "<circle cx=\"70.0\" cy=\"90.0\" r=\"3.3333333333333335\" fill=\"#11f\" />\n",
       "<circle cx=\"70.0\" cy=\"70.0\" r=\"3.3333333333333335\" fill=\"#11f\" />\n",
       "<circle cx=\"70.0\" cy=\"50.0\" r=\"3.3333333333333335\" fill=\"#11f\" />\n",
       "<circle cx=\"90.0\" cy=\"90.0\" r=\"3.3333333333333335\" fill=\"#11f\" />\n",
       "<circle cx=\"90.0\" cy=\"70.0\" r=\"3.3333333333333335\" fill=\"#11f\" />\n",
       "<circle cx=\"90.0\" cy=\"50.0\" r=\"3.3333333333333335\" fill=\"#11f\" />\n",
       "</svg>"
      ],
      "text/plain": [
       "<drawsvg.drawing.Drawing at 0x27e763af0d0>"
      ]
     },
     "execution_count": 7,
     "metadata": {},
     "output_type": "execute_result"
    }
   ],
   "source": [
    "draw_neighbours(example_bits,[3,1])"
   ]
  },
  {
   "cell_type": "code",
   "execution_count": 34,
   "id": "5241b9ac-b06d-4b96-84bf-4e2e331a98cf",
   "metadata": {},
   "outputs": [],
   "source": [
    "def lookup(bit_grid, coordinates):\n",
    "    #periodic boundary conditions\n",
    "    i = coordinates[1]%len(bit_grid)\n",
    "    j = coordinates[0]%len(bit_grid[i])\n",
    "    return bit_grid[i][j]\n",
    "\n",
    "def neighbours_cross(bit_grid, coordinate):\n",
    "    \"\"\"For the specified point in the grid return a dictionary of names to cell values.\n",
    "    \n",
    "    The names for the neighbours are from the CAMUS specification.\n",
    "    \"\"\"\n",
    "    x_mid = coordinate[0]\n",
    "    y_mid = coordinate[1]\n",
    "    ordered = {\"N\":lookup(bit_grid,[x_mid,y_mid+1]),\"E\":lookup(bit_grid,[x_mid+1,y_mid]),\n",
    "               \"S\":lookup(bit_grid,[x_mid,y_mid-1]),\"W\":lookup(bit_grid,[x_mid-1,y_mid])\n",
    "              }\n",
    "    return ordered\n",
    "\n",
    "def neighbours_diag(bit_grid, coordinate):\n",
    "    \"\"\"For the specified point in the grid return a dictionary of names to cell values.\n",
    "    \n",
    "    The names for the neighbours are from the CAMUS specification.\n",
    "    \"\"\"\n",
    "    x_mid = coordinate[0]\n",
    "    y_mid = coordinate[1]\n",
    "    ordered = {\"NE\":lookup(bit_grid,[x_mid+1,y_mid+1]),\"SE\":lookup(bit_grid,[x_mid+1,y_mid-1]),\n",
    "               \"SW\":lookup(bit_grid,[x_mid-1,y_mid-1]),\"NW\":lookup(bit_grid,[x_mid-1,y_mid+1])\n",
    "              }\n",
    "    return ordered"
   ]
  },
  {
   "cell_type": "code",
   "execution_count": 9,
   "id": "3026c10e-a8e6-4cd5-b897-f89d7dd6eb4f",
   "metadata": {},
   "outputs": [
    {
     "data": {
      "text/plain": [
       "{'N': 0, 'E': 0, 'S': 1, 'W': 0}"
      ]
     },
     "execution_count": 9,
     "metadata": {},
     "output_type": "execute_result"
    }
   ],
   "source": [
    "neighbours_cross(example_bits,[5,1])"
   ]
  },
  {
   "cell_type": "code",
   "execution_count": 10,
   "id": "43c961fe-bb1c-4f35-a938-e99d91214112",
   "metadata": {},
   "outputs": [
    {
     "data": {
      "text/plain": [
       "[1, 1, 1, 1]"
      ]
     },
     "execution_count": 10,
     "metadata": {},
     "output_type": "execute_result"
    }
   ],
   "source": [
    "s = list(neighbours_diag(example_bits,[2,1]).values())\n",
    "s"
   ]
  },
  {
   "cell_type": "code",
   "execution_count": 57,
   "id": "13c02892-db1b-4dec-b2d4-9e17c047deee",
   "metadata": {},
   "outputs": [],
   "source": [
    "def bit_seq_to_int(bits):\n",
    "    return int(\"\".join(map(str, bits)),2)\n"
   ]
  },
  {
   "cell_type": "code",
   "execution_count": 12,
   "id": "3139ad20-12da-40f1-abd0-ce973a843c14",
   "metadata": {},
   "outputs": [
    {
     "data": {
      "text/plain": [
       "15"
      ]
     },
     "execution_count": 12,
     "metadata": {},
     "output_type": "execute_result"
    }
   ],
   "source": [
    "bit_seq_to_int(s)"
   ]
  },
  {
   "cell_type": "markdown",
   "id": "882e6c65-9979-4e91-a1aa-f837c2ee05d2",
   "metadata": {},
   "source": [
    "### Tesselation + Quantum Circuit"
   ]
  },
  {
   "cell_type": "code",
   "execution_count": 13,
   "id": "b179497a-0bdb-4ac8-9527-537565c49c3b",
   "metadata": {},
   "outputs": [],
   "source": [
    "import qiskit\n",
    "import pqca"
   ]
  },
  {
   "cell_type": "code",
   "execution_count": 14,
   "id": "7db2e648-7c23-47b9-984d-ed3cf964ac4c",
   "metadata": {},
   "outputs": [],
   "source": [
    "size = [9,6]\n",
    "initial_state = [0]*size[0]*size[1] "
   ]
  },
  {
   "cell_type": "code",
   "execution_count": 382,
   "id": "acd7d130-8ed5-4cef-9cec-992cfa4e6f17",
   "metadata": {},
   "outputs": [
    {
     "ename": "IrregularCoordinateDimensions",
     "evalue": "[9, 6] and [6, 1] must be of the same length, and divide component-wise.",
     "output_type": "error",
     "traceback": [
      "\u001b[1;31m---------------------------------------------------------------------------\u001b[0m",
      "\u001b[1;31mIrregularCoordinateDimensions\u001b[0m             Traceback (most recent call last)",
      "Cell \u001b[1;32mIn[382], line 2\u001b[0m\n\u001b[0;32m      1\u001b[0m tes_1 \u001b[38;5;241m=\u001b[39m pqca\u001b[38;5;241m.\u001b[39mtessellation\u001b[38;5;241m.\u001b[39mn_dimensional(size,[\u001b[38;5;241m3\u001b[39m,\u001b[38;5;241m2\u001b[39m]) \n\u001b[1;32m----> 2\u001b[0m tes_2 \u001b[38;5;241m=\u001b[39m \u001b[43mpqca\u001b[49m\u001b[38;5;241;43m.\u001b[39;49m\u001b[43mtessellation\u001b[49m\u001b[38;5;241;43m.\u001b[39;49m\u001b[43mn_dimensional\u001b[49m\u001b[43m(\u001b[49m\u001b[43msize\u001b[49m\u001b[43m,\u001b[49m\u001b[43m[\u001b[49m\u001b[38;5;241;43m6\u001b[39;49m\u001b[43m,\u001b[49m\u001b[38;5;241;43m1\u001b[39;49m\u001b[43m]\u001b[49m\u001b[43m)\u001b[49m \n",
      "File \u001b[1;32mC:\\Python311\\Lib\\site-packages\\pqca\\tessellation.py:156\u001b[0m, in \u001b[0;36mn_dimensional\u001b[1;34m(qubits_in_each_dimension, cell_size)\u001b[0m\n\u001b[0;32m    154\u001b[0m         \u001b[38;5;28;01massert\u001b[39;00m length \u001b[38;5;241m%\u001b[39m cell_size[index] \u001b[38;5;241m==\u001b[39m \u001b[38;5;241m0\u001b[39m\n\u001b[0;32m    155\u001b[0m     \u001b[38;5;28;01mexcept\u001b[39;00m:\n\u001b[1;32m--> 156\u001b[0m         \u001b[38;5;28;01mraise\u001b[39;00m exceptions\u001b[38;5;241m.\u001b[39mIrregularCoordinateDimensions(\n\u001b[0;32m    157\u001b[0m             qubits_in_each_dimension, cell_size) \u001b[38;5;28;01mfrom\u001b[39;00m \u001b[38;5;28;01mNone\u001b[39;00m\n\u001b[0;32m    159\u001b[0m focal_points_as_product \u001b[38;5;241m=\u001b[39m itertools\u001b[38;5;241m.\u001b[39mproduct(\n\u001b[0;32m    160\u001b[0m     \u001b[38;5;241m*\u001b[39m[\u001b[38;5;28mrange\u001b[39m(\u001b[38;5;241m0\u001b[39m, qubits_in_each_dimension[index], cell_size[index])\n\u001b[0;32m    161\u001b[0m       \u001b[38;5;28;01mfor\u001b[39;00m index, _ \u001b[38;5;129;01min\u001b[39;00m \u001b[38;5;28menumerate\u001b[39m(qubits_in_each_dimension)]\n\u001b[0;32m    162\u001b[0m )\n\u001b[0;32m    164\u001b[0m \u001b[38;5;66;03m# \"Starting\" point in each cell\u001b[39;00m\n",
      "\u001b[1;31mIrregularCoordinateDimensions\u001b[0m: [9, 6] and [6, 1] must be of the same length, and divide component-wise."
     ]
    }
   ],
   "source": [
    "tes_1 = pqca.tessellation.n_dimensional(size,[3,2]) \n",
    "tes_2 = pqca.tessellation.n_dimensional(size,[1,6]) "
   ]
  },
  {
   "cell_type": "code",
   "execution_count": 380,
   "id": "39dee696-c8df-4b83-a373-a818da47a3b1",
   "metadata": {},
   "outputs": [
    {
     "data": {
      "text/html": [
       "<pre style=\"word-wrap: normal;white-space: pre;background: #fff0;line-height: 1.1;font-family: &quot;Courier New&quot;,Courier,monospace\">     ┌───┐\n",
       "q_0: ┤ H ├\n",
       "     ├───┤\n",
       "q_1: ┤ H ├\n",
       "     ├───┤\n",
       "q_2: ┤ H ├\n",
       "     ├───┤\n",
       "q_3: ┤ H ├\n",
       "     ├───┤\n",
       "q_4: ┤ H ├\n",
       "     ├───┤\n",
       "q_5: ┤ H ├\n",
       "     └───┘</pre>"
      ],
      "text/plain": [
       "     ┌───┐\n",
       "q_0: ┤ H ├\n",
       "     ├───┤\n",
       "q_1: ┤ H ├\n",
       "     ├───┤\n",
       "q_2: ┤ H ├\n",
       "     ├───┤\n",
       "q_3: ┤ H ├\n",
       "     ├───┤\n",
       "q_4: ┤ H ├\n",
       "     ├───┤\n",
       "q_5: ┤ H ├\n",
       "     └───┘"
      ]
     },
     "execution_count": 380,
     "metadata": {},
     "output_type": "execute_result"
    }
   ],
   "source": [
    "from qiskit import QuantumRegister, ClassicalRegister, QuantumCircuit\n",
    "from numpy import pi\n",
    "qs1 = 6\n",
    "qc1 = qiskit.QuantumCircuit(qs1)\n",
    "for i in range(qs1):\n",
    "    qc1.h(i)\n",
    "\n",
    "qc1.draw()"
   ]
  },
  {
   "cell_type": "code",
   "execution_count": 18,
   "id": "289ec890-19de-486e-8212-80cf6e0e18a4",
   "metadata": {},
   "outputs": [
    {
     "data": {
      "text/html": [
       "<pre style=\"word-wrap: normal;white-space: pre;background: #fff0;line-height: 1.1;font-family: &quot;Courier New&quot;,Courier,monospace\">               \n",
       "q_0: ──■───────\n",
       "     ┌─┴─┐     \n",
       "q_1: ┤ X ├─────\n",
       "     └───┘     \n",
       "q_2: ──■────■──\n",
       "       │    │  \n",
       "q_3: ──■────┼──\n",
       "          ┌─┴─┐\n",
       "q_4: ─────┤ X ├\n",
       "          └─┬─┘\n",
       "q_5: ───────■──\n",
       "               </pre>"
      ],
      "text/plain": [
       "               \n",
       "q_0: ──■───────\n",
       "     ┌─┴─┐     \n",
       "q_1: ┤ X ├─────\n",
       "     └───┘     \n",
       "q_2: ──■────■──\n",
       "       │    │  \n",
       "q_3: ──■────┼──\n",
       "          ┌─┴─┐\n",
       "q_4: ─────┤ X ├\n",
       "          └─┬─┘\n",
       "q_5: ───────■──\n",
       "               "
      ]
     },
     "execution_count": 18,
     "metadata": {},
     "output_type": "execute_result"
    }
   ],
   "source": [
    "qs2 = 6\n",
    "qc2 = qiskit.QuantumCircuit(qs2)\n",
    "#two_qubit_circuit.h(0)\n",
    "qc2.cx(0,1)\n",
    "#two_qubit_circuit.h(3)\n",
    "qc2.cz(3,2)\n",
    "qc2.mcx([5,2],4)\n",
    "\n",
    "\n",
    "qc2.draw()"
   ]
  },
  {
   "cell_type": "code",
   "execution_count": 20,
   "id": "587e7732-8758-4eab-8a2e-f4614f5e7d2a",
   "metadata": {},
   "outputs": [],
   "source": [
    "update_frame_1 = pqca.UpdateFrame(tes_1, qiskit_circuit=qc1)\n",
    "update_frame_2 = pqca.UpdateFrame(tes_2,  qiskit_circuit=qc2)"
   ]
  },
  {
   "cell_type": "code",
   "execution_count": 21,
   "id": "43c56fb4-152a-44ae-b5e5-6c6076697c2d",
   "metadata": {},
   "outputs": [],
   "source": [
    "automaton = pqca.Automaton(initial_state, [update_frame_1, update_frame_2], pqca.backend.qiskit())"
   ]
  },
  {
   "cell_type": "code",
   "execution_count": 381,
   "id": "d306cc76-8998-42b3-aa80-0b8863c8f6f6",
   "metadata": {
    "scrolled": true
   },
   "outputs": [
    {
     "data": {
      "text/html": [
       "<pre style=\"word-wrap: normal;white-space: pre;background: #fff0;line-height: 1.1;font-family: &quot;Courier New&quot;,Courier,monospace\">      ┌───┐          \n",
       " q_0: ┤ H ├──■───────\n",
       "      ├───┤┌─┴─┐     \n",
       " q_1: ┤ H ├┤ X ├─────\n",
       "      ├───┤└───┘     \n",
       " q_2: ┤ H ├──■────■──\n",
       "      ├───┤  │    │  \n",
       " q_3: ┤ H ├──■────┼──\n",
       "      ├───┤     ┌─┴─┐\n",
       " q_4: ┤ H ├─────┤ X ├\n",
       "      ├───┤     └─┬─┘\n",
       " q_5: ┤ H ├───────■──\n",
       "      ├───┤          \n",
       " q_6: ┤ H ├──■───────\n",
       "      ├───┤┌─┴─┐     \n",
       " q_7: ┤ H ├┤ X ├─────\n",
       "      ├───┤└───┘     \n",
       " q_8: ┤ H ├──■────■──\n",
       "      ├───┤  │    │  \n",
       " q_9: ┤ H ├──■────┼──\n",
       "      ├───┤     ┌─┴─┐\n",
       "q_10: ┤ H ├─────┤ X ├\n",
       "      ├───┤     └─┬─┘\n",
       "q_11: ┤ H ├───────■──\n",
       "      ├───┤          \n",
       "q_12: ┤ H ├──■───────\n",
       "      ├───┤┌─┴─┐     \n",
       "q_13: ┤ H ├┤ X ├─────\n",
       "      ├───┤└───┘     \n",
       "q_14: ┤ H ├──■────■──\n",
       "      ├───┤  │    │  \n",
       "q_15: ┤ H ├──■────┼──\n",
       "      ├───┤     ┌─┴─┐\n",
       "q_16: ┤ H ├─────┤ X ├\n",
       "      ├───┤     └─┬─┘\n",
       "q_17: ┤ H ├───────■──\n",
       "      ├───┤          \n",
       "q_18: ┤ H ├──■───────\n",
       "      ├───┤┌─┴─┐     \n",
       "q_19: ┤ H ├┤ X ├─────\n",
       "      ├───┤└───┘     \n",
       "q_20: ┤ H ├──■────■──\n",
       "      ├───┤  │    │  \n",
       "q_21: ┤ H ├──■────┼──\n",
       "      ├───┤     ┌─┴─┐\n",
       "q_22: ┤ H ├─────┤ X ├\n",
       "      ├───┤     └─┬─┘\n",
       "q_23: ┤ H ├───────■──\n",
       "      ├───┤          \n",
       "q_24: ┤ H ├──■───────\n",
       "      ├───┤┌─┴─┐     \n",
       "q_25: ┤ H ├┤ X ├─────\n",
       "      ├───┤└───┘     \n",
       "q_26: ┤ H ├──■────■──\n",
       "      ├───┤  │    │  \n",
       "q_27: ┤ H ├──■────┼──\n",
       "      ├───┤     ┌─┴─┐\n",
       "q_28: ┤ H ├─────┤ X ├\n",
       "      ├───┤     └─┬─┘\n",
       "q_29: ┤ H ├───────■──\n",
       "      ├───┤          \n",
       "q_30: ┤ H ├──■───────\n",
       "      ├───┤┌─┴─┐     \n",
       "q_31: ┤ H ├┤ X ├─────\n",
       "      ├───┤└───┘     \n",
       "q_32: ┤ H ├──■────■──\n",
       "      ├───┤  │    │  \n",
       "q_33: ┤ H ├──■────┼──\n",
       "      ├───┤     ┌─┴─┐\n",
       "q_34: ┤ H ├─────┤ X ├\n",
       "      ├───┤     └─┬─┘\n",
       "q_35: ┤ H ├───────■──\n",
       "      ├───┤          \n",
       "q_36: ┤ H ├──■───────\n",
       "      ├───┤┌─┴─┐     \n",
       "q_37: ┤ H ├┤ X ├─────\n",
       "      ├───┤└───┘     \n",
       "q_38: ┤ H ├──■────■──\n",
       "      ├───┤  │    │  \n",
       "q_39: ┤ H ├──■────┼──\n",
       "      ├───┤     ┌─┴─┐\n",
       "q_40: ┤ H ├─────┤ X ├\n",
       "      ├───┤     └─┬─┘\n",
       "q_41: ┤ H ├───────■──\n",
       "      ├───┤          \n",
       "q_42: ┤ H ├──■───────\n",
       "      ├───┤┌─┴─┐     \n",
       "q_43: ┤ H ├┤ X ├─────\n",
       "      ├───┤└───┘     \n",
       "q_44: ┤ H ├──■────■──\n",
       "      ├───┤  │    │  \n",
       "q_45: ┤ H ├──■────┼──\n",
       "      ├───┤     ┌─┴─┐\n",
       "q_46: ┤ H ├─────┤ X ├\n",
       "      ├───┤     └─┬─┘\n",
       "q_47: ┤ H ├───────■──\n",
       "      ├───┤          \n",
       "q_48: ┤ H ├──■───────\n",
       "      ├───┤┌─┴─┐     \n",
       "q_49: ┤ H ├┤ X ├─────\n",
       "      ├───┤└───┘     \n",
       "q_50: ┤ H ├──■────■──\n",
       "      ├───┤  │    │  \n",
       "q_51: ┤ H ├──■────┼──\n",
       "      ├───┤     ┌─┴─┐\n",
       "q_52: ┤ H ├─────┤ X ├\n",
       "      ├───┤     └─┬─┘\n",
       "q_53: ┤ H ├───────■──\n",
       "      └───┘          </pre>"
      ],
      "text/plain": [
       "      ┌───┐          \n",
       " q_0: ┤ H ├──■───────\n",
       "      ├───┤┌─┴─┐     \n",
       " q_1: ┤ H ├┤ X ├─────\n",
       "      ├───┤└───┘     \n",
       " q_2: ┤ H ├──■────■──\n",
       "      ├───┤  │    │  \n",
       " q_3: ┤ H ├──■────┼──\n",
       "      ├───┤     ┌─┴─┐\n",
       " q_4: ┤ H ├─────┤ X ├\n",
       "      ├───┤     └─┬─┘\n",
       " q_5: ┤ H ├───────■──\n",
       "      ├───┤          \n",
       " q_6: ┤ H ├──■───────\n",
       "      ├───┤┌─┴─┐     \n",
       " q_7: ┤ H ├┤ X ├─────\n",
       "      ├───┤└───┘     \n",
       " q_8: ┤ H ├──■────■──\n",
       "      ├───┤  │    │  \n",
       " q_9: ┤ H ├──■────┼──\n",
       "      ├───┤     ┌─┴─┐\n",
       "q_10: ┤ H ├─────┤ X ├\n",
       "      ├───┤     └─┬─┘\n",
       "q_11: ┤ H ├───────■──\n",
       "      ├───┤          \n",
       "q_12: ┤ H ├──■───────\n",
       "      ├───┤┌─┴─┐     \n",
       "q_13: ┤ H ├┤ X ├─────\n",
       "      ├───┤└───┘     \n",
       "q_14: ┤ H ├──■────■──\n",
       "      ├───┤  │    │  \n",
       "q_15: ┤ H ├──■────┼──\n",
       "      ├───┤     ┌─┴─┐\n",
       "q_16: ┤ H ├─────┤ X ├\n",
       "      ├───┤     └─┬─┘\n",
       "q_17: ┤ H ├───────■──\n",
       "      ├───┤          \n",
       "q_18: ┤ H ├──■───────\n",
       "      ├───┤┌─┴─┐     \n",
       "q_19: ┤ H ├┤ X ├─────\n",
       "      ├───┤└───┘     \n",
       "q_20: ┤ H ├──■────■──\n",
       "      ├───┤  │    │  \n",
       "q_21: ┤ H ├──■────┼──\n",
       "      ├───┤     ┌─┴─┐\n",
       "q_22: ┤ H ├─────┤ X ├\n",
       "      ├───┤     └─┬─┘\n",
       "q_23: ┤ H ├───────■──\n",
       "      ├───┤          \n",
       "q_24: ┤ H ├──■───────\n",
       "      ├───┤┌─┴─┐     \n",
       "q_25: ┤ H ├┤ X ├─────\n",
       "      ├───┤└───┘     \n",
       "q_26: ┤ H ├──■────■──\n",
       "      ├───┤  │    │  \n",
       "q_27: ┤ H ├──■────┼──\n",
       "      ├───┤     ┌─┴─┐\n",
       "q_28: ┤ H ├─────┤ X ├\n",
       "      ├───┤     └─┬─┘\n",
       "q_29: ┤ H ├───────■──\n",
       "      ├───┤          \n",
       "q_30: ┤ H ├──■───────\n",
       "      ├───┤┌─┴─┐     \n",
       "q_31: ┤ H ├┤ X ├─────\n",
       "      ├───┤└───┘     \n",
       "q_32: ┤ H ├──■────■──\n",
       "      ├───┤  │    │  \n",
       "q_33: ┤ H ├──■────┼──\n",
       "      ├───┤     ┌─┴─┐\n",
       "q_34: ┤ H ├─────┤ X ├\n",
       "      ├───┤     └─┬─┘\n",
       "q_35: ┤ H ├───────■──\n",
       "      ├───┤          \n",
       "q_36: ┤ H ├──■───────\n",
       "      ├───┤┌─┴─┐     \n",
       "q_37: ┤ H ├┤ X ├─────\n",
       "      ├───┤└───┘     \n",
       "q_38: ┤ H ├──■────■──\n",
       "      ├───┤  │    │  \n",
       "q_39: ┤ H ├──■────┼──\n",
       "      ├───┤     ┌─┴─┐\n",
       "q_40: ┤ H ├─────┤ X ├\n",
       "      ├───┤     └─┬─┘\n",
       "q_41: ┤ H ├───────■──\n",
       "      ├───┤          \n",
       "q_42: ┤ H ├──■───────\n",
       "      ├───┤┌─┴─┐     \n",
       "q_43: ┤ H ├┤ X ├─────\n",
       "      ├───┤└───┘     \n",
       "q_44: ┤ H ├──■────■──\n",
       "      ├───┤  │    │  \n",
       "q_45: ┤ H ├──■────┼──\n",
       "      ├───┤     ┌─┴─┐\n",
       "q_46: ┤ H ├─────┤ X ├\n",
       "      ├───┤     └─┬─┘\n",
       "q_47: ┤ H ├───────■──\n",
       "      ├───┤          \n",
       "q_48: ┤ H ├──■───────\n",
       "      ├───┤┌─┴─┐     \n",
       "q_49: ┤ H ├┤ X ├─────\n",
       "      ├───┤└───┘     \n",
       "q_50: ┤ H ├──■────■──\n",
       "      ├───┤  │    │  \n",
       "q_51: ┤ H ├──■────┼──\n",
       "      ├───┤     ┌─┴─┐\n",
       "q_52: ┤ H ├─────┤ X ├\n",
       "      ├───┤     └─┬─┘\n",
       "q_53: ┤ H ├───────■──\n",
       "      └───┘          "
      ]
     },
     "execution_count": 381,
     "metadata": {},
     "output_type": "execute_result"
    }
   ],
   "source": [
    "automaton.update_circuit.draw()"
   ]
  },
  {
   "cell_type": "code",
   "execution_count": 23,
   "id": "006e9652-7f3e-4855-baca-1f7f55582ff9",
   "metadata": {
    "editable": true,
    "slideshow": {
     "slide_type": ""
    },
    "tags": []
   },
   "outputs": [],
   "source": [
    "class Qubit_Generator:\n",
    "    def __next__(self):\n",
    "        many_bits = next(automaton)\n",
    "        return [[many_bits[i+j] for j in range(size[0])] for i in range(size[1])]\n",
    "QBG = Qubit_Generator()"
   ]
  },
  {
   "cell_type": "code",
   "execution_count": 24,
   "id": "016a264d-76da-42c1-afb4-a12f2fb873c4",
   "metadata": {
    "scrolled": true
   },
   "outputs": [],
   "source": [
    "#bits = next(QBG)\n",
    "#bits\n",
    "cached_states = [next(QBG) for _ in range(40)]\n",
    "    "
   ]
  },
  {
   "cell_type": "code",
   "execution_count": 25,
   "id": "a0f3fe86-f595-49d6-bdd5-1103b2a567f8",
   "metadata": {
    "editable": true,
    "slideshow": {
     "slide_type": ""
    },
    "tags": []
   },
   "outputs": [],
   "source": [
    "import ipywidgets\n",
    "def visualise_next_n_steps(cached_states, n):\n",
    "    def show_step(iteration):\n",
    "        return draw_bits(cached_states[iteration])\n",
    "    return ipywidgets.interact(show_step,iteration=ipywidgets.IntSlider(min=0, max=n-1, step=1, value=0))\n"
   ]
  },
  {
   "cell_type": "code",
   "execution_count": 26,
   "id": "5d35a356-2d7c-4784-ab31-3dc4e3661e4d",
   "metadata": {},
   "outputs": [
    {
     "data": {
      "application/vnd.jupyter.widget-view+json": {
       "model_id": "f2656f55435b4dc995e54790de5879ff",
       "version_major": 2,
       "version_minor": 0
      },
      "text/plain": [
       "interactive(children=(IntSlider(value=0, description='iteration', max=39), Output()), _dom_classes=('widget-in…"
      ]
     },
     "metadata": {},
     "output_type": "display_data"
    }
   ],
   "source": [
    "visualise_next_n_steps(cached_states, 40)\n",
    "pass"
   ]
  },
  {
   "cell_type": "code",
   "execution_count": null,
   "id": "a81610db-ca9f-4ed2-b195-92da5b1e68d5",
   "metadata": {},
   "outputs": [],
   "source": []
  },
  {
   "cell_type": "markdown",
   "id": "da44ebd8-c636-4444-9821-c6c739d14aa9",
   "metadata": {},
   "source": [
    "### Bit Breakdown\n",
    "Currently:\n",
    " - 'Tabla drums' (4x4)\n",
    " - 'Sitar' (5x5)"
   ]
  },
  {
   "cell_type": "code",
   "execution_count": 110,
   "id": "d703955b-c2e2-4f3e-91c4-a654db8c8e21",
   "metadata": {},
   "outputs": [],
   "source": [
    "import numpy as np\n",
    "def bit_breakdown(bit_grid):\n",
    "    \"\"\"Split the large grid into appropriate subgrids.\"\"\"\n",
    "    return {\"tabla\": np.array([row[0:4] for row in bit_grid]),\n",
    "            \"sitar\": np.array([row[4:9] for row in bit_grid]),\n",
    "           # \"instruments\": [row[5:9] for row in bit_grid],\n",
    "    }"
   ]
  },
  {
   "cell_type": "code",
   "execution_count": 372,
   "id": "33b4fb8c-96c4-4004-8074-021131344230",
   "metadata": {},
   "outputs": [
    {
     "data": {
      "text/plain": [
       "array([[0, 0, 1, 1, 1],\n",
       "       [0, 1, 1, 1, 1],\n",
       "       [1, 1, 1, 1, 0],\n",
       "       [1, 1, 1, 0, 0],\n",
       "       [1, 1, 0, 0, 0],\n",
       "       [1, 0, 0, 0, 0]])"
      ]
     },
     "execution_count": 372,
     "metadata": {},
     "output_type": "execute_result"
    }
   ],
   "source": [
    "tabla = bit_breakdown(cached_states[2])['tabla']\n",
    "tabla\n",
    "sitar = bit_breakdown(cached_states[9])['sitar']\n",
    "sitar\n"
   ]
  },
  {
   "cell_type": "code",
   "execution_count": 106,
   "id": "20ac4094-5819-4e25-bae8-10f9d69edbc4",
   "metadata": {},
   "outputs": [
    {
     "data": {
      "text/plain": [
       "array([[2., 3., 1., 3.],\n",
       "       [2., 0., 3., 1.],\n",
       "       [2., 3., 1., 3.],\n",
       "       [2., 0., 3., 1.],\n",
       "       [2., 3., 1., 3.],\n",
       "       [2., 0., 3., 1.]])"
      ]
     },
     "execution_count": 106,
     "metadata": {},
     "output_type": "execute_result"
    }
   ],
   "source": [
    "criss_cross_sum(tabla,0)['diag']"
   ]
  },
  {
   "cell_type": "code",
   "execution_count": 303,
   "id": "abb01da3-fb9a-488a-a793-0aaaa6956242",
   "metadata": {},
   "outputs": [],
   "source": [
    "def criss_cross_int(state):\n",
    "    #creates new arrays with binary values from neighbours to integer\n",
    "    wx = len(state)\n",
    "    wy = len(state[0])\n",
    "    cross_int = np.zeros((wx,wy))\n",
    "    diag_int = np.zeros((wx,wy))\n",
    "    for i in range(wx):\n",
    "        for j in range(wy):\n",
    "            cross_int[i,j] = bit_seq_to_int( np.array(list(neighbours_cross(state,[i,j]).values())))\n",
    "            diag_int[i,j] =  bit_seq_to_int(np.array(list(neighbours_diag(state,[i,j]).values())))\n",
    "    return {\"cross\": cross_int, \"diag\": diag_int}\n",
    "\n",
    "def criss_cross_sum(state,shift=-1):\n",
    "    #creates new arrays with summed values from neighbours\n",
    "    wx = len(state)\n",
    "    wy = len(state[0])\n",
    "    cross_sum = np.zeros((wx,wy))\n",
    "    diag_sum = np.zeros((wx,wy))\n",
    "    for i in range(wx):\n",
    "        for j in range(wy):\n",
    "            cross_sum[i,j] = np.array(list(neighbours_cross(state,[i,j]).values())).sum()+shift\n",
    "            diag_sum[i,j] =  np.array(list(neighbours_diag(state,[i,j]).values())).sum()+shift\n",
    "    return {\"cross\": cross_sum, \"diag\": diag_sum}\n",
    "\n",
    "def grid_to_seq(grid,len = 16, mod=20e3,shift = 0): \n",
    "    seq = np.array([float(i)%mod + shift if i > 0 else float(i)%-mod + shift for i in grid.flatten()])\n",
    "    return seq[0:len]"
   ]
  },
  {
   "cell_type": "code",
   "execution_count": 302,
   "id": "ddeaa23e-fb2a-434d-b211-c11604dfe58f",
   "metadata": {},
   "outputs": [
    {
     "data": {
      "text/plain": [
       "4"
      ]
     },
     "execution_count": 302,
     "metadata": {},
     "output_type": "execute_result"
    }
   ],
   "source": [
    "-1 % 5\n",
    "    "
   ]
  },
  {
   "cell_type": "code",
   "execution_count": 304,
   "id": "7b9b9816-0c0e-4f4f-8d94-3db70f1b2e8d",
   "metadata": {},
   "outputs": [
    {
     "data": {
      "text/plain": [
       "array([-4.,  0.,  1.,  1., -4., -1.])"
      ]
     },
     "execution_count": 304,
     "metadata": {},
     "output_type": "execute_result"
    }
   ],
   "source": [
    "a = np.array([-999,0,1,6,-4,-1])\n",
    "grid_to_seq(a,16,5)"
   ]
  },
  {
   "cell_type": "code",
   "execution_count": 100,
   "id": "4b04b51d-39ed-490b-9845-060c5fb61e59",
   "metadata": {},
   "outputs": [
    {
     "data": {
      "text/plain": [
       "{'cross': array([[13., 12.,  2., 14.,  0.],\n",
       "        [12.,  3., 15.,  0.,  3.],\n",
       "        [ 1., 15.,  0.,  3.,  0.],\n",
       "        [13.,  0.,  3.,  0.,  0.],\n",
       "        [ 0.,  7.,  4.,  0.,  4.],\n",
       "        [13., 12.,  2., 14.,  0.]]),\n",
       " 'diag': array([[ 8.,  6., 12.,  0.,  4.],\n",
       "        [ 1., 13.,  2.,  7.,  0.],\n",
       "        [ 9.,  2.,  7.,  0.,  2.],\n",
       "        [ 0.,  7.,  0.,  2.,  0.],\n",
       "        [ 9.,  8.,  6., 12.,  0.],\n",
       "        [ 8.,  6., 12.,  0.,  4.]])}"
      ]
     },
     "execution_count": 100,
     "metadata": {},
     "output_type": "execute_result"
    }
   ],
   "source": [
    "criss_cross_int(sitar)"
   ]
  },
  {
   "cell_type": "code",
   "execution_count": 203,
   "id": "f1bc7234-254f-4ec1-beb4-c6c4ae50a8ec",
   "metadata": {
    "scrolled": true
   },
   "outputs": [
    {
     "data": {
      "text/plain": [
       "array([[ 0.,  1., -1.,  2., -2.],\n",
       "       [ 0.,  0.,  1., -1., -1.],\n",
       "       [ 1.,  1., -1., -1.,  2.],\n",
       "       [-1., -1., -1.,  2., -3.],\n",
       "       [ 0.,  0.,  1., -2.,  3.],\n",
       "       [ 0.,  1., -1.,  2., -2.]])"
      ]
     },
     "execution_count": 203,
     "metadata": {},
     "output_type": "execute_result"
    }
   ],
   "source": [
    "criss_cross_sum(sitar)['cross']-criss_cross_sum(sitar)['diag']"
   ]
  },
  {
   "cell_type": "code",
   "execution_count": 82,
   "id": "32b15ae2-834e-46af-b63b-f4bb8bb15dcf",
   "metadata": {
    "scrolled": true
   },
   "outputs": [
    {
     "data": {
      "text/plain": [
       "{'cross': array([[ 3.,  0., 13.,  1.],\n",
       "        [ 2., 12.,  0., 15.],\n",
       "        [12.,  0., 15., 12.],\n",
       "        [ 2., 11.,  8.,  7.],\n",
       "        [ 3.,  0., 13.,  1.],\n",
       "        [ 2., 12.,  0., 15.]]),\n",
       " 'diag': array([[ 6., 11.,  1., 14.],\n",
       "        [10.,  0., 13.,  8.],\n",
       "        [ 6., 13.,  8.,  7.],\n",
       "        [ 5.,  0., 11.,  1.],\n",
       "        [ 6., 11.,  1., 14.],\n",
       "        [10.,  0., 13.,  8.]])}"
      ]
     },
     "execution_count": 82,
     "metadata": {},
     "output_type": "execute_result"
    }
   ],
   "source": [
    "criss_cross_int(tabla)"
   ]
  },
  {
   "cell_type": "code",
   "execution_count": 98,
   "id": "01ad363e-a2ae-439d-bcb3-4b036a2b1373",
   "metadata": {},
   "outputs": [
    {
     "data": {
      "text/plain": [
       "array([ 3.,  0., 13.,  1.,  2., 12.,  0., 15., 12.,  0., 15., 12.,  2.,\n",
       "       11.,  8.,  7.,  3.,  0., 13.,  1.,  2., 12.,  0., 15.])"
      ]
     },
     "execution_count": 98,
     "metadata": {},
     "output_type": "execute_result"
    }
   ],
   "source": [
    "#grid to seq\n",
    "criss_cross_int(tabla)['cross'].flatten()\n"
   ]
  },
  {
   "cell_type": "markdown",
   "id": "1d4baef6-ea2c-44ab-a40f-9591863d2131",
   "metadata": {},
   "source": [
    "for tabla:\n",
    "\n",
    "    - bitgrid is on off?\n",
    "    - cross is sample\n",
    "    - diag is duration\n",
    "\n",
    "for sitar:\n",
    "\n",
    "    - cross is scale\n",
    "    - diag is tuning/duration\n",
    "    - bitgrid is onoff\n",
    "    - sum (cross+diag) is octave\n",
    "    - sum(cross) - sum(diag) is glide (-1,0,1) with (array.normalize * 2 - 1) in SC"
   ]
  },
  {
   "cell_type": "code",
   "execution_count": 193,
   "id": "13839391-ed71-48ab-8967-454c1fc70f37",
   "metadata": {},
   "outputs": [
    {
     "data": {
      "text/plain": [
       "array([13., 12.,  2., 14.,  0., 12.,  3., 15.,  0.,  3.,  1., 15.,  0.,\n",
       "        3.,  0., 13.,  0.,  3.,  0.,  0.,  0.,  7.,  4.,  0.,  4., 13.,\n",
       "       12.,  2., 14.,  0.])"
      ]
     },
     "execution_count": 193,
     "metadata": {},
     "output_type": "execute_result"
    }
   ],
   "source": [
    "onoff = grid_to_seq(criss_cross_int(sitar)['cross'],20)\n",
    "onoff"
   ]
  },
  {
   "cell_type": "code",
   "execution_count": 199,
   "id": "0358f205-5ff3-44ca-abf4-299c95ec2251",
   "metadata": {},
   "outputs": [],
   "source": [
    "#onoff = [3, 0, 2, 1, 2, 1, 0, 4, 1, 0, 4, 1, 2, 0, 8, 7, 3, 0, 2, 1, 2, 1, 0, 4]\n",
    "\n",
    "client.send_message(\"/sitar/scale\", grid_to_seq(criss_cross_int(sitar)['cross'],16))\n",
    "\n",
    "\n"
   ]
  },
  {
   "cell_type": "code",
   "execution_count": 141,
   "id": "5c5e5ad7-0e2e-422a-b7e2-fc43595b5d89",
   "metadata": {},
   "outputs": [
    {
     "data": {
      "text/plain": [
       "99"
      ]
     },
     "execution_count": 141,
     "metadata": {},
     "output_type": "execute_result"
    }
   ],
   "source": [
    "-1%100"
   ]
  },
  {
   "cell_type": "code",
   "execution_count": 379,
   "id": "59dc1ea3-dd6d-4d07-b253-bff2b340e58e",
   "metadata": {},
   "outputs": [
    {
     "data": {
      "text/plain": [
       "23"
      ]
     },
     "execution_count": 379,
     "metadata": {},
     "output_type": "execute_result"
    }
   ],
   "source": [
    "from pythonosc import udp_client\n",
    "\n",
    "# Set up the OSC client\n",
    "ip = \"127.0.0.1\"  # SuperCollider's IP address (localhost in this case)\n",
    "port = 57120  # SuperCollider's default OSC port\n",
    "client = udp_client.SimpleUDPClient(ip, port)\n",
    "\n",
    "state = state + 1\n",
    "\n",
    "tabla = bit_breakdown(cached_states[state])['tabla']\n",
    "sitar = bit_breakdown(cached_states[state])['sitar']\n",
    "\n",
    "tabla_len = 24\n",
    "client.send_message(\"/tabla/onoff\", grid_to_seq(tabla,tabla_len))\n",
    "client.send_message(\"/tabla/samparr\", grid_to_seq(criss_cross_int(tabla)['cross'],tabla_len,9))\n",
    "client.send_message(\"/tabla/durarr\", grid_to_seq(criss_cross_int(tabla)['diag'],tabla_len))\n",
    "client.send_message(\"/tabla/amparr\", grid_to_seq(criss_cross_sum(tabla,0)['diag'],tabla_len,6,1))\n",
    "\n",
    "sitar_len = 30\n",
    "client.send_message(\"/sitar/onoff\", grid_to_seq(sitar,sitar_len,2))               \n",
    "client.send_message(\"/sitar/scale\", grid_to_seq(criss_cross_int(sitar)['cross'],sitar_len))\n",
    "client.send_message(\"/sitar/durarr\", grid_to_seq(criss_cross_int(sitar)['diag'],sitar_len))\n",
    "octave = criss_cross_sum(sitar)['cross']+criss_cross_sum(sitar)['diag']\n",
    "octave = octave - octave.min() - 1\n",
    "client.send_message(\"/sitar/octave\", grid_to_seq(octave,sitar_len,2,-0.1))\n",
    "client.send_message(\"/sitar/glide\" , abs(grid_to_seq(criss_cross_sum(sitar)['cross']-criss_cross_sum(sitar)['diag'],sitar_len,3)))\n",
    "#client.send_message(\"/sitar/glide\", grid_to_seq(criss_cross_sum(sitar)['cross']-criss_cross_sum(sitar)['diag'],16,3))\n",
    "\n",
    "\n",
    "#decaymessage range(-3,2)\n",
    "\n",
    "\n",
    "state\n",
    "\n",
    "\n",
    "\n",
    "\n",
    "\n"
   ]
  },
  {
   "cell_type": "code",
   "execution_count": 365,
   "id": "29f6a6b5-067a-42a3-bad5-e8d033c76e7a",
   "metadata": {},
   "outputs": [
    {
     "data": {
      "text/plain": [
       "array([0., 0., 0., 1., 0., 0., 0., 1., 0., 1., 0., 1., 0., 1., 1., 1.])"
      ]
     },
     "execution_count": 365,
     "metadata": {},
     "output_type": "execute_result"
    }
   ],
   "source": [
    "abs(grid_to_seq(criss_cross_sum(sitar)['cross']-criss_cross_sum(sitar)['diag'],16,2))\n",
    "grid_to_seq(sitar,16,2)\n"
   ]
  },
  {
   "cell_type": "code",
   "execution_count": 236,
   "id": "8af187f9-8092-4033-90b0-042f1568027f",
   "metadata": {},
   "outputs": [],
   "source": [
    "client.send_message(\"/sitar/octave\", grid_to_seq(criss_cross_sum(sitar)['cross']+criss_cross_sum(sitar)['diag']))\n"
   ]
  },
  {
   "cell_type": "code",
   "execution_count": 221,
   "id": "990e917b-2a4e-4cfb-93f9-674632dde1d8",
   "metadata": {},
   "outputs": [],
   "source": [
    "client.send_message(\"/sitar/onoff\", grid_to_seq(sitar))"
   ]
  },
  {
   "cell_type": "code",
   "execution_count": 164,
   "id": "94e6d30d-5e3a-4575-8562-f58210156113",
   "metadata": {},
   "outputs": [
    {
     "data": {
      "text/plain": [
       "array([3, 0, 2, 1, 2, 1, 0, 4, 1, 0, 4, 1, 2, 0, 8, 7, 3, 0, 2, 1, 2, 1,\n",
       "       0, 4])"
      ]
     },
     "execution_count": 164,
     "metadata": {},
     "output_type": "execute_result"
    }
   ],
   "source": [
    "grid_to_seq(criss_cross_int(tabla)['cross'],11)"
   ]
  },
  {
   "cell_type": "code",
   "execution_count": null,
   "id": "a8a43849-3ac3-4832-9d6f-995694d860bd",
   "metadata": {},
   "outputs": [],
   "source": []
  }
 ],
 "metadata": {
  "experimentalDisableDocumentWideUndoRedo": true,
  "kernelspec": {
   "display_name": "quantumlife",
   "language": "python",
   "name": "quantumlife"
  },
  "language_info": {
   "codemirror_mode": {
    "name": "ipython",
    "version": 3
   },
   "file_extension": ".py",
   "mimetype": "text/x-python",
   "name": "python",
   "nbconvert_exporter": "python",
   "pygments_lexer": "ipython3",
   "version": "3.11.3"
  }
 },
 "nbformat": 4,
 "nbformat_minor": 5
}
